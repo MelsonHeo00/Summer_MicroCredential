{
  "nbformat": 4,
  "nbformat_minor": 0,
  "metadata": {
    "colab": {
      "name": "Project1.ipynb",
      "provenance": [],
      "authorship_tag": "ABX9TyPJNeVCzqWGOgDhjv+CEay+",
      "include_colab_link": true
    },
    "kernelspec": {
      "name": "python3",
      "display_name": "Python 3"
    },
    "language_info": {
      "name": "python"
    }
  },
  "cells": [
    {
      "cell_type": "markdown",
      "metadata": {
        "id": "view-in-github",
        "colab_type": "text"
      },
      "source": [
        "<a href=\"https://colab.research.google.com/github/MelsonHeo00/Summer_MicroCredential/blob/main/Project1.ipynb\" target=\"_parent\"><img src=\"https://colab.research.google.com/assets/colab-badge.svg\" alt=\"Open In Colab\"/></a>"
      ]
    },
    {
      "cell_type": "markdown",
      "source": [
        "# Project 1: Convert a Number into Binary, Octal and Hexadecimal"
      ],
      "metadata": {
        "id": "XMnHS0VTJ7ym"
      }
    },
    {
      "cell_type": "code",
      "source": [
        "user_input = int(input(\"Which number will you like to be convered to a binary: \"))\n",
        "# Action: User will input any number they choose to convert\n",
        "# The variable user_input will covnert the string to an integer\n",
        "# The input will ask the user a question for which number they would like to convert\n",
        "print(\"Here is your binary output: \" + str(bin(user_input)))\n",
        "# Outputs the converison for binary\n",
        "# The function bin will convert the number to binary form\n",
        "# After the conversion, the converison will be converted to a string\n",
        "print(\"Here is your octal output: \" + str(oct(user_input)))\n",
        "# Outputs the converison for octal\n",
        "# The function oct will convert the number to octal form\n",
        "# After the conversion, the converison will be converted to a string\n",
        "print(\"Here is your hexadecimal output: \" + str(hex(user_input)))\n",
        "# Outputs the converison for hexadecimal\n",
        "# The function hex will convert the number to hexadecimal form\n",
        "# After the conversion, the converison will be converted to a string\n",
        "\n",
        "# Side note: I have found the function bin, oct, and hex from searching up on Google. From the research, the three functions are built-in function in Python."
      ],
      "metadata": {
        "colab": {
          "base_uri": "https://localhost:8080/"
        },
        "id": "J2aQ6nNNKDRD",
        "outputId": "5ee132e6-8186-4005-9ec4-6fe2e43c7a52"
      },
      "execution_count": null,
      "outputs": [
        {
          "output_type": "stream",
          "name": "stdout",
          "text": [
            "Which number will you like to be convered to a binary: 204\n",
            "Here is your binary output: 0b11001100\n",
            "Here is your octal output: 0o314\n",
            "Here is your hexadecimal output: 0xcc\n"
          ]
        }
      ]
    },
    {
      "cell_type": "code",
      "source": [
        ""
      ],
      "metadata": {
        "id": "6B0ZwtWiMGyF"
      },
      "execution_count": null,
      "outputs": []
    }
  ]
}