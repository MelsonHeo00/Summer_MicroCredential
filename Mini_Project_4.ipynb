{
  "nbformat": 4,
  "nbformat_minor": 0,
  "metadata": {
    "colab": {
      "name": "Mini Project 4.ipynb",
      "provenance": [],
      "collapsed_sections": [],
      "authorship_tag": "ABX9TyNk21QyHPijOB6hUyxzSaQt",
      "include_colab_link": true
    },
    "kernelspec": {
      "name": "python3",
      "display_name": "Python 3"
    },
    "language_info": {
      "name": "python"
    }
  },
  "cells": [
    {
      "cell_type": "markdown",
      "metadata": {
        "id": "view-in-github",
        "colab_type": "text"
      },
      "source": [
        "<a href=\"https://colab.research.google.com/github/MelsonHeo00/Summer_MicroCredential/blob/main/Mini_Project_4.ipynb\" target=\"_parent\"><img src=\"https://colab.research.google.com/assets/colab-badge.svg\" alt=\"Open In Colab\"/></a>"
      ]
    },
    {
      "cell_type": "markdown",
      "source": [
        "#  Part 1: Overview\n",
        "## In this project, we will be going over the data of diabetes within the 10 years mark between 1999 and 2008. In this analysis, we want to predict how often the patient will go back to the hospital based on the other variables."
      ],
      "metadata": {
        "id": "5hOhkKuvboQP"
      }
    },
    {
      "cell_type": "markdown",
      "source": [
        "# Part 2: Data Exploration (EDA) and Data Cleaning"
      ],
      "metadata": {
        "id": "u4qZLJ6HbzbD"
      }
    },
    {
      "cell_type": "markdown",
      "source": [
        "## Loading up the libraries"
      ],
      "metadata": {
        "id": "vX-UCGPeb7am"
      }
    },
    {
      "cell_type": "code",
      "source": [
        "import pandas as pd\n",
        "import seaborn as sns\n",
        "import matplotlib.pyplot as plt\n",
        "import numpy as np\n",
        "import seaborn as sns\n",
        "%matplotlib inline\n",
        "from sklearn.model_selection import train_test_split\n",
        "from sklearn.linear_model import LogisticRegression"
      ],
      "metadata": {
        "id": "2PAs9hPPazBx"
      },
      "execution_count": 1,
      "outputs": []
    },
    {
      "cell_type": "markdown",
      "source": [
        "## Loading up the data"
      ],
      "metadata": {
        "id": "vHPwLZDIcDZe"
      }
    },
    {
      "cell_type": "code",
      "execution_count": 2,
      "metadata": {
        "id": "l6XpLB2nakZq"
      },
      "outputs": [],
      "source": [
        "df = pd.read_csv('https://raw.githubusercontent.com/MelsonHeo00/ML-Data/main/dataset_diabetes.csv')"
      ]
    },
    {
      "cell_type": "markdown",
      "source": [
        "## EDA Part"
      ],
      "metadata": {
        "id": "afCH9Rw0cFwF"
      }
    },
    {
      "cell_type": "code",
      "source": [
        "df.head()"
      ],
      "metadata": {
        "colab": {
          "base_uri": "https://localhost:8080/",
          "height": 403
        },
        "id": "mKvD9ZNha2Qp",
        "outputId": "eae87d2f-8936-4fa8-d6ba-cc7e63e162c7"
      },
      "execution_count": 3,
      "outputs": [
        {
          "output_type": "execute_result",
          "data": {
            "text/plain": [
              "   encounter_id  patient_nbr             race  gender      age weight  \\\n",
              "0       2278392      8222157        Caucasian  Female   [0-10)      ?   \n",
              "1        149190     55629189        Caucasian  Female  [10-20)      ?   \n",
              "2         64410     86047875  AfricanAmerican  Female  [20-30)      ?   \n",
              "3        500364     82442376        Caucasian    Male  [30-40)      ?   \n",
              "4         16680     42519267        Caucasian    Male  [40-50)      ?   \n",
              "\n",
              "   admission_type_id  discharge_disposition_id  admission_source_id  \\\n",
              "0                  6                        25                    1   \n",
              "1                  1                         1                    7   \n",
              "2                  1                         1                    7   \n",
              "3                  1                         1                    7   \n",
              "4                  1                         1                    7   \n",
              "\n",
              "   time_in_hospital  ... citoglipton insulin  glyburide-metformin  \\\n",
              "0                 1  ...          No      No                   No   \n",
              "1                 3  ...          No      Up                   No   \n",
              "2                 2  ...          No      No                   No   \n",
              "3                 2  ...          No      Up                   No   \n",
              "4                 1  ...          No  Steady                   No   \n",
              "\n",
              "   glipizide-metformin  glimepiride-pioglitazone  metformin-rosiglitazone  \\\n",
              "0                   No                        No                       No   \n",
              "1                   No                        No                       No   \n",
              "2                   No                        No                       No   \n",
              "3                   No                        No                       No   \n",
              "4                   No                        No                       No   \n",
              "\n",
              "   metformin-pioglitazone  change diabetesMed readmitted  \n",
              "0                      No      No          No         NO  \n",
              "1                      No      Ch         Yes        >30  \n",
              "2                      No      No         Yes         NO  \n",
              "3                      No      Ch         Yes         NO  \n",
              "4                      No      Ch         Yes         NO  \n",
              "\n",
              "[5 rows x 50 columns]"
            ],
            "text/html": [
              "\n",
              "  <div id=\"df-165ef50a-1fdc-4580-946b-8ee56dbc1b2f\">\n",
              "    <div class=\"colab-df-container\">\n",
              "      <div>\n",
              "<style scoped>\n",
              "    .dataframe tbody tr th:only-of-type {\n",
              "        vertical-align: middle;\n",
              "    }\n",
              "\n",
              "    .dataframe tbody tr th {\n",
              "        vertical-align: top;\n",
              "    }\n",
              "\n",
              "    .dataframe thead th {\n",
              "        text-align: right;\n",
              "    }\n",
              "</style>\n",
              "<table border=\"1\" class=\"dataframe\">\n",
              "  <thead>\n",
              "    <tr style=\"text-align: right;\">\n",
              "      <th></th>\n",
              "      <th>encounter_id</th>\n",
              "      <th>patient_nbr</th>\n",
              "      <th>race</th>\n",
              "      <th>gender</th>\n",
              "      <th>age</th>\n",
              "      <th>weight</th>\n",
              "      <th>admission_type_id</th>\n",
              "      <th>discharge_disposition_id</th>\n",
              "      <th>admission_source_id</th>\n",
              "      <th>time_in_hospital</th>\n",
              "      <th>...</th>\n",
              "      <th>citoglipton</th>\n",
              "      <th>insulin</th>\n",
              "      <th>glyburide-metformin</th>\n",
              "      <th>glipizide-metformin</th>\n",
              "      <th>glimepiride-pioglitazone</th>\n",
              "      <th>metformin-rosiglitazone</th>\n",
              "      <th>metformin-pioglitazone</th>\n",
              "      <th>change</th>\n",
              "      <th>diabetesMed</th>\n",
              "      <th>readmitted</th>\n",
              "    </tr>\n",
              "  </thead>\n",
              "  <tbody>\n",
              "    <tr>\n",
              "      <th>0</th>\n",
              "      <td>2278392</td>\n",
              "      <td>8222157</td>\n",
              "      <td>Caucasian</td>\n",
              "      <td>Female</td>\n",
              "      <td>[0-10)</td>\n",
              "      <td>?</td>\n",
              "      <td>6</td>\n",
              "      <td>25</td>\n",
              "      <td>1</td>\n",
              "      <td>1</td>\n",
              "      <td>...</td>\n",
              "      <td>No</td>\n",
              "      <td>No</td>\n",
              "      <td>No</td>\n",
              "      <td>No</td>\n",
              "      <td>No</td>\n",
              "      <td>No</td>\n",
              "      <td>No</td>\n",
              "      <td>No</td>\n",
              "      <td>No</td>\n",
              "      <td>NO</td>\n",
              "    </tr>\n",
              "    <tr>\n",
              "      <th>1</th>\n",
              "      <td>149190</td>\n",
              "      <td>55629189</td>\n",
              "      <td>Caucasian</td>\n",
              "      <td>Female</td>\n",
              "      <td>[10-20)</td>\n",
              "      <td>?</td>\n",
              "      <td>1</td>\n",
              "      <td>1</td>\n",
              "      <td>7</td>\n",
              "      <td>3</td>\n",
              "      <td>...</td>\n",
              "      <td>No</td>\n",
              "      <td>Up</td>\n",
              "      <td>No</td>\n",
              "      <td>No</td>\n",
              "      <td>No</td>\n",
              "      <td>No</td>\n",
              "      <td>No</td>\n",
              "      <td>Ch</td>\n",
              "      <td>Yes</td>\n",
              "      <td>&gt;30</td>\n",
              "    </tr>\n",
              "    <tr>\n",
              "      <th>2</th>\n",
              "      <td>64410</td>\n",
              "      <td>86047875</td>\n",
              "      <td>AfricanAmerican</td>\n",
              "      <td>Female</td>\n",
              "      <td>[20-30)</td>\n",
              "      <td>?</td>\n",
              "      <td>1</td>\n",
              "      <td>1</td>\n",
              "      <td>7</td>\n",
              "      <td>2</td>\n",
              "      <td>...</td>\n",
              "      <td>No</td>\n",
              "      <td>No</td>\n",
              "      <td>No</td>\n",
              "      <td>No</td>\n",
              "      <td>No</td>\n",
              "      <td>No</td>\n",
              "      <td>No</td>\n",
              "      <td>No</td>\n",
              "      <td>Yes</td>\n",
              "      <td>NO</td>\n",
              "    </tr>\n",
              "    <tr>\n",
              "      <th>3</th>\n",
              "      <td>500364</td>\n",
              "      <td>82442376</td>\n",
              "      <td>Caucasian</td>\n",
              "      <td>Male</td>\n",
              "      <td>[30-40)</td>\n",
              "      <td>?</td>\n",
              "      <td>1</td>\n",
              "      <td>1</td>\n",
              "      <td>7</td>\n",
              "      <td>2</td>\n",
              "      <td>...</td>\n",
              "      <td>No</td>\n",
              "      <td>Up</td>\n",
              "      <td>No</td>\n",
              "      <td>No</td>\n",
              "      <td>No</td>\n",
              "      <td>No</td>\n",
              "      <td>No</td>\n",
              "      <td>Ch</td>\n",
              "      <td>Yes</td>\n",
              "      <td>NO</td>\n",
              "    </tr>\n",
              "    <tr>\n",
              "      <th>4</th>\n",
              "      <td>16680</td>\n",
              "      <td>42519267</td>\n",
              "      <td>Caucasian</td>\n",
              "      <td>Male</td>\n",
              "      <td>[40-50)</td>\n",
              "      <td>?</td>\n",
              "      <td>1</td>\n",
              "      <td>1</td>\n",
              "      <td>7</td>\n",
              "      <td>1</td>\n",
              "      <td>...</td>\n",
              "      <td>No</td>\n",
              "      <td>Steady</td>\n",
              "      <td>No</td>\n",
              "      <td>No</td>\n",
              "      <td>No</td>\n",
              "      <td>No</td>\n",
              "      <td>No</td>\n",
              "      <td>Ch</td>\n",
              "      <td>Yes</td>\n",
              "      <td>NO</td>\n",
              "    </tr>\n",
              "  </tbody>\n",
              "</table>\n",
              "<p>5 rows × 50 columns</p>\n",
              "</div>\n",
              "      <button class=\"colab-df-convert\" onclick=\"convertToInteractive('df-165ef50a-1fdc-4580-946b-8ee56dbc1b2f')\"\n",
              "              title=\"Convert this dataframe to an interactive table.\"\n",
              "              style=\"display:none;\">\n",
              "        \n",
              "  <svg xmlns=\"http://www.w3.org/2000/svg\" height=\"24px\"viewBox=\"0 0 24 24\"\n",
              "       width=\"24px\">\n",
              "    <path d=\"M0 0h24v24H0V0z\" fill=\"none\"/>\n",
              "    <path d=\"M18.56 5.44l.94 2.06.94-2.06 2.06-.94-2.06-.94-.94-2.06-.94 2.06-2.06.94zm-11 1L8.5 8.5l.94-2.06 2.06-.94-2.06-.94L8.5 2.5l-.94 2.06-2.06.94zm10 10l.94 2.06.94-2.06 2.06-.94-2.06-.94-.94-2.06-.94 2.06-2.06.94z\"/><path d=\"M17.41 7.96l-1.37-1.37c-.4-.4-.92-.59-1.43-.59-.52 0-1.04.2-1.43.59L10.3 9.45l-7.72 7.72c-.78.78-.78 2.05 0 2.83L4 21.41c.39.39.9.59 1.41.59.51 0 1.02-.2 1.41-.59l7.78-7.78 2.81-2.81c.8-.78.8-2.07 0-2.86zM5.41 20L4 18.59l7.72-7.72 1.47 1.35L5.41 20z\"/>\n",
              "  </svg>\n",
              "      </button>\n",
              "      \n",
              "  <style>\n",
              "    .colab-df-container {\n",
              "      display:flex;\n",
              "      flex-wrap:wrap;\n",
              "      gap: 12px;\n",
              "    }\n",
              "\n",
              "    .colab-df-convert {\n",
              "      background-color: #E8F0FE;\n",
              "      border: none;\n",
              "      border-radius: 50%;\n",
              "      cursor: pointer;\n",
              "      display: none;\n",
              "      fill: #1967D2;\n",
              "      height: 32px;\n",
              "      padding: 0 0 0 0;\n",
              "      width: 32px;\n",
              "    }\n",
              "\n",
              "    .colab-df-convert:hover {\n",
              "      background-color: #E2EBFA;\n",
              "      box-shadow: 0px 1px 2px rgba(60, 64, 67, 0.3), 0px 1px 3px 1px rgba(60, 64, 67, 0.15);\n",
              "      fill: #174EA6;\n",
              "    }\n",
              "\n",
              "    [theme=dark] .colab-df-convert {\n",
              "      background-color: #3B4455;\n",
              "      fill: #D2E3FC;\n",
              "    }\n",
              "\n",
              "    [theme=dark] .colab-df-convert:hover {\n",
              "      background-color: #434B5C;\n",
              "      box-shadow: 0px 1px 3px 1px rgba(0, 0, 0, 0.15);\n",
              "      filter: drop-shadow(0px 1px 2px rgba(0, 0, 0, 0.3));\n",
              "      fill: #FFFFFF;\n",
              "    }\n",
              "  </style>\n",
              "\n",
              "      <script>\n",
              "        const buttonEl =\n",
              "          document.querySelector('#df-165ef50a-1fdc-4580-946b-8ee56dbc1b2f button.colab-df-convert');\n",
              "        buttonEl.style.display =\n",
              "          google.colab.kernel.accessAllowed ? 'block' : 'none';\n",
              "\n",
              "        async function convertToInteractive(key) {\n",
              "          const element = document.querySelector('#df-165ef50a-1fdc-4580-946b-8ee56dbc1b2f');\n",
              "          const dataTable =\n",
              "            await google.colab.kernel.invokeFunction('convertToInteractive',\n",
              "                                                     [key], {});\n",
              "          if (!dataTable) return;\n",
              "\n",
              "          const docLinkHtml = 'Like what you see? Visit the ' +\n",
              "            '<a target=\"_blank\" href=https://colab.research.google.com/notebooks/data_table.ipynb>data table notebook</a>'\n",
              "            + ' to learn more about interactive tables.';\n",
              "          element.innerHTML = '';\n",
              "          dataTable['output_type'] = 'display_data';\n",
              "          await google.colab.output.renderOutput(dataTable, element);\n",
              "          const docLink = document.createElement('div');\n",
              "          docLink.innerHTML = docLinkHtml;\n",
              "          element.appendChild(docLink);\n",
              "        }\n",
              "      </script>\n",
              "    </div>\n",
              "  </div>\n",
              "  "
            ]
          },
          "metadata": {},
          "execution_count": 3
        }
      ]
    },
    {
      "cell_type": "markdown",
      "source": [
        "### To check if the data is null"
      ],
      "metadata": {
        "id": "Q7uXzZnYcIXn"
      }
    },
    {
      "cell_type": "code",
      "source": [
        "df.isnull()"
      ],
      "metadata": {
        "colab": {
          "base_uri": "https://localhost:8080/",
          "height": 505
        },
        "id": "BIpl4NUEbSFr",
        "outputId": "26638871-06ac-420b-b1eb-7097839eb6a9"
      },
      "execution_count": 4,
      "outputs": [
        {
          "output_type": "execute_result",
          "data": {
            "text/plain": [
              "        encounter_id  patient_nbr   race  gender    age  weight  \\\n",
              "0              False        False  False   False  False   False   \n",
              "1              False        False  False   False  False   False   \n",
              "2              False        False  False   False  False   False   \n",
              "3              False        False  False   False  False   False   \n",
              "4              False        False  False   False  False   False   \n",
              "...              ...          ...    ...     ...    ...     ...   \n",
              "101761         False        False  False   False  False   False   \n",
              "101762         False        False  False   False  False   False   \n",
              "101763         False        False  False   False  False   False   \n",
              "101764         False        False  False   False  False   False   \n",
              "101765         False        False  False   False  False   False   \n",
              "\n",
              "        admission_type_id  discharge_disposition_id  admission_source_id  \\\n",
              "0                   False                     False                False   \n",
              "1                   False                     False                False   \n",
              "2                   False                     False                False   \n",
              "3                   False                     False                False   \n",
              "4                   False                     False                False   \n",
              "...                   ...                       ...                  ...   \n",
              "101761              False                     False                False   \n",
              "101762              False                     False                False   \n",
              "101763              False                     False                False   \n",
              "101764              False                     False                False   \n",
              "101765              False                     False                False   \n",
              "\n",
              "        time_in_hospital  ...  citoglipton  insulin  glyburide-metformin  \\\n",
              "0                  False  ...        False    False                False   \n",
              "1                  False  ...        False    False                False   \n",
              "2                  False  ...        False    False                False   \n",
              "3                  False  ...        False    False                False   \n",
              "4                  False  ...        False    False                False   \n",
              "...                  ...  ...          ...      ...                  ...   \n",
              "101761             False  ...        False    False                False   \n",
              "101762             False  ...        False    False                False   \n",
              "101763             False  ...        False    False                False   \n",
              "101764             False  ...        False    False                False   \n",
              "101765             False  ...        False    False                False   \n",
              "\n",
              "        glipizide-metformin  glimepiride-pioglitazone  \\\n",
              "0                     False                     False   \n",
              "1                     False                     False   \n",
              "2                     False                     False   \n",
              "3                     False                     False   \n",
              "4                     False                     False   \n",
              "...                     ...                       ...   \n",
              "101761                False                     False   \n",
              "101762                False                     False   \n",
              "101763                False                     False   \n",
              "101764                False                     False   \n",
              "101765                False                     False   \n",
              "\n",
              "        metformin-rosiglitazone  metformin-pioglitazone  change  diabetesMed  \\\n",
              "0                         False                   False   False        False   \n",
              "1                         False                   False   False        False   \n",
              "2                         False                   False   False        False   \n",
              "3                         False                   False   False        False   \n",
              "4                         False                   False   False        False   \n",
              "...                         ...                     ...     ...          ...   \n",
              "101761                    False                   False   False        False   \n",
              "101762                    False                   False   False        False   \n",
              "101763                    False                   False   False        False   \n",
              "101764                    False                   False   False        False   \n",
              "101765                    False                   False   False        False   \n",
              "\n",
              "        readmitted  \n",
              "0            False  \n",
              "1            False  \n",
              "2            False  \n",
              "3            False  \n",
              "4            False  \n",
              "...            ...  \n",
              "101761       False  \n",
              "101762       False  \n",
              "101763       False  \n",
              "101764       False  \n",
              "101765       False  \n",
              "\n",
              "[101766 rows x 50 columns]"
            ],
            "text/html": [
              "\n",
              "  <div id=\"df-f2dec5be-3415-4687-999a-044eee3874ba\">\n",
              "    <div class=\"colab-df-container\">\n",
              "      <div>\n",
              "<style scoped>\n",
              "    .dataframe tbody tr th:only-of-type {\n",
              "        vertical-align: middle;\n",
              "    }\n",
              "\n",
              "    .dataframe tbody tr th {\n",
              "        vertical-align: top;\n",
              "    }\n",
              "\n",
              "    .dataframe thead th {\n",
              "        text-align: right;\n",
              "    }\n",
              "</style>\n",
              "<table border=\"1\" class=\"dataframe\">\n",
              "  <thead>\n",
              "    <tr style=\"text-align: right;\">\n",
              "      <th></th>\n",
              "      <th>encounter_id</th>\n",
              "      <th>patient_nbr</th>\n",
              "      <th>race</th>\n",
              "      <th>gender</th>\n",
              "      <th>age</th>\n",
              "      <th>weight</th>\n",
              "      <th>admission_type_id</th>\n",
              "      <th>discharge_disposition_id</th>\n",
              "      <th>admission_source_id</th>\n",
              "      <th>time_in_hospital</th>\n",
              "      <th>...</th>\n",
              "      <th>citoglipton</th>\n",
              "      <th>insulin</th>\n",
              "      <th>glyburide-metformin</th>\n",
              "      <th>glipizide-metformin</th>\n",
              "      <th>glimepiride-pioglitazone</th>\n",
              "      <th>metformin-rosiglitazone</th>\n",
              "      <th>metformin-pioglitazone</th>\n",
              "      <th>change</th>\n",
              "      <th>diabetesMed</th>\n",
              "      <th>readmitted</th>\n",
              "    </tr>\n",
              "  </thead>\n",
              "  <tbody>\n",
              "    <tr>\n",
              "      <th>0</th>\n",
              "      <td>False</td>\n",
              "      <td>False</td>\n",
              "      <td>False</td>\n",
              "      <td>False</td>\n",
              "      <td>False</td>\n",
              "      <td>False</td>\n",
              "      <td>False</td>\n",
              "      <td>False</td>\n",
              "      <td>False</td>\n",
              "      <td>False</td>\n",
              "      <td>...</td>\n",
              "      <td>False</td>\n",
              "      <td>False</td>\n",
              "      <td>False</td>\n",
              "      <td>False</td>\n",
              "      <td>False</td>\n",
              "      <td>False</td>\n",
              "      <td>False</td>\n",
              "      <td>False</td>\n",
              "      <td>False</td>\n",
              "      <td>False</td>\n",
              "    </tr>\n",
              "    <tr>\n",
              "      <th>1</th>\n",
              "      <td>False</td>\n",
              "      <td>False</td>\n",
              "      <td>False</td>\n",
              "      <td>False</td>\n",
              "      <td>False</td>\n",
              "      <td>False</td>\n",
              "      <td>False</td>\n",
              "      <td>False</td>\n",
              "      <td>False</td>\n",
              "      <td>False</td>\n",
              "      <td>...</td>\n",
              "      <td>False</td>\n",
              "      <td>False</td>\n",
              "      <td>False</td>\n",
              "      <td>False</td>\n",
              "      <td>False</td>\n",
              "      <td>False</td>\n",
              "      <td>False</td>\n",
              "      <td>False</td>\n",
              "      <td>False</td>\n",
              "      <td>False</td>\n",
              "    </tr>\n",
              "    <tr>\n",
              "      <th>2</th>\n",
              "      <td>False</td>\n",
              "      <td>False</td>\n",
              "      <td>False</td>\n",
              "      <td>False</td>\n",
              "      <td>False</td>\n",
              "      <td>False</td>\n",
              "      <td>False</td>\n",
              "      <td>False</td>\n",
              "      <td>False</td>\n",
              "      <td>False</td>\n",
              "      <td>...</td>\n",
              "      <td>False</td>\n",
              "      <td>False</td>\n",
              "      <td>False</td>\n",
              "      <td>False</td>\n",
              "      <td>False</td>\n",
              "      <td>False</td>\n",
              "      <td>False</td>\n",
              "      <td>False</td>\n",
              "      <td>False</td>\n",
              "      <td>False</td>\n",
              "    </tr>\n",
              "    <tr>\n",
              "      <th>3</th>\n",
              "      <td>False</td>\n",
              "      <td>False</td>\n",
              "      <td>False</td>\n",
              "      <td>False</td>\n",
              "      <td>False</td>\n",
              "      <td>False</td>\n",
              "      <td>False</td>\n",
              "      <td>False</td>\n",
              "      <td>False</td>\n",
              "      <td>False</td>\n",
              "      <td>...</td>\n",
              "      <td>False</td>\n",
              "      <td>False</td>\n",
              "      <td>False</td>\n",
              "      <td>False</td>\n",
              "      <td>False</td>\n",
              "      <td>False</td>\n",
              "      <td>False</td>\n",
              "      <td>False</td>\n",
              "      <td>False</td>\n",
              "      <td>False</td>\n",
              "    </tr>\n",
              "    <tr>\n",
              "      <th>4</th>\n",
              "      <td>False</td>\n",
              "      <td>False</td>\n",
              "      <td>False</td>\n",
              "      <td>False</td>\n",
              "      <td>False</td>\n",
              "      <td>False</td>\n",
              "      <td>False</td>\n",
              "      <td>False</td>\n",
              "      <td>False</td>\n",
              "      <td>False</td>\n",
              "      <td>...</td>\n",
              "      <td>False</td>\n",
              "      <td>False</td>\n",
              "      <td>False</td>\n",
              "      <td>False</td>\n",
              "      <td>False</td>\n",
              "      <td>False</td>\n",
              "      <td>False</td>\n",
              "      <td>False</td>\n",
              "      <td>False</td>\n",
              "      <td>False</td>\n",
              "    </tr>\n",
              "    <tr>\n",
              "      <th>...</th>\n",
              "      <td>...</td>\n",
              "      <td>...</td>\n",
              "      <td>...</td>\n",
              "      <td>...</td>\n",
              "      <td>...</td>\n",
              "      <td>...</td>\n",
              "      <td>...</td>\n",
              "      <td>...</td>\n",
              "      <td>...</td>\n",
              "      <td>...</td>\n",
              "      <td>...</td>\n",
              "      <td>...</td>\n",
              "      <td>...</td>\n",
              "      <td>...</td>\n",
              "      <td>...</td>\n",
              "      <td>...</td>\n",
              "      <td>...</td>\n",
              "      <td>...</td>\n",
              "      <td>...</td>\n",
              "      <td>...</td>\n",
              "      <td>...</td>\n",
              "    </tr>\n",
              "    <tr>\n",
              "      <th>101761</th>\n",
              "      <td>False</td>\n",
              "      <td>False</td>\n",
              "      <td>False</td>\n",
              "      <td>False</td>\n",
              "      <td>False</td>\n",
              "      <td>False</td>\n",
              "      <td>False</td>\n",
              "      <td>False</td>\n",
              "      <td>False</td>\n",
              "      <td>False</td>\n",
              "      <td>...</td>\n",
              "      <td>False</td>\n",
              "      <td>False</td>\n",
              "      <td>False</td>\n",
              "      <td>False</td>\n",
              "      <td>False</td>\n",
              "      <td>False</td>\n",
              "      <td>False</td>\n",
              "      <td>False</td>\n",
              "      <td>False</td>\n",
              "      <td>False</td>\n",
              "    </tr>\n",
              "    <tr>\n",
              "      <th>101762</th>\n",
              "      <td>False</td>\n",
              "      <td>False</td>\n",
              "      <td>False</td>\n",
              "      <td>False</td>\n",
              "      <td>False</td>\n",
              "      <td>False</td>\n",
              "      <td>False</td>\n",
              "      <td>False</td>\n",
              "      <td>False</td>\n",
              "      <td>False</td>\n",
              "      <td>...</td>\n",
              "      <td>False</td>\n",
              "      <td>False</td>\n",
              "      <td>False</td>\n",
              "      <td>False</td>\n",
              "      <td>False</td>\n",
              "      <td>False</td>\n",
              "      <td>False</td>\n",
              "      <td>False</td>\n",
              "      <td>False</td>\n",
              "      <td>False</td>\n",
              "    </tr>\n",
              "    <tr>\n",
              "      <th>101763</th>\n",
              "      <td>False</td>\n",
              "      <td>False</td>\n",
              "      <td>False</td>\n",
              "      <td>False</td>\n",
              "      <td>False</td>\n",
              "      <td>False</td>\n",
              "      <td>False</td>\n",
              "      <td>False</td>\n",
              "      <td>False</td>\n",
              "      <td>False</td>\n",
              "      <td>...</td>\n",
              "      <td>False</td>\n",
              "      <td>False</td>\n",
              "      <td>False</td>\n",
              "      <td>False</td>\n",
              "      <td>False</td>\n",
              "      <td>False</td>\n",
              "      <td>False</td>\n",
              "      <td>False</td>\n",
              "      <td>False</td>\n",
              "      <td>False</td>\n",
              "    </tr>\n",
              "    <tr>\n",
              "      <th>101764</th>\n",
              "      <td>False</td>\n",
              "      <td>False</td>\n",
              "      <td>False</td>\n",
              "      <td>False</td>\n",
              "      <td>False</td>\n",
              "      <td>False</td>\n",
              "      <td>False</td>\n",
              "      <td>False</td>\n",
              "      <td>False</td>\n",
              "      <td>False</td>\n",
              "      <td>...</td>\n",
              "      <td>False</td>\n",
              "      <td>False</td>\n",
              "      <td>False</td>\n",
              "      <td>False</td>\n",
              "      <td>False</td>\n",
              "      <td>False</td>\n",
              "      <td>False</td>\n",
              "      <td>False</td>\n",
              "      <td>False</td>\n",
              "      <td>False</td>\n",
              "    </tr>\n",
              "    <tr>\n",
              "      <th>101765</th>\n",
              "      <td>False</td>\n",
              "      <td>False</td>\n",
              "      <td>False</td>\n",
              "      <td>False</td>\n",
              "      <td>False</td>\n",
              "      <td>False</td>\n",
              "      <td>False</td>\n",
              "      <td>False</td>\n",
              "      <td>False</td>\n",
              "      <td>False</td>\n",
              "      <td>...</td>\n",
              "      <td>False</td>\n",
              "      <td>False</td>\n",
              "      <td>False</td>\n",
              "      <td>False</td>\n",
              "      <td>False</td>\n",
              "      <td>False</td>\n",
              "      <td>False</td>\n",
              "      <td>False</td>\n",
              "      <td>False</td>\n",
              "      <td>False</td>\n",
              "    </tr>\n",
              "  </tbody>\n",
              "</table>\n",
              "<p>101766 rows × 50 columns</p>\n",
              "</div>\n",
              "      <button class=\"colab-df-convert\" onclick=\"convertToInteractive('df-f2dec5be-3415-4687-999a-044eee3874ba')\"\n",
              "              title=\"Convert this dataframe to an interactive table.\"\n",
              "              style=\"display:none;\">\n",
              "        \n",
              "  <svg xmlns=\"http://www.w3.org/2000/svg\" height=\"24px\"viewBox=\"0 0 24 24\"\n",
              "       width=\"24px\">\n",
              "    <path d=\"M0 0h24v24H0V0z\" fill=\"none\"/>\n",
              "    <path d=\"M18.56 5.44l.94 2.06.94-2.06 2.06-.94-2.06-.94-.94-2.06-.94 2.06-2.06.94zm-11 1L8.5 8.5l.94-2.06 2.06-.94-2.06-.94L8.5 2.5l-.94 2.06-2.06.94zm10 10l.94 2.06.94-2.06 2.06-.94-2.06-.94-.94-2.06-.94 2.06-2.06.94z\"/><path d=\"M17.41 7.96l-1.37-1.37c-.4-.4-.92-.59-1.43-.59-.52 0-1.04.2-1.43.59L10.3 9.45l-7.72 7.72c-.78.78-.78 2.05 0 2.83L4 21.41c.39.39.9.59 1.41.59.51 0 1.02-.2 1.41-.59l7.78-7.78 2.81-2.81c.8-.78.8-2.07 0-2.86zM5.41 20L4 18.59l7.72-7.72 1.47 1.35L5.41 20z\"/>\n",
              "  </svg>\n",
              "      </button>\n",
              "      \n",
              "  <style>\n",
              "    .colab-df-container {\n",
              "      display:flex;\n",
              "      flex-wrap:wrap;\n",
              "      gap: 12px;\n",
              "    }\n",
              "\n",
              "    .colab-df-convert {\n",
              "      background-color: #E8F0FE;\n",
              "      border: none;\n",
              "      border-radius: 50%;\n",
              "      cursor: pointer;\n",
              "      display: none;\n",
              "      fill: #1967D2;\n",
              "      height: 32px;\n",
              "      padding: 0 0 0 0;\n",
              "      width: 32px;\n",
              "    }\n",
              "\n",
              "    .colab-df-convert:hover {\n",
              "      background-color: #E2EBFA;\n",
              "      box-shadow: 0px 1px 2px rgba(60, 64, 67, 0.3), 0px 1px 3px 1px rgba(60, 64, 67, 0.15);\n",
              "      fill: #174EA6;\n",
              "    }\n",
              "\n",
              "    [theme=dark] .colab-df-convert {\n",
              "      background-color: #3B4455;\n",
              "      fill: #D2E3FC;\n",
              "    }\n",
              "\n",
              "    [theme=dark] .colab-df-convert:hover {\n",
              "      background-color: #434B5C;\n",
              "      box-shadow: 0px 1px 3px 1px rgba(0, 0, 0, 0.15);\n",
              "      filter: drop-shadow(0px 1px 2px rgba(0, 0, 0, 0.3));\n",
              "      fill: #FFFFFF;\n",
              "    }\n",
              "  </style>\n",
              "\n",
              "      <script>\n",
              "        const buttonEl =\n",
              "          document.querySelector('#df-f2dec5be-3415-4687-999a-044eee3874ba button.colab-df-convert');\n",
              "        buttonEl.style.display =\n",
              "          google.colab.kernel.accessAllowed ? 'block' : 'none';\n",
              "\n",
              "        async function convertToInteractive(key) {\n",
              "          const element = document.querySelector('#df-f2dec5be-3415-4687-999a-044eee3874ba');\n",
              "          const dataTable =\n",
              "            await google.colab.kernel.invokeFunction('convertToInteractive',\n",
              "                                                     [key], {});\n",
              "          if (!dataTable) return;\n",
              "\n",
              "          const docLinkHtml = 'Like what you see? Visit the ' +\n",
              "            '<a target=\"_blank\" href=https://colab.research.google.com/notebooks/data_table.ipynb>data table notebook</a>'\n",
              "            + ' to learn more about interactive tables.';\n",
              "          element.innerHTML = '';\n",
              "          dataTable['output_type'] = 'display_data';\n",
              "          await google.colab.output.renderOutput(dataTable, element);\n",
              "          const docLink = document.createElement('div');\n",
              "          docLink.innerHTML = docLinkHtml;\n",
              "          element.appendChild(docLink);\n",
              "        }\n",
              "      </script>\n",
              "    </div>\n",
              "  </div>\n",
              "  "
            ]
          },
          "metadata": {},
          "execution_count": 4
        }
      ]
    },
    {
      "cell_type": "code",
      "source": [
        "df.isnull().sum()"
      ],
      "metadata": {
        "colab": {
          "base_uri": "https://localhost:8080/"
        },
        "id": "YdUYPh2GbTmG",
        "outputId": "8fb90b86-7080-4de2-c479-be83dd6a2959"
      },
      "execution_count": 5,
      "outputs": [
        {
          "output_type": "execute_result",
          "data": {
            "text/plain": [
              "encounter_id                0\n",
              "patient_nbr                 0\n",
              "race                        0\n",
              "gender                      0\n",
              "age                         0\n",
              "weight                      0\n",
              "admission_type_id           0\n",
              "discharge_disposition_id    0\n",
              "admission_source_id         0\n",
              "time_in_hospital            0\n",
              "payer_code                  0\n",
              "medical_specialty           0\n",
              "num_lab_procedures          0\n",
              "num_procedures              0\n",
              "num_medications             0\n",
              "number_outpatient           0\n",
              "number_emergency            0\n",
              "number_inpatient            0\n",
              "diag_1                      0\n",
              "diag_2                      0\n",
              "diag_3                      0\n",
              "number_diagnoses            0\n",
              "max_glu_serum               0\n",
              "A1Cresult                   0\n",
              "metformin                   0\n",
              "repaglinide                 0\n",
              "nateglinide                 0\n",
              "chlorpropamide              0\n",
              "glimepiride                 0\n",
              "acetohexamide               0\n",
              "glipizide                   0\n",
              "glyburide                   0\n",
              "tolbutamide                 0\n",
              "pioglitazone                0\n",
              "rosiglitazone               0\n",
              "acarbose                    0\n",
              "miglitol                    0\n",
              "troglitazone                0\n",
              "tolazamide                  0\n",
              "examide                     0\n",
              "citoglipton                 0\n",
              "insulin                     0\n",
              "glyburide-metformin         0\n",
              "glipizide-metformin         0\n",
              "glimepiride-pioglitazone    0\n",
              "metformin-rosiglitazone     0\n",
              "metformin-pioglitazone      0\n",
              "change                      0\n",
              "diabetesMed                 0\n",
              "readmitted                  0\n",
              "dtype: int64"
            ]
          },
          "metadata": {},
          "execution_count": 5
        }
      ]
    },
    {
      "cell_type": "markdown",
      "source": [
        "Potential Conclusion: We can conclude that the data has no null values"
      ],
      "metadata": {
        "id": "Pg-gVxfucZ8O"
      }
    },
    {
      "cell_type": "code",
      "source": [
        "df.columns"
      ],
      "metadata": {
        "colab": {
          "base_uri": "https://localhost:8080/"
        },
        "id": "1iqHMo3Ybf1Z",
        "outputId": "bf631d83-ccc6-4343-f38b-0f5b9bc92133"
      },
      "execution_count": 6,
      "outputs": [
        {
          "output_type": "execute_result",
          "data": {
            "text/plain": [
              "Index(['encounter_id', 'patient_nbr', 'race', 'gender', 'age', 'weight',\n",
              "       'admission_type_id', 'discharge_disposition_id', 'admission_source_id',\n",
              "       'time_in_hospital', 'payer_code', 'medical_specialty',\n",
              "       'num_lab_procedures', 'num_procedures', 'num_medications',\n",
              "       'number_outpatient', 'number_emergency', 'number_inpatient', 'diag_1',\n",
              "       'diag_2', 'diag_3', 'number_diagnoses', 'max_glu_serum', 'A1Cresult',\n",
              "       'metformin', 'repaglinide', 'nateglinide', 'chlorpropamide',\n",
              "       'glimepiride', 'acetohexamide', 'glipizide', 'glyburide', 'tolbutamide',\n",
              "       'pioglitazone', 'rosiglitazone', 'acarbose', 'miglitol', 'troglitazone',\n",
              "       'tolazamide', 'examide', 'citoglipton', 'insulin',\n",
              "       'glyburide-metformin', 'glipizide-metformin',\n",
              "       'glimepiride-pioglitazone', 'metformin-rosiglitazone',\n",
              "       'metformin-pioglitazone', 'change', 'diabetesMed', 'readmitted'],\n",
              "      dtype='object')"
            ]
          },
          "metadata": {},
          "execution_count": 6
        }
      ]
    },
    {
      "cell_type": "code",
      "source": [
        "df.describe()"
      ],
      "metadata": {
        "colab": {
          "base_uri": "https://localhost:8080/",
          "height": 364
        },
        "id": "Q4K9ZONAhoMm",
        "outputId": "1cb0bb2f-1145-4835-964a-c6a35e2fb878"
      },
      "execution_count": 7,
      "outputs": [
        {
          "output_type": "execute_result",
          "data": {
            "text/plain": [
              "       encounter_id   patient_nbr  admission_type_id  \\\n",
              "count  1.017660e+05  1.017660e+05      101766.000000   \n",
              "mean   1.652016e+08  5.433040e+07           2.024006   \n",
              "std    1.026403e+08  3.869636e+07           1.445403   \n",
              "min    1.252200e+04  1.350000e+02           1.000000   \n",
              "25%    8.496119e+07  2.341322e+07           1.000000   \n",
              "50%    1.523890e+08  4.550514e+07           1.000000   \n",
              "75%    2.302709e+08  8.754595e+07           3.000000   \n",
              "max    4.438672e+08  1.895026e+08           8.000000   \n",
              "\n",
              "       discharge_disposition_id  admission_source_id  time_in_hospital  \\\n",
              "count             101766.000000        101766.000000     101766.000000   \n",
              "mean                   3.715642             5.754437          4.395987   \n",
              "std                    5.280166             4.064081          2.985108   \n",
              "min                    1.000000             1.000000          1.000000   \n",
              "25%                    1.000000             1.000000          2.000000   \n",
              "50%                    1.000000             7.000000          4.000000   \n",
              "75%                    4.000000             7.000000          6.000000   \n",
              "max                   28.000000            25.000000         14.000000   \n",
              "\n",
              "       num_lab_procedures  num_procedures  num_medications  number_outpatient  \\\n",
              "count       101766.000000   101766.000000    101766.000000      101766.000000   \n",
              "mean            43.095641        1.339730        16.021844           0.369357   \n",
              "std             19.674362        1.705807         8.127566           1.267265   \n",
              "min              1.000000        0.000000         1.000000           0.000000   \n",
              "25%             31.000000        0.000000        10.000000           0.000000   \n",
              "50%             44.000000        1.000000        15.000000           0.000000   \n",
              "75%             57.000000        2.000000        20.000000           0.000000   \n",
              "max            132.000000        6.000000        81.000000          42.000000   \n",
              "\n",
              "       number_emergency  number_inpatient  number_diagnoses  \n",
              "count     101766.000000     101766.000000     101766.000000  \n",
              "mean           0.197836          0.635566          7.422607  \n",
              "std            0.930472          1.262863          1.933600  \n",
              "min            0.000000          0.000000          1.000000  \n",
              "25%            0.000000          0.000000          6.000000  \n",
              "50%            0.000000          0.000000          8.000000  \n",
              "75%            0.000000          1.000000          9.000000  \n",
              "max           76.000000         21.000000         16.000000  "
            ],
            "text/html": [
              "\n",
              "  <div id=\"df-e9a62502-2b11-4c08-b8c1-6474e95cbcf6\">\n",
              "    <div class=\"colab-df-container\">\n",
              "      <div>\n",
              "<style scoped>\n",
              "    .dataframe tbody tr th:only-of-type {\n",
              "        vertical-align: middle;\n",
              "    }\n",
              "\n",
              "    .dataframe tbody tr th {\n",
              "        vertical-align: top;\n",
              "    }\n",
              "\n",
              "    .dataframe thead th {\n",
              "        text-align: right;\n",
              "    }\n",
              "</style>\n",
              "<table border=\"1\" class=\"dataframe\">\n",
              "  <thead>\n",
              "    <tr style=\"text-align: right;\">\n",
              "      <th></th>\n",
              "      <th>encounter_id</th>\n",
              "      <th>patient_nbr</th>\n",
              "      <th>admission_type_id</th>\n",
              "      <th>discharge_disposition_id</th>\n",
              "      <th>admission_source_id</th>\n",
              "      <th>time_in_hospital</th>\n",
              "      <th>num_lab_procedures</th>\n",
              "      <th>num_procedures</th>\n",
              "      <th>num_medications</th>\n",
              "      <th>number_outpatient</th>\n",
              "      <th>number_emergency</th>\n",
              "      <th>number_inpatient</th>\n",
              "      <th>number_diagnoses</th>\n",
              "    </tr>\n",
              "  </thead>\n",
              "  <tbody>\n",
              "    <tr>\n",
              "      <th>count</th>\n",
              "      <td>1.017660e+05</td>\n",
              "      <td>1.017660e+05</td>\n",
              "      <td>101766.000000</td>\n",
              "      <td>101766.000000</td>\n",
              "      <td>101766.000000</td>\n",
              "      <td>101766.000000</td>\n",
              "      <td>101766.000000</td>\n",
              "      <td>101766.000000</td>\n",
              "      <td>101766.000000</td>\n",
              "      <td>101766.000000</td>\n",
              "      <td>101766.000000</td>\n",
              "      <td>101766.000000</td>\n",
              "      <td>101766.000000</td>\n",
              "    </tr>\n",
              "    <tr>\n",
              "      <th>mean</th>\n",
              "      <td>1.652016e+08</td>\n",
              "      <td>5.433040e+07</td>\n",
              "      <td>2.024006</td>\n",
              "      <td>3.715642</td>\n",
              "      <td>5.754437</td>\n",
              "      <td>4.395987</td>\n",
              "      <td>43.095641</td>\n",
              "      <td>1.339730</td>\n",
              "      <td>16.021844</td>\n",
              "      <td>0.369357</td>\n",
              "      <td>0.197836</td>\n",
              "      <td>0.635566</td>\n",
              "      <td>7.422607</td>\n",
              "    </tr>\n",
              "    <tr>\n",
              "      <th>std</th>\n",
              "      <td>1.026403e+08</td>\n",
              "      <td>3.869636e+07</td>\n",
              "      <td>1.445403</td>\n",
              "      <td>5.280166</td>\n",
              "      <td>4.064081</td>\n",
              "      <td>2.985108</td>\n",
              "      <td>19.674362</td>\n",
              "      <td>1.705807</td>\n",
              "      <td>8.127566</td>\n",
              "      <td>1.267265</td>\n",
              "      <td>0.930472</td>\n",
              "      <td>1.262863</td>\n",
              "      <td>1.933600</td>\n",
              "    </tr>\n",
              "    <tr>\n",
              "      <th>min</th>\n",
              "      <td>1.252200e+04</td>\n",
              "      <td>1.350000e+02</td>\n",
              "      <td>1.000000</td>\n",
              "      <td>1.000000</td>\n",
              "      <td>1.000000</td>\n",
              "      <td>1.000000</td>\n",
              "      <td>1.000000</td>\n",
              "      <td>0.000000</td>\n",
              "      <td>1.000000</td>\n",
              "      <td>0.000000</td>\n",
              "      <td>0.000000</td>\n",
              "      <td>0.000000</td>\n",
              "      <td>1.000000</td>\n",
              "    </tr>\n",
              "    <tr>\n",
              "      <th>25%</th>\n",
              "      <td>8.496119e+07</td>\n",
              "      <td>2.341322e+07</td>\n",
              "      <td>1.000000</td>\n",
              "      <td>1.000000</td>\n",
              "      <td>1.000000</td>\n",
              "      <td>2.000000</td>\n",
              "      <td>31.000000</td>\n",
              "      <td>0.000000</td>\n",
              "      <td>10.000000</td>\n",
              "      <td>0.000000</td>\n",
              "      <td>0.000000</td>\n",
              "      <td>0.000000</td>\n",
              "      <td>6.000000</td>\n",
              "    </tr>\n",
              "    <tr>\n",
              "      <th>50%</th>\n",
              "      <td>1.523890e+08</td>\n",
              "      <td>4.550514e+07</td>\n",
              "      <td>1.000000</td>\n",
              "      <td>1.000000</td>\n",
              "      <td>7.000000</td>\n",
              "      <td>4.000000</td>\n",
              "      <td>44.000000</td>\n",
              "      <td>1.000000</td>\n",
              "      <td>15.000000</td>\n",
              "      <td>0.000000</td>\n",
              "      <td>0.000000</td>\n",
              "      <td>0.000000</td>\n",
              "      <td>8.000000</td>\n",
              "    </tr>\n",
              "    <tr>\n",
              "      <th>75%</th>\n",
              "      <td>2.302709e+08</td>\n",
              "      <td>8.754595e+07</td>\n",
              "      <td>3.000000</td>\n",
              "      <td>4.000000</td>\n",
              "      <td>7.000000</td>\n",
              "      <td>6.000000</td>\n",
              "      <td>57.000000</td>\n",
              "      <td>2.000000</td>\n",
              "      <td>20.000000</td>\n",
              "      <td>0.000000</td>\n",
              "      <td>0.000000</td>\n",
              "      <td>1.000000</td>\n",
              "      <td>9.000000</td>\n",
              "    </tr>\n",
              "    <tr>\n",
              "      <th>max</th>\n",
              "      <td>4.438672e+08</td>\n",
              "      <td>1.895026e+08</td>\n",
              "      <td>8.000000</td>\n",
              "      <td>28.000000</td>\n",
              "      <td>25.000000</td>\n",
              "      <td>14.000000</td>\n",
              "      <td>132.000000</td>\n",
              "      <td>6.000000</td>\n",
              "      <td>81.000000</td>\n",
              "      <td>42.000000</td>\n",
              "      <td>76.000000</td>\n",
              "      <td>21.000000</td>\n",
              "      <td>16.000000</td>\n",
              "    </tr>\n",
              "  </tbody>\n",
              "</table>\n",
              "</div>\n",
              "      <button class=\"colab-df-convert\" onclick=\"convertToInteractive('df-e9a62502-2b11-4c08-b8c1-6474e95cbcf6')\"\n",
              "              title=\"Convert this dataframe to an interactive table.\"\n",
              "              style=\"display:none;\">\n",
              "        \n",
              "  <svg xmlns=\"http://www.w3.org/2000/svg\" height=\"24px\"viewBox=\"0 0 24 24\"\n",
              "       width=\"24px\">\n",
              "    <path d=\"M0 0h24v24H0V0z\" fill=\"none\"/>\n",
              "    <path d=\"M18.56 5.44l.94 2.06.94-2.06 2.06-.94-2.06-.94-.94-2.06-.94 2.06-2.06.94zm-11 1L8.5 8.5l.94-2.06 2.06-.94-2.06-.94L8.5 2.5l-.94 2.06-2.06.94zm10 10l.94 2.06.94-2.06 2.06-.94-2.06-.94-.94-2.06-.94 2.06-2.06.94z\"/><path d=\"M17.41 7.96l-1.37-1.37c-.4-.4-.92-.59-1.43-.59-.52 0-1.04.2-1.43.59L10.3 9.45l-7.72 7.72c-.78.78-.78 2.05 0 2.83L4 21.41c.39.39.9.59 1.41.59.51 0 1.02-.2 1.41-.59l7.78-7.78 2.81-2.81c.8-.78.8-2.07 0-2.86zM5.41 20L4 18.59l7.72-7.72 1.47 1.35L5.41 20z\"/>\n",
              "  </svg>\n",
              "      </button>\n",
              "      \n",
              "  <style>\n",
              "    .colab-df-container {\n",
              "      display:flex;\n",
              "      flex-wrap:wrap;\n",
              "      gap: 12px;\n",
              "    }\n",
              "\n",
              "    .colab-df-convert {\n",
              "      background-color: #E8F0FE;\n",
              "      border: none;\n",
              "      border-radius: 50%;\n",
              "      cursor: pointer;\n",
              "      display: none;\n",
              "      fill: #1967D2;\n",
              "      height: 32px;\n",
              "      padding: 0 0 0 0;\n",
              "      width: 32px;\n",
              "    }\n",
              "\n",
              "    .colab-df-convert:hover {\n",
              "      background-color: #E2EBFA;\n",
              "      box-shadow: 0px 1px 2px rgba(60, 64, 67, 0.3), 0px 1px 3px 1px rgba(60, 64, 67, 0.15);\n",
              "      fill: #174EA6;\n",
              "    }\n",
              "\n",
              "    [theme=dark] .colab-df-convert {\n",
              "      background-color: #3B4455;\n",
              "      fill: #D2E3FC;\n",
              "    }\n",
              "\n",
              "    [theme=dark] .colab-df-convert:hover {\n",
              "      background-color: #434B5C;\n",
              "      box-shadow: 0px 1px 3px 1px rgba(0, 0, 0, 0.15);\n",
              "      filter: drop-shadow(0px 1px 2px rgba(0, 0, 0, 0.3));\n",
              "      fill: #FFFFFF;\n",
              "    }\n",
              "  </style>\n",
              "\n",
              "      <script>\n",
              "        const buttonEl =\n",
              "          document.querySelector('#df-e9a62502-2b11-4c08-b8c1-6474e95cbcf6 button.colab-df-convert');\n",
              "        buttonEl.style.display =\n",
              "          google.colab.kernel.accessAllowed ? 'block' : 'none';\n",
              "\n",
              "        async function convertToInteractive(key) {\n",
              "          const element = document.querySelector('#df-e9a62502-2b11-4c08-b8c1-6474e95cbcf6');\n",
              "          const dataTable =\n",
              "            await google.colab.kernel.invokeFunction('convertToInteractive',\n",
              "                                                     [key], {});\n",
              "          if (!dataTable) return;\n",
              "\n",
              "          const docLinkHtml = 'Like what you see? Visit the ' +\n",
              "            '<a target=\"_blank\" href=https://colab.research.google.com/notebooks/data_table.ipynb>data table notebook</a>'\n",
              "            + ' to learn more about interactive tables.';\n",
              "          element.innerHTML = '';\n",
              "          dataTable['output_type'] = 'display_data';\n",
              "          await google.colab.output.renderOutput(dataTable, element);\n",
              "          const docLink = document.createElement('div');\n",
              "          docLink.innerHTML = docLinkHtml;\n",
              "          element.appendChild(docLink);\n",
              "        }\n",
              "      </script>\n",
              "    </div>\n",
              "  </div>\n",
              "  "
            ]
          },
          "metadata": {},
          "execution_count": 7
        }
      ]
    },
    {
      "cell_type": "code",
      "source": [
        "# Dropping some of the columns because they provide no data or it provides too litte data\n",
        "\n",
        "# Removing any ? within race\n",
        "df = df[df['race'] != '?']\n",
        "\n",
        "# Removing any Unknown/Invalid within gender\n",
        "df = df[df['gender'] != 'Unknown/Invalid']\n",
        "\n",
        "# Dropping weight, payer_code, and medical_specialty as it provides nothing\n",
        "df = df.drop(['weight', 'payer_code', 'medical_specialty'], axis=1)"
      ],
      "metadata": {
        "id": "NunA5r0gl7et"
      },
      "execution_count": 8,
      "outputs": []
    },
    {
      "cell_type": "code",
      "source": [
        "df.info()"
      ],
      "metadata": {
        "colab": {
          "base_uri": "https://localhost:8080/"
        },
        "id": "8ngYoKPqnhR8",
        "outputId": "35774e3c-b5e1-43e5-f866-a078a957fb4c"
      },
      "execution_count": 9,
      "outputs": [
        {
          "output_type": "stream",
          "name": "stdout",
          "text": [
            "<class 'pandas.core.frame.DataFrame'>\n",
            "Int64Index: 99492 entries, 0 to 101765\n",
            "Data columns (total 47 columns):\n",
            " #   Column                    Non-Null Count  Dtype \n",
            "---  ------                    --------------  ----- \n",
            " 0   encounter_id              99492 non-null  int64 \n",
            " 1   patient_nbr               99492 non-null  int64 \n",
            " 2   race                      99492 non-null  object\n",
            " 3   gender                    99492 non-null  object\n",
            " 4   age                       99492 non-null  object\n",
            " 5   admission_type_id         99492 non-null  int64 \n",
            " 6   discharge_disposition_id  99492 non-null  int64 \n",
            " 7   admission_source_id       99492 non-null  int64 \n",
            " 8   time_in_hospital          99492 non-null  int64 \n",
            " 9   num_lab_procedures        99492 non-null  int64 \n",
            " 10  num_procedures            99492 non-null  int64 \n",
            " 11  num_medications           99492 non-null  int64 \n",
            " 12  number_outpatient         99492 non-null  int64 \n",
            " 13  number_emergency          99492 non-null  int64 \n",
            " 14  number_inpatient          99492 non-null  int64 \n",
            " 15  diag_1                    99492 non-null  object\n",
            " 16  diag_2                    99492 non-null  object\n",
            " 17  diag_3                    99492 non-null  object\n",
            " 18  number_diagnoses          99492 non-null  int64 \n",
            " 19  max_glu_serum             99492 non-null  object\n",
            " 20  A1Cresult                 99492 non-null  object\n",
            " 21  metformin                 99492 non-null  object\n",
            " 22  repaglinide               99492 non-null  object\n",
            " 23  nateglinide               99492 non-null  object\n",
            " 24  chlorpropamide            99492 non-null  object\n",
            " 25  glimepiride               99492 non-null  object\n",
            " 26  acetohexamide             99492 non-null  object\n",
            " 27  glipizide                 99492 non-null  object\n",
            " 28  glyburide                 99492 non-null  object\n",
            " 29  tolbutamide               99492 non-null  object\n",
            " 30  pioglitazone              99492 non-null  object\n",
            " 31  rosiglitazone             99492 non-null  object\n",
            " 32  acarbose                  99492 non-null  object\n",
            " 33  miglitol                  99492 non-null  object\n",
            " 34  troglitazone              99492 non-null  object\n",
            " 35  tolazamide                99492 non-null  object\n",
            " 36  examide                   99492 non-null  object\n",
            " 37  citoglipton               99492 non-null  object\n",
            " 38  insulin                   99492 non-null  object\n",
            " 39  glyburide-metformin       99492 non-null  object\n",
            " 40  glipizide-metformin       99492 non-null  object\n",
            " 41  glimepiride-pioglitazone  99492 non-null  object\n",
            " 42  metformin-rosiglitazone   99492 non-null  object\n",
            " 43  metformin-pioglitazone    99492 non-null  object\n",
            " 44  change                    99492 non-null  object\n",
            " 45  diabetesMed               99492 non-null  object\n",
            " 46  readmitted                99492 non-null  object\n",
            "dtypes: int64(13), object(34)\n",
            "memory usage: 36.4+ MB\n"
          ]
        }
      ]
    },
    {
      "cell_type": "code",
      "source": [
        "# Next we have to check the readmitted, in this data, we have to compare the data to readmitted"
      ],
      "metadata": {
        "id": "PngomnmPntzm"
      },
      "execution_count": 10,
      "outputs": []
    },
    {
      "cell_type": "code",
      "source": [
        "df.readmitted.value_counts()"
      ],
      "metadata": {
        "colab": {
          "base_uri": "https://localhost:8080/"
        },
        "id": "tRyIsZoDhcJG",
        "outputId": "6519983f-e5af-4551-a5d6-559742b865bf"
      },
      "execution_count": 11,
      "outputs": [
        {
          "output_type": "execute_result",
          "data": {
            "text/plain": [
              "NO     53316\n",
              ">30    35007\n",
              "<30    11169\n",
              "Name: readmitted, dtype: int64"
            ]
          },
          "metadata": {},
          "execution_count": 11
        }
      ]
    },
    {
      "cell_type": "code",
      "source": [
        "# I had to search this up to organize the readmittance because I was not sure how to approach this but this allows the readmittance to get rid of >30 and <30"
      ],
      "metadata": {
        "id": "7m878v8ulLiU"
      },
      "execution_count": 12,
      "outputs": []
    },
    {
      "cell_type": "code",
      "source": [
        "from sklearn.preprocessing import LabelEncoder, StandardScaler\n",
        "\n",
        "lbe = LabelEncoder()\n",
        "df['readmitted'] = lbe.fit_transform(df['readmitted'])\n",
        "df['readmitted'] = df['readmitted'].apply(lambda x: 'No_readmit' if x >1 \n",
        "                                              else 'Readmit')\n",
        "df['readmitted'] = df['readmitted'].astype('category')\n",
        "df.readmitted.value_counts()"
      ],
      "metadata": {
        "colab": {
          "base_uri": "https://localhost:8080/"
        },
        "id": "mHlRqB9lpNbK",
        "outputId": "c1aef684-ff7a-40a9-e84c-092d879c0759"
      },
      "execution_count": 13,
      "outputs": [
        {
          "output_type": "execute_result",
          "data": {
            "text/plain": [
              "No_readmit    53316\n",
              "Readmit       46176\n",
              "Name: readmitted, dtype: int64"
            ]
          },
          "metadata": {},
          "execution_count": 13
        }
      ]
    },
    {
      "cell_type": "code",
      "source": [
        "# Dropping some of the drugs and diagnosis because it is not needed\n",
        "df = df.drop(['admission_source_id', 'diag_1', 'diag_2', 'diag_3', \n",
        "                  'max_glu_serum', 'metformin', 'repaglinide', 'nateglinide', \n",
        "                  'chlorpropamide', 'glimepiride', 'acetohexamide', 'glipizide', \n",
        "                  'glyburide', 'tolbutamide', 'pioglitazone', 'rosiglitazone', \n",
        "                  'acarbose', 'miglitol', 'troglitazone', 'tolazamide', \n",
        "                  'examide', 'citoglipton', 'glyburide-metformin', \n",
        "                  'glipizide-metformin', 'glimepiride-pioglitazone', \n",
        "                  'metformin-rosiglitazone', 'metformin-pioglitazone', \n",
        "                  'diabetesMed'], axis=1)"
      ],
      "metadata": {
        "id": "qo_Pz_D3p4Vh"
      },
      "execution_count": 14,
      "outputs": []
    },
    {
      "cell_type": "code",
      "source": [
        "df.info()"
      ],
      "metadata": {
        "colab": {
          "base_uri": "https://localhost:8080/"
        },
        "id": "hZRtTibtp-dk",
        "outputId": "1f94dac7-6525-4430-ad54-2ef220dc2326"
      },
      "execution_count": 15,
      "outputs": [
        {
          "output_type": "stream",
          "name": "stdout",
          "text": [
            "<class 'pandas.core.frame.DataFrame'>\n",
            "Int64Index: 99492 entries, 0 to 101765\n",
            "Data columns (total 19 columns):\n",
            " #   Column                    Non-Null Count  Dtype   \n",
            "---  ------                    --------------  -----   \n",
            " 0   encounter_id              99492 non-null  int64   \n",
            " 1   patient_nbr               99492 non-null  int64   \n",
            " 2   race                      99492 non-null  object  \n",
            " 3   gender                    99492 non-null  object  \n",
            " 4   age                       99492 non-null  object  \n",
            " 5   admission_type_id         99492 non-null  int64   \n",
            " 6   discharge_disposition_id  99492 non-null  int64   \n",
            " 7   time_in_hospital          99492 non-null  int64   \n",
            " 8   num_lab_procedures        99492 non-null  int64   \n",
            " 9   num_procedures            99492 non-null  int64   \n",
            " 10  num_medications           99492 non-null  int64   \n",
            " 11  number_outpatient         99492 non-null  int64   \n",
            " 12  number_emergency          99492 non-null  int64   \n",
            " 13  number_inpatient          99492 non-null  int64   \n",
            " 14  number_diagnoses          99492 non-null  int64   \n",
            " 15  A1Cresult                 99492 non-null  object  \n",
            " 16  insulin                   99492 non-null  object  \n",
            " 17  change                    99492 non-null  object  \n",
            " 18  readmitted                99492 non-null  category\n",
            "dtypes: category(1), int64(12), object(6)\n",
            "memory usage: 14.5+ MB\n"
          ]
        }
      ]
    },
    {
      "cell_type": "markdown",
      "source": [
        "The two variables that we will be using for data visualization is between time_in_hospital and num_medications to view the correlation between the time and medications for each patient"
      ],
      "metadata": {
        "id": "vocrikLUfnu8"
      }
    },
    {
      "cell_type": "markdown",
      "source": [
        "### Data Visualization"
      ],
      "metadata": {
        "id": "1ygfAYdogPDr"
      }
    },
    {
      "cell_type": "code",
      "source": [
        "sns.barplot(data = df, x = \"time_in_hospital\", y = \"num_medications\", color = \"orange\")"
      ],
      "metadata": {
        "colab": {
          "base_uri": "https://localhost:8080/",
          "height": 298
        },
        "id": "ygMIIKhDgR2Z",
        "outputId": "305871f9-7983-4476-e8cb-da4a3106f16f"
      },
      "execution_count": 16,
      "outputs": [
        {
          "output_type": "execute_result",
          "data": {
            "text/plain": [
              "<matplotlib.axes._subplots.AxesSubplot at 0x7fee6b59f110>"
            ]
          },
          "metadata": {},
          "execution_count": 16
        },
        {
          "output_type": "display_data",
          "data": {
            "text/plain": [
              "<Figure size 432x288 with 1 Axes>"
            ],
            "image/png": "[encoded data removed]"
          },
          "metadata": {
            "needs_background": "light"
          }
        }
      ]
    },
    {
      "cell_type": "markdown",
      "source": [
        "We can see that the longer time spent in the hospital shows that the number of medications goes up as well"
      ],
      "metadata": {
        "id": "LJuFwGJyg6Ed"
      }
    },
    {
      "cell_type": "code",
      "source": [
        "sns.countplot(df.time_in_hospital)\n",
        "plt.show()"
      ],
      "metadata": {
        "colab": {
          "base_uri": "https://localhost:8080/",
          "height": 336
        },
        "id": "TRio_o71iCV7",
        "outputId": "b61524e2-0ab1-4e3e-c89e-4af267782fa2"
      },
      "execution_count": 17,
      "outputs": [
        {
          "output_type": "stream",
          "name": "stderr",
          "text": [
            "/usr/local/lib/python3.7/dist-packages/seaborn/_decorators.py:43: FutureWarning: Pass the following variable as a keyword arg: x. From version 0.12, the only valid positional argument will be `data`, and passing other arguments without an explicit keyword will result in an error or misinterpretation.\n",
            "  FutureWarning\n"
          ]
        },
        {
          "output_type": "display_data",
          "data": {
            "text/plain": [
              "<Figure size 432x288 with 1 Axes>"
            ],
            "image/png": "[encoded data removed]"
          },
          "metadata": {
            "needs_background": "light"
          }
        }
      ]
    },
    {
      "cell_type": "code",
      "source": [
        "plt.figure(figsize = (18, 10))\n",
        "sns.countplot(df.num_medications)\n",
        "plt.show()"
      ],
      "metadata": {
        "colab": {
          "base_uri": "https://localhost:8080/",
          "height": 662
        },
        "id": "MDIkgh0niGZ4",
        "outputId": "37bfba07-5ba6-43fe-93fe-83ae24e23fa2"
      },
      "execution_count": 18,
      "outputs": [
        {
          "output_type": "stream",
          "name": "stderr",
          "text": [
            "/usr/local/lib/python3.7/dist-packages/seaborn/_decorators.py:43: FutureWarning: Pass the following variable as a keyword arg: x. From version 0.12, the only valid positional argument will be `data`, and passing other arguments without an explicit keyword will result in an error or misinterpretation.\n",
            "  FutureWarning\n"
          ]
        },
        {
          "output_type": "display_data",
          "data": {
            "text/plain": [
              "<Figure size 1296x720 with 1 Axes>"
            ],
            "image/png": "[encoded data removed]"
          },
          "metadata": {
            "needs_background": "light"
          }
        }
      ]
    },
    {
      "cell_type": "markdown",
      "source": [
        "### Other data visualization"
      ],
      "metadata": {
        "id": "hBWjtrbEjNgf"
      }
    },
    {
      "cell_type": "code",
      "source": [
        "sns.countplot(df.gender)\n",
        "plt.show()"
      ],
      "metadata": {
        "colab": {
          "base_uri": "https://localhost:8080/",
          "height": 335
        },
        "id": "rB_9kgS6jUMA",
        "outputId": "a482e46c-3b11-4212-e048-b5325cde579a"
      },
      "execution_count": 19,
      "outputs": [
        {
          "output_type": "stream",
          "name": "stderr",
          "text": [
            "/usr/local/lib/python3.7/dist-packages/seaborn/_decorators.py:43: FutureWarning: Pass the following variable as a keyword arg: x. From version 0.12, the only valid positional argument will be `data`, and passing other arguments without an explicit keyword will result in an error or misinterpretation.\n",
            "  FutureWarning\n"
          ]
        },
        {
          "output_type": "display_data",
          "data": {
            "text/plain": [
              "<Figure size 432x288 with 1 Axes>"
            ],
            "image/png": "[encoded data removed]"
          },
          "metadata": {
            "needs_background": "light"
          }
        }
      ]
    },
    {
      "cell_type": "code",
      "source": [
        "plt.figure(figsize = (12, 7))\n",
        "sns.barplot(x = 'number_inpatient', y = 'number_emergency', data = df, palette = 'winter')"
      ],
      "metadata": {
        "colab": {
          "base_uri": "https://localhost:8080/",
          "height": 461
        },
        "id": "JFEKwXggkDlX",
        "outputId": "49a2882b-d6e5-4560-b6e1-5174918f3714"
      },
      "execution_count": 20,
      "outputs": [
        {
          "output_type": "execute_result",
          "data": {
            "text/plain": [
              "<matplotlib.axes._subplots.AxesSubplot at 0x7fee6acd6410>"
            ]
          },
          "metadata": {},
          "execution_count": 20
        },
        {
          "output_type": "display_data",
          "data": {
            "text/plain": [
              "<Figure size 864x504 with 1 Axes>"
            ],
            "image/png": "[encoded data removed]"
          },
          "metadata": {
            "needs_background": "light"
          }
        }
      ]
    },
    {
      "cell_type": "code",
      "source": [
        "df.hist(figsize = (20, 15))"
      ],
      "metadata": {
        "colab": {
          "base_uri": "https://localhost:8080/",
          "height": 1000
        },
        "id": "ZUC319gwrmvL",
        "outputId": "dc54b213-264b-460d-8ffb-53343475341c"
      },
      "execution_count": 21,
      "outputs": [
        {
          "output_type": "execute_result",
          "data": {
            "text/plain": [
              "array([[<matplotlib.axes._subplots.AxesSubplot object at 0x7fee6ac43d90>,\n",
              "        <matplotlib.axes._subplots.AxesSubplot object at 0x7fee6aabacd0>,\n",
              "        <matplotlib.axes._subplots.AxesSubplot object at 0x7fee6aa80310>],\n",
              "       [<matplotlib.axes._subplots.AxesSubplot object at 0x7fee6aa37910>,\n",
              "        <matplotlib.axes._subplots.AxesSubplot object at 0x7fee6aa6ef10>,\n",
              "        <matplotlib.axes._subplots.AxesSubplot object at 0x7fee6ab976d0>],\n",
              "       [<matplotlib.axes._subplots.AxesSubplot object at 0x7fee6aca1a90>,\n",
              "        <matplotlib.axes._subplots.AxesSubplot object at 0x7fee6b64cd90>,\n",
              "        <matplotlib.axes._subplots.AxesSubplot object at 0x7fee6b47d650>],\n",
              "       [<matplotlib.axes._subplots.AxesSubplot object at 0x7fee6acd69d0>,\n",
              "        <matplotlib.axes._subplots.AxesSubplot object at 0x7fee6b445bd0>,\n",
              "        <matplotlib.axes._subplots.AxesSubplot object at 0x7fee6af718d0>]],\n",
              "      dtype=object)"
            ]
          },
          "metadata": {},
          "execution_count": 21
        },
        {
          "output_type": "display_data",
          "data": {
            "text/plain": [
              "<Figure size 1440x1080 with 12 Axes>"
            ],
            "image/png": "[encoded data removed]"
          },
          "metadata": {
            "needs_background": "light"
          }
        }
      ]
    },
    {
      "cell_type": "markdown",
      "source": [
        "## Changing object to integer"
      ],
      "metadata": {
        "id": "hEELkRobEUU9"
      }
    },
    {
      "cell_type": "code",
      "source": [
        "# Changing the gender to integer\n",
        "df['gender'] = df['gender'].replace(['Male'], 1 )\n",
        "df['gender'] = df['gender'].replace(['Female'], 0 )\n",
        "\n",
        "df.info()"
      ],
      "metadata": {
        "id": "wsDaXvlHsCwQ",
        "colab": {
          "base_uri": "https://localhost:8080/"
        },
        "outputId": "cb0f0e05-1e86-47f8-8e37-adc7f8c2db06"
      },
      "execution_count": 22,
      "outputs": [
        {
          "output_type": "stream",
          "name": "stdout",
          "text": [
            "<class 'pandas.core.frame.DataFrame'>\n",
            "Int64Index: 99492 entries, 0 to 101765\n",
            "Data columns (total 19 columns):\n",
            " #   Column                    Non-Null Count  Dtype   \n",
            "---  ------                    --------------  -----   \n",
            " 0   encounter_id              99492 non-null  int64   \n",
            " 1   patient_nbr               99492 non-null  int64   \n",
            " 2   race                      99492 non-null  object  \n",
            " 3   gender                    99492 non-null  int64   \n",
            " 4   age                       99492 non-null  object  \n",
            " 5   admission_type_id         99492 non-null  int64   \n",
            " 6   discharge_disposition_id  99492 non-null  int64   \n",
            " 7   time_in_hospital          99492 non-null  int64   \n",
            " 8   num_lab_procedures        99492 non-null  int64   \n",
            " 9   num_procedures            99492 non-null  int64   \n",
            " 10  num_medications           99492 non-null  int64   \n",
            " 11  number_outpatient         99492 non-null  int64   \n",
            " 12  number_emergency          99492 non-null  int64   \n",
            " 13  number_inpatient          99492 non-null  int64   \n",
            " 14  number_diagnoses          99492 non-null  int64   \n",
            " 15  A1Cresult                 99492 non-null  object  \n",
            " 16  insulin                   99492 non-null  object  \n",
            " 17  change                    99492 non-null  object  \n",
            " 18  readmitted                99492 non-null  category\n",
            "dtypes: category(1), int64(13), object(5)\n",
            "memory usage: 16.5+ MB\n"
          ]
        }
      ]
    },
    {
      "cell_type": "code",
      "source": [
        "# Changing the age to integer\n",
        "\n",
        "df['age'].unique()"
      ],
      "metadata": {
        "colab": {
          "base_uri": "https://localhost:8080/"
        },
        "id": "0Xia4gutB-Ii",
        "outputId": "545efa30-6812-49de-80dd-2388b15b744c"
      },
      "execution_count": 23,
      "outputs": [
        {
          "output_type": "execute_result",
          "data": {
            "text/plain": [
              "array(['[0-10)', '[10-20)', '[20-30)', '[30-40)', '[40-50)', '[50-60)',\n",
              "       '[60-70)', '[70-80)', '[80-90)', '[90-100)'], dtype=object)"
            ]
          },
          "metadata": {},
          "execution_count": 23
        }
      ]
    },
    {
      "cell_type": "code",
      "source": [
        "df['age'] = df['age'].replace(['[0-10)'], 0)\n",
        "df['age'] = df['age'].replace(['[10-20)'], 1)\n",
        "df['age'] = df['age'].replace(['[20-30)'], 2)\n",
        "df['age'] = df['age'].replace(['[30-40)'], 3)\n",
        "df['age'] = df['age'].replace(['[40-50)'], 4)\n",
        "df['age'] = df['age'].replace(['[50-60)'], 5)\n",
        "df['age'] = df['age'].replace(['[60-70)'], 6)\n",
        "df['age'] = df['age'].replace(['[70-80)'], 7)\n",
        "df['age'] = df['age'].replace(['[80-90)'], 8)\n",
        "df['age'] = df['age'].replace(['[90-100)'], 9)\n",
        "df.info()"
      ],
      "metadata": {
        "colab": {
          "base_uri": "https://localhost:8080/"
        },
        "id": "k-Q7aE0uCgfk",
        "outputId": "58e27fd7-c13e-4e25-d0e8-b77e42f69ad5"
      },
      "execution_count": 24,
      "outputs": [
        {
          "output_type": "stream",
          "name": "stdout",
          "text": [
            "<class 'pandas.core.frame.DataFrame'>\n",
            "Int64Index: 99492 entries, 0 to 101765\n",
            "Data columns (total 19 columns):\n",
            " #   Column                    Non-Null Count  Dtype   \n",
            "---  ------                    --------------  -----   \n",
            " 0   encounter_id              99492 non-null  int64   \n",
            " 1   patient_nbr               99492 non-null  int64   \n",
            " 2   race                      99492 non-null  object  \n",
            " 3   gender                    99492 non-null  int64   \n",
            " 4   age                       99492 non-null  int64   \n",
            " 5   admission_type_id         99492 non-null  int64   \n",
            " 6   discharge_disposition_id  99492 non-null  int64   \n",
            " 7   time_in_hospital          99492 non-null  int64   \n",
            " 8   num_lab_procedures        99492 non-null  int64   \n",
            " 9   num_procedures            99492 non-null  int64   \n",
            " 10  num_medications           99492 non-null  int64   \n",
            " 11  number_outpatient         99492 non-null  int64   \n",
            " 12  number_emergency          99492 non-null  int64   \n",
            " 13  number_inpatient          99492 non-null  int64   \n",
            " 14  number_diagnoses          99492 non-null  int64   \n",
            " 15  A1Cresult                 99492 non-null  object  \n",
            " 16  insulin                   99492 non-null  object  \n",
            " 17  change                    99492 non-null  object  \n",
            " 18  readmitted                99492 non-null  category\n",
            "dtypes: category(1), int64(14), object(4)\n",
            "memory usage: 16.5+ MB\n"
          ]
        }
      ]
    },
    {
      "cell_type": "code",
      "source": [
        "# Changing the race to int\n",
        "\n",
        "df['race'].unique()"
      ],
      "metadata": {
        "colab": {
          "base_uri": "https://localhost:8080/"
        },
        "id": "uiyTWau8DVxp",
        "outputId": "7981e405-f1ab-4b91-fa6e-20deeecb9ad3"
      },
      "execution_count": 25,
      "outputs": [
        {
          "output_type": "execute_result",
          "data": {
            "text/plain": [
              "array(['Caucasian', 'AfricanAmerican', 'Other', 'Asian', 'Hispanic'],\n",
              "      dtype=object)"
            ]
          },
          "metadata": {},
          "execution_count": 25
        }
      ]
    },
    {
      "cell_type": "code",
      "source": [
        "df['race'] = df['race'].replace(['Caucasian'], 0)\n",
        "df['race'] = df['race'].replace(['AfricanAmerican'], 1)\n",
        "df['race'] = df['race'].replace(['Other'], 2)\n",
        "df['race'] = df['race'].replace(['Asian'], 3)\n",
        "df['race'] = df['race'].replace(['Hispanic'], 4)\n",
        "\n",
        "df.info()"
      ],
      "metadata": {
        "colab": {
          "base_uri": "https://localhost:8080/"
        },
        "id": "_RJBBGjeDe_d",
        "outputId": "a1eaccb9-b3cf-49a9-8a21-cbbce3490e47"
      },
      "execution_count": 26,
      "outputs": [
        {
          "output_type": "stream",
          "name": "stdout",
          "text": [
            "<class 'pandas.core.frame.DataFrame'>\n",
            "Int64Index: 99492 entries, 0 to 101765\n",
            "Data columns (total 19 columns):\n",
            " #   Column                    Non-Null Count  Dtype   \n",
            "---  ------                    --------------  -----   \n",
            " 0   encounter_id              99492 non-null  int64   \n",
            " 1   patient_nbr               99492 non-null  int64   \n",
            " 2   race                      99492 non-null  int64   \n",
            " 3   gender                    99492 non-null  int64   \n",
            " 4   age                       99492 non-null  int64   \n",
            " 5   admission_type_id         99492 non-null  int64   \n",
            " 6   discharge_disposition_id  99492 non-null  int64   \n",
            " 7   time_in_hospital          99492 non-null  int64   \n",
            " 8   num_lab_procedures        99492 non-null  int64   \n",
            " 9   num_procedures            99492 non-null  int64   \n",
            " 10  num_medications           99492 non-null  int64   \n",
            " 11  number_outpatient         99492 non-null  int64   \n",
            " 12  number_emergency          99492 non-null  int64   \n",
            " 13  number_inpatient          99492 non-null  int64   \n",
            " 14  number_diagnoses          99492 non-null  int64   \n",
            " 15  A1Cresult                 99492 non-null  object  \n",
            " 16  insulin                   99492 non-null  object  \n",
            " 17  change                    99492 non-null  object  \n",
            " 18  readmitted                99492 non-null  category\n",
            "dtypes: category(1), int64(15), object(3)\n",
            "memory usage: 16.5+ MB\n"
          ]
        }
      ]
    },
    {
      "cell_type": "code",
      "source": [
        "# Changing the change to int\n",
        "\n",
        "df['change'].unique()"
      ],
      "metadata": {
        "colab": {
          "base_uri": "https://localhost:8080/"
        },
        "id": "nEaNeZg1D1-7",
        "outputId": "39d5a571-1f1e-4a2b-ad35-aa047399b0dd"
      },
      "execution_count": 27,
      "outputs": [
        {
          "output_type": "execute_result",
          "data": {
            "text/plain": [
              "array(['No', 'Ch'], dtype=object)"
            ]
          },
          "metadata": {},
          "execution_count": 27
        }
      ]
    },
    {
      "cell_type": "code",
      "source": [
        "df['change'] = df['change'].replace(['No'], 0)\n",
        "df['change'] = df['change'].replace(['Ch'], 1)"
      ],
      "metadata": {
        "id": "iQTPB3UiD79J"
      },
      "execution_count": 28,
      "outputs": []
    },
    {
      "cell_type": "code",
      "source": [
        "df.info()"
      ],
      "metadata": {
        "colab": {
          "base_uri": "https://localhost:8080/"
        },
        "id": "MvVOt3zvED9j",
        "outputId": "97423c22-e26a-4b44-f1e6-6f6580b73cdd"
      },
      "execution_count": 29,
      "outputs": [
        {
          "output_type": "stream",
          "name": "stdout",
          "text": [
            "<class 'pandas.core.frame.DataFrame'>\n",
            "Int64Index: 99492 entries, 0 to 101765\n",
            "Data columns (total 19 columns):\n",
            " #   Column                    Non-Null Count  Dtype   \n",
            "---  ------                    --------------  -----   \n",
            " 0   encounter_id              99492 non-null  int64   \n",
            " 1   patient_nbr               99492 non-null  int64   \n",
            " 2   race                      99492 non-null  int64   \n",
            " 3   gender                    99492 non-null  int64   \n",
            " 4   age                       99492 non-null  int64   \n",
            " 5   admission_type_id         99492 non-null  int64   \n",
            " 6   discharge_disposition_id  99492 non-null  int64   \n",
            " 7   time_in_hospital          99492 non-null  int64   \n",
            " 8   num_lab_procedures        99492 non-null  int64   \n",
            " 9   num_procedures            99492 non-null  int64   \n",
            " 10  num_medications           99492 non-null  int64   \n",
            " 11  number_outpatient         99492 non-null  int64   \n",
            " 12  number_emergency          99492 non-null  int64   \n",
            " 13  number_inpatient          99492 non-null  int64   \n",
            " 14  number_diagnoses          99492 non-null  int64   \n",
            " 15  A1Cresult                 99492 non-null  object  \n",
            " 16  insulin                   99492 non-null  object  \n",
            " 17  change                    99492 non-null  int64   \n",
            " 18  readmitted                99492 non-null  category\n",
            "dtypes: category(1), int64(16), object(2)\n",
            "memory usage: 16.5+ MB\n"
          ]
        }
      ]
    },
    {
      "cell_type": "code",
      "source": [
        "# Changing the A1Cresult to integer\n",
        "df['A1Cresult'].unique()"
      ],
      "metadata": {
        "colab": {
          "base_uri": "https://localhost:8080/"
        },
        "id": "bovMlIoHEg1_",
        "outputId": "a842898b-8b90-4a2f-bbbf-f91c24094bf4"
      },
      "execution_count": 30,
      "outputs": [
        {
          "output_type": "execute_result",
          "data": {
            "text/plain": [
              "array(['None', '>7', '>8', 'Norm'], dtype=object)"
            ]
          },
          "metadata": {},
          "execution_count": 30
        }
      ]
    },
    {
      "cell_type": "code",
      "source": [
        "df['A1Cresult'] = df['A1Cresult'].replace(['None'], 0)\n",
        "df['A1Cresult'] = df['A1Cresult'].replace(['>7'], 1)\n",
        "df['A1Cresult'] = df['A1Cresult'].replace(['>8'], 2)\n",
        "df['A1Cresult'] = df['A1Cresult'].replace(['Norm'], 3)\n",
        "df.info()"
      ],
      "metadata": {
        "colab": {
          "base_uri": "https://localhost:8080/"
        },
        "id": "pDI7nJgLEyo8",
        "outputId": "c8749ed2-b285-4f3e-afee-16301c39d34f"
      },
      "execution_count": 31,
      "outputs": [
        {
          "output_type": "stream",
          "name": "stdout",
          "text": [
            "<class 'pandas.core.frame.DataFrame'>\n",
            "Int64Index: 99492 entries, 0 to 101765\n",
            "Data columns (total 19 columns):\n",
            " #   Column                    Non-Null Count  Dtype   \n",
            "---  ------                    --------------  -----   \n",
            " 0   encounter_id              99492 non-null  int64   \n",
            " 1   patient_nbr               99492 non-null  int64   \n",
            " 2   race                      99492 non-null  int64   \n",
            " 3   gender                    99492 non-null  int64   \n",
            " 4   age                       99492 non-null  int64   \n",
            " 5   admission_type_id         99492 non-null  int64   \n",
            " 6   discharge_disposition_id  99492 non-null  int64   \n",
            " 7   time_in_hospital          99492 non-null  int64   \n",
            " 8   num_lab_procedures        99492 non-null  int64   \n",
            " 9   num_procedures            99492 non-null  int64   \n",
            " 10  num_medications           99492 non-null  int64   \n",
            " 11  number_outpatient         99492 non-null  int64   \n",
            " 12  number_emergency          99492 non-null  int64   \n",
            " 13  number_inpatient          99492 non-null  int64   \n",
            " 14  number_diagnoses          99492 non-null  int64   \n",
            " 15  A1Cresult                 99492 non-null  int64   \n",
            " 16  insulin                   99492 non-null  object  \n",
            " 17  change                    99492 non-null  int64   \n",
            " 18  readmitted                99492 non-null  category\n",
            "dtypes: category(1), int64(17), object(1)\n",
            "memory usage: 16.5+ MB\n"
          ]
        }
      ]
    },
    {
      "cell_type": "code",
      "source": [
        "# Changing the insulin to integer\n",
        "df['insulin'].unique()"
      ],
      "metadata": {
        "colab": {
          "base_uri": "https://localhost:8080/"
        },
        "id": "InxJOouTEkal",
        "outputId": "899ba920-34a3-4f8c-ed1d-e81492a9d11b"
      },
      "execution_count": 32,
      "outputs": [
        {
          "output_type": "execute_result",
          "data": {
            "text/plain": [
              "array(['No', 'Up', 'Steady', 'Down'], dtype=object)"
            ]
          },
          "metadata": {},
          "execution_count": 32
        }
      ]
    },
    {
      "cell_type": "code",
      "source": [
        "df['insulin'] = df['insulin'].replace(['No'], 0)\n",
        "df['insulin'] = df['insulin'].replace(['Up'], 1)\n",
        "df['insulin'] = df['insulin'].replace(['Steady'], 2)\n",
        "df['insulin'] = df['insulin'].replace(['Down'], 3)\n",
        "df.info()"
      ],
      "metadata": {
        "colab": {
          "base_uri": "https://localhost:8080/"
        },
        "id": "2xxQTRWYFNf_",
        "outputId": "e44080c7-822c-4ae9-b2c7-0349022b3bf9"
      },
      "execution_count": 33,
      "outputs": [
        {
          "output_type": "stream",
          "name": "stdout",
          "text": [
            "<class 'pandas.core.frame.DataFrame'>\n",
            "Int64Index: 99492 entries, 0 to 101765\n",
            "Data columns (total 19 columns):\n",
            " #   Column                    Non-Null Count  Dtype   \n",
            "---  ------                    --------------  -----   \n",
            " 0   encounter_id              99492 non-null  int64   \n",
            " 1   patient_nbr               99492 non-null  int64   \n",
            " 2   race                      99492 non-null  int64   \n",
            " 3   gender                    99492 non-null  int64   \n",
            " 4   age                       99492 non-null  int64   \n",
            " 5   admission_type_id         99492 non-null  int64   \n",
            " 6   discharge_disposition_id  99492 non-null  int64   \n",
            " 7   time_in_hospital          99492 non-null  int64   \n",
            " 8   num_lab_procedures        99492 non-null  int64   \n",
            " 9   num_procedures            99492 non-null  int64   \n",
            " 10  num_medications           99492 non-null  int64   \n",
            " 11  number_outpatient         99492 non-null  int64   \n",
            " 12  number_emergency          99492 non-null  int64   \n",
            " 13  number_inpatient          99492 non-null  int64   \n",
            " 14  number_diagnoses          99492 non-null  int64   \n",
            " 15  A1Cresult                 99492 non-null  int64   \n",
            " 16  insulin                   99492 non-null  int64   \n",
            " 17  change                    99492 non-null  int64   \n",
            " 18  readmitted                99492 non-null  category\n",
            "dtypes: category(1), int64(18)\n",
            "memory usage: 16.5 MB\n"
          ]
        }
      ]
    },
    {
      "cell_type": "markdown",
      "source": [
        "# Part 3: Building and Evaluating Models"
      ],
      "metadata": {
        "id": "uQJ82a6jebfI"
      }
    },
    {
      "cell_type": "markdown",
      "source": [
        "## Logistic Regression"
      ],
      "metadata": {
        "id": "F0bS1jgbfYTV"
      }
    },
    {
      "cell_type": "code",
      "source": [
        "X_train, X_test, y_train, y_test = train_test_split(df.drop('readmitted', axis = 1), df['readmitted'], test_size = 0.5, random_state = 0)"
      ],
      "metadata": {
        "id": "I2PiXcAtqxtF"
      },
      "execution_count": 34,
      "outputs": []
    },
    {
      "cell_type": "code",
      "source": [
        "logmodel = LogisticRegression()\n",
        "logmodel.fit(X_train, y_train)"
      ],
      "metadata": {
        "id": "kzJT8R42qxq_",
        "colab": {
          "base_uri": "https://localhost:8080/"
        },
        "outputId": "a2a442f6-0f48-4fd4-8a24-1b39c9657510"
      },
      "execution_count": 35,
      "outputs": [
        {
          "output_type": "execute_result",
          "data": {
            "text/plain": [
              "LogisticRegression()"
            ]
          },
          "metadata": {},
          "execution_count": 35
        }
      ]
    },
    {
      "cell_type": "code",
      "source": [
        "predictions = logmodel.predict(X_test)"
      ],
      "metadata": {
        "id": "EzQodvO2fVVz"
      },
      "execution_count": 36,
      "outputs": []
    },
    {
      "cell_type": "code",
      "source": [
        "from sklearn.metrics import classification_report"
      ],
      "metadata": {
        "id": "3GyGOSJNt9ds"
      },
      "execution_count": 37,
      "outputs": []
    },
    {
      "cell_type": "code",
      "source": [
        "print(classification_report(y_test, predictions))"
      ],
      "metadata": {
        "id": "Y-GoLwDqt_OH",
        "colab": {
          "base_uri": "https://localhost:8080/"
        },
        "outputId": "72aa47ca-2497-4dfc-cc3f-22f181136a37"
      },
      "execution_count": 38,
      "outputs": [
        {
          "output_type": "stream",
          "name": "stdout",
          "text": [
            "              precision    recall  f1-score   support\n",
            "\n",
            "  No_readmit       0.57      0.76      0.65     26670\n",
            "     Readmit       0.55      0.35      0.43     23076\n",
            "\n",
            "    accuracy                           0.57     49746\n",
            "   macro avg       0.56      0.55      0.54     49746\n",
            "weighted avg       0.56      0.57      0.55     49746\n",
            "\n"
          ]
        }
      ]
    },
    {
      "cell_type": "code",
      "source": [
        "from sklearn.metrics import confusion_matrix\n",
        "print(confusion_matrix(y_test, predictions))"
      ],
      "metadata": {
        "colab": {
          "base_uri": "https://localhost:8080/"
        },
        "id": "JUyzq4PYH218",
        "outputId": "a87e7a81-5d7c-4649-ca22-75f908e76611"
      },
      "execution_count": 39,
      "outputs": [
        {
          "output_type": "stream",
          "name": "stdout",
          "text": [
            "[[20203  6467]\n",
            " [15083  7993]]\n"
          ]
        }
      ]
    },
    {
      "cell_type": "code",
      "source": [
        "print('The prediction Accuracy of the model is ', logmodel.score(X_test, y_test))\n",
        "pp = logmodel.predict(X_test)\n",
        "plist = pp.tolist()\n",
        "print(\"Did Not Readmit: \", plist.count('1'))\n",
        "print(\"Readmit: \", plist.count('0'))"
      ],
      "metadata": {
        "colab": {
          "base_uri": "https://localhost:8080/"
        },
        "id": "Ih7oS7hmImgi",
        "outputId": "9bd31fd3-b7a2-450f-9e2f-480e955308eb"
      },
      "execution_count": 50,
      "outputs": [
        {
          "output_type": "stream",
          "name": "stdout",
          "text": [
            "The prediction Accuracy of the model is  0.5667993406505045\n",
            "Did Not Readmit:  0\n",
            "Readmit:  0\n"
          ]
        }
      ]
    },
    {
      "cell_type": "markdown",
      "source": [
        "## KNN"
      ],
      "metadata": {
        "id": "Y83gUvwoHmxk"
      }
    },
    {
      "cell_type": "code",
      "source": [
        "from sklearn.neighbors import KNeighborsClassifier\n",
        "knn = KNeighborsClassifier(n_neighbors=1)\n",
        "knn.fit(X_train, y_train)"
      ],
      "metadata": {
        "colab": {
          "base_uri": "https://localhost:8080/"
        },
        "id": "nw0jgLpDHo4H",
        "outputId": "79f55bf0-797a-4d62-e2eb-89659485b2e4"
      },
      "execution_count": 41,
      "outputs": [
        {
          "output_type": "execute_result",
          "data": {
            "text/plain": [
              "KNeighborsClassifier(n_neighbors=1)"
            ]
          },
          "metadata": {},
          "execution_count": 41
        }
      ]
    },
    {
      "cell_type": "code",
      "source": [
        "pred = knn.predict(X_test)"
      ],
      "metadata": {
        "id": "btN1drMnJ94l"
      },
      "execution_count": 42,
      "outputs": []
    },
    {
      "cell_type": "code",
      "source": [
        "print(confusion_matrix(y_test, pred))"
      ],
      "metadata": {
        "colab": {
          "base_uri": "https://localhost:8080/"
        },
        "id": "zEc2_MO6J92R",
        "outputId": "6e22eb6b-b96e-4c25-f525-583e2d6f0575"
      },
      "execution_count": 43,
      "outputs": [
        {
          "output_type": "stream",
          "name": "stdout",
          "text": [
            "[[15200 11470]\n",
            " [11520 11556]]\n"
          ]
        }
      ]
    },
    {
      "cell_type": "code",
      "source": [
        "print(classification_report(y_test, pred))"
      ],
      "metadata": {
        "colab": {
          "base_uri": "https://localhost:8080/"
        },
        "id": "VK5fA1mPKBQL",
        "outputId": "08d8f7e6-609a-4fe4-9a91-de32a99a35d5"
      },
      "execution_count": 44,
      "outputs": [
        {
          "output_type": "stream",
          "name": "stdout",
          "text": [
            "              precision    recall  f1-score   support\n",
            "\n",
            "  No_readmit       0.57      0.57      0.57     26670\n",
            "     Readmit       0.50      0.50      0.50     23076\n",
            "\n",
            "    accuracy                           0.54     49746\n",
            "   macro avg       0.54      0.54      0.54     49746\n",
            "weighted avg       0.54      0.54      0.54     49746\n",
            "\n"
          ]
        }
      ]
    },
    {
      "cell_type": "markdown",
      "source": [
        "## Decision Trees"
      ],
      "metadata": {
        "id": "9QLwNeAtJXQ3"
      }
    },
    {
      "cell_type": "code",
      "source": [
        "from sklearn.tree import DecisionTreeClassifier"
      ],
      "metadata": {
        "id": "c7EC1yRiJZmn"
      },
      "execution_count": 45,
      "outputs": []
    },
    {
      "cell_type": "code",
      "source": [
        "dtree = DecisionTreeClassifier()\n",
        "dtree.fit(X_train, y_train)"
      ],
      "metadata": {
        "colab": {
          "base_uri": "https://localhost:8080/"
        },
        "id": "IRDqARzLMROq",
        "outputId": "f5db4f17-365b-40c3-9140-b0a3866678d0"
      },
      "execution_count": 46,
      "outputs": [
        {
          "output_type": "execute_result",
          "data": {
            "text/plain": [
              "DecisionTreeClassifier()"
            ]
          },
          "metadata": {},
          "execution_count": 46
        }
      ]
    },
    {
      "cell_type": "code",
      "source": [
        "predictions = dtree.predict(X_test)\n",
        "print(classification_report(y_test, predictions))"
      ],
      "metadata": {
        "colab": {
          "base_uri": "https://localhost:8080/"
        },
        "id": "B6X1r5PiMSKe",
        "outputId": "2f54443e-f356-47e5-dcb7-8c4298455377"
      },
      "execution_count": 47,
      "outputs": [
        {
          "output_type": "stream",
          "name": "stdout",
          "text": [
            "              precision    recall  f1-score   support\n",
            "\n",
            "  No_readmit       0.61      0.60      0.60     26670\n",
            "     Readmit       0.54      0.55      0.55     23076\n",
            "\n",
            "    accuracy                           0.58     49746\n",
            "   macro avg       0.57      0.58      0.58     49746\n",
            "weighted avg       0.58      0.58      0.58     49746\n",
            "\n"
          ]
        }
      ]
    },
    {
      "cell_type": "code",
      "source": [
        "print(confusion_matrix(y_test, predictions))"
      ],
      "metadata": {
        "colab": {
          "base_uri": "https://localhost:8080/"
        },
        "id": "dSu0m8EMMT3L",
        "outputId": "49a03cf0-4f88-48fa-f42f-a28db115fee9"
      },
      "execution_count": 48,
      "outputs": [
        {
          "output_type": "stream",
          "name": "stdout",
          "text": [
            "[[16018 10652]\n",
            " [10394 12682]]\n"
          ]
        }
      ]
    },
    {
      "cell_type": "markdown",
      "source": [
        "# Part 4: Select Models"
      ],
      "metadata": {
        "id": "7O_Ay40FfVTD"
      }
    },
    {
      "cell_type": "code",
      "source": [
        "# I would choose the decision tree because it gave me a better precision"
      ],
      "metadata": {
        "id": "1RrqFjypfjZA"
      },
      "execution_count": 49,
      "outputs": []
    }
  ]
}