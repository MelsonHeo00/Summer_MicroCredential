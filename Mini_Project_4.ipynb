{
  "nbformat": 4,
  "nbformat_minor": 0,
  "metadata": {
    "colab": {
      "name": "Mini Project 4.ipynb",
      "provenance": [],
      "collapsed_sections": [],
      "authorship_tag": "ABX9TyPzc06jTSnyZkA5Mx/GsOl7",
      "include_colab_link": true
    },
    "kernelspec": {
      "name": "python3",
      "display_name": "Python 3"
    },
    "language_info": {
      "name": "python"
    }
  },
  "cells": [
    {
      "cell_type": "markdown",
      "metadata": {
        "id": "view-in-github",
        "colab_type": "text"
      },
      "source": [
        "<a href=\"https://colab.research.google.com/github/MelsonHeo00/Summer_MicroCredential/blob/main/Mini_Project_4.ipynb\" target=\"_parent\"><img src=\"https://colab.research.google.com/assets/colab-badge.svg\" alt=\"Open In Colab\"/></a>"
      ]
    },
    {
      "cell_type": "markdown",
      "source": [
        "#  Part 1: Overview\n",
        "## In this project, we will be going over the data of diabetes within the 10 years mark between 1999 and 2008. In this analysis, we want to predict how often the patient will go back to the hospital based on the other variables."
      ],
      "metadata": {
        "id": "5hOhkKuvboQP"
      }
    },
    {
      "cell_type": "markdown",
      "source": [
        "# Part 2: Data Exploration (EDA) and Data Cleaning"
      ],
      "metadata": {
        "id": "u4qZLJ6HbzbD"
      }
    },
    {
      "cell_type": "markdown",
      "source": [
        "## Loading up the libraries"
      ],
      "metadata": {
        "id": "vX-UCGPeb7am"
      }
    },
    {
      "cell_type": "code",
      "source": [
        "import pandas as pd\n",
        "import seaborn as sns\n",
        "import matplotlib.pyplot as plt\n",
        "import numpy as np\n",
        "import seaborn as sns\n",
        "%matplotlib inline\n",
        "from sklearn.model_selection import train_test_split\n",
        "from sklearn.linear_model import LogisticRegression"
      ],
      "metadata": {
        "id": "2PAs9hPPazBx"
      },
      "execution_count": 1,
      "outputs": []
    },
    {
      "cell_type": "markdown",
      "source": [
        "## Loading up the data"
      ],
      "metadata": {
        "id": "vHPwLZDIcDZe"
      }
    },
    {
      "cell_type": "code",
      "execution_count": 2,
      "metadata": {
        "id": "l6XpLB2nakZq"
      },
      "outputs": [],
      "source": [
        "# Using pandas to load up and read the raw data\n",
        "df = pd.read_csv('https://raw.githubusercontent.com/MelsonHeo00/ML-Data/main/dataset_diabetes.csv')"
      ]
    },
    {
      "cell_type": "markdown",
      "source": [
        "## EDA Part"
      ],
      "metadata": {
        "id": "afCH9Rw0cFwF"
      }
    },
    {
      "cell_type": "code",
      "source": [
        "# Checks to see if the data is running smoothly\n",
        "df.head()"
      ],
      "metadata": {
        "colab": {
          "base_uri": "https://localhost:8080/",
          "height": 403
        },
        "id": "mKvD9ZNha2Qp",
        "outputId": "faa58729-eb43-4a09-e757-dcd3c69485fa"
      },
      "execution_count": 3,
      "outputs": [
        {
          "output_type": "execute_result",
          "data": {
            "text/plain": [
              "   encounter_id  patient_nbr             race  gender      age weight  \\\n",
              "0       2278392      8222157        Caucasian  Female   [0-10)      ?   \n",
              "1        149190     55629189        Caucasian  Female  [10-20)      ?   \n",
              "2         64410     86047875  AfricanAmerican  Female  [20-30)      ?   \n",
              "3        500364     82442376        Caucasian    Male  [30-40)      ?   \n",
              "4         16680     42519267        Caucasian    Male  [40-50)      ?   \n",
              "\n",
              "   admission_type_id  discharge_disposition_id  admission_source_id  \\\n",
              "0                  6                        25                    1   \n",
              "1                  1                         1                    7   \n",
              "2                  1                         1                    7   \n",
              "3                  1                         1                    7   \n",
              "4                  1                         1                    7   \n",
              "\n",
              "   time_in_hospital  ... citoglipton insulin  glyburide-metformin  \\\n",
              "0                 1  ...          No      No                   No   \n",
              "1                 3  ...          No      Up                   No   \n",
              "2                 2  ...          No      No                   No   \n",
              "3                 2  ...          No      Up                   No   \n",
              "4                 1  ...          No  Steady                   No   \n",
              "\n",
              "   glipizide-metformin  glimepiride-pioglitazone  metformin-rosiglitazone  \\\n",
              "0                   No                        No                       No   \n",
              "1                   No                        No                       No   \n",
              "2                   No                        No                       No   \n",
              "3                   No                        No                       No   \n",
              "4                   No                        No                       No   \n",
              "\n",
              "   metformin-pioglitazone  change diabetesMed readmitted  \n",
              "0                      No      No          No         NO  \n",
              "1                      No      Ch         Yes        >30  \n",
              "2                      No      No         Yes         NO  \n",
              "3                      No      Ch         Yes         NO  \n",
              "4                      No      Ch         Yes         NO  \n",
              "\n",
              "[5 rows x 50 columns]"
            ],
            "text/html": [
              "\n",
              "  <div id=\"df-d885b317-6745-42eb-b98e-5b9d0309f500\">\n",
              "    <div class=\"colab-df-container\">\n",
              "      <div>\n",
              "<style scoped>\n",
              "    .dataframe tbody tr th:only-of-type {\n",
              "        vertical-align: middle;\n",
              "    }\n",
              "\n",
              "    .dataframe tbody tr th {\n",
              "        vertical-align: top;\n",
              "    }\n",
              "\n",
              "    .dataframe thead th {\n",
              "        text-align: right;\n",
              "    }\n",
              "</style>\n",
              "<table border=\"1\" class=\"dataframe\">\n",
              "  <thead>\n",
              "    <tr style=\"text-align: right;\">\n",
              "      <th></th>\n",
              "      <th>encounter_id</th>\n",
              "      <th>patient_nbr</th>\n",
              "      <th>race</th>\n",
              "      <th>gender</th>\n",
              "      <th>age</th>\n",
              "      <th>weight</th>\n",
              "      <th>admission_type_id</th>\n",
              "      <th>discharge_disposition_id</th>\n",
              "      <th>admission_source_id</th>\n",
              "      <th>time_in_hospital</th>\n",
              "      <th>...</th>\n",
              "      <th>citoglipton</th>\n",
              "      <th>insulin</th>\n",
              "      <th>glyburide-metformin</th>\n",
              "      <th>glipizide-metformin</th>\n",
              "      <th>glimepiride-pioglitazone</th>\n",
              "      <th>metformin-rosiglitazone</th>\n",
              "      <th>metformin-pioglitazone</th>\n",
              "      <th>change</th>\n",
              "      <th>diabetesMed</th>\n",
              "      <th>readmitted</th>\n",
              "    </tr>\n",
              "  </thead>\n",
              "  <tbody>\n",
              "    <tr>\n",
              "      <th>0</th>\n",
              "      <td>2278392</td>\n",
              "      <td>8222157</td>\n",
              "      <td>Caucasian</td>\n",
              "      <td>Female</td>\n",
              "      <td>[0-10)</td>\n",
              "      <td>?</td>\n",
              "      <td>6</td>\n",
              "      <td>25</td>\n",
              "      <td>1</td>\n",
              "      <td>1</td>\n",
              "      <td>...</td>\n",
              "      <td>No</td>\n",
              "      <td>No</td>\n",
              "      <td>No</td>\n",
              "      <td>No</td>\n",
              "      <td>No</td>\n",
              "      <td>No</td>\n",
              "      <td>No</td>\n",
              "      <td>No</td>\n",
              "      <td>No</td>\n",
              "      <td>NO</td>\n",
              "    </tr>\n",
              "    <tr>\n",
              "      <th>1</th>\n",
              "      <td>149190</td>\n",
              "      <td>55629189</td>\n",
              "      <td>Caucasian</td>\n",
              "      <td>Female</td>\n",
              "      <td>[10-20)</td>\n",
              "      <td>?</td>\n",
              "      <td>1</td>\n",
              "      <td>1</td>\n",
              "      <td>7</td>\n",
              "      <td>3</td>\n",
              "      <td>...</td>\n",
              "      <td>No</td>\n",
              "      <td>Up</td>\n",
              "      <td>No</td>\n",
              "      <td>No</td>\n",
              "      <td>No</td>\n",
              "      <td>No</td>\n",
              "      <td>No</td>\n",
              "      <td>Ch</td>\n",
              "      <td>Yes</td>\n",
              "      <td>&gt;30</td>\n",
              "    </tr>\n",
              "    <tr>\n",
              "      <th>2</th>\n",
              "      <td>64410</td>\n",
              "      <td>86047875</td>\n",
              "      <td>AfricanAmerican</td>\n",
              "      <td>Female</td>\n",
              "      <td>[20-30)</td>\n",
              "      <td>?</td>\n",
              "      <td>1</td>\n",
              "      <td>1</td>\n",
              "      <td>7</td>\n",
              "      <td>2</td>\n",
              "      <td>...</td>\n",
              "      <td>No</td>\n",
              "      <td>No</td>\n",
              "      <td>No</td>\n",
              "      <td>No</td>\n",
              "      <td>No</td>\n",
              "      <td>No</td>\n",
              "      <td>No</td>\n",
              "      <td>No</td>\n",
              "      <td>Yes</td>\n",
              "      <td>NO</td>\n",
              "    </tr>\n",
              "    <tr>\n",
              "      <th>3</th>\n",
              "      <td>500364</td>\n",
              "      <td>82442376</td>\n",
              "      <td>Caucasian</td>\n",
              "      <td>Male</td>\n",
              "      <td>[30-40)</td>\n",
              "      <td>?</td>\n",
              "      <td>1</td>\n",
              "      <td>1</td>\n",
              "      <td>7</td>\n",
              "      <td>2</td>\n",
              "      <td>...</td>\n",
              "      <td>No</td>\n",
              "      <td>Up</td>\n",
              "      <td>No</td>\n",
              "      <td>No</td>\n",
              "      <td>No</td>\n",
              "      <td>No</td>\n",
              "      <td>No</td>\n",
              "      <td>Ch</td>\n",
              "      <td>Yes</td>\n",
              "      <td>NO</td>\n",
              "    </tr>\n",
              "    <tr>\n",
              "      <th>4</th>\n",
              "      <td>16680</td>\n",
              "      <td>42519267</td>\n",
              "      <td>Caucasian</td>\n",
              "      <td>Male</td>\n",
              "      <td>[40-50)</td>\n",
              "      <td>?</td>\n",
              "      <td>1</td>\n",
              "      <td>1</td>\n",
              "      <td>7</td>\n",
              "      <td>1</td>\n",
              "      <td>...</td>\n",
              "      <td>No</td>\n",
              "      <td>Steady</td>\n",
              "      <td>No</td>\n",
              "      <td>No</td>\n",
              "      <td>No</td>\n",
              "      <td>No</td>\n",
              "      <td>No</td>\n",
              "      <td>Ch</td>\n",
              "      <td>Yes</td>\n",
              "      <td>NO</td>\n",
              "    </tr>\n",
              "  </tbody>\n",
              "</table>\n",
              "<p>5 rows × 50 columns</p>\n",
              "</div>\n",
              "      <button class=\"colab-df-convert\" onclick=\"convertToInteractive('df-d885b317-6745-42eb-b98e-5b9d0309f500')\"\n",
              "              title=\"Convert this dataframe to an interactive table.\"\n",
              "              style=\"display:none;\">\n",
              "        \n",
              "  <svg xmlns=\"http://www.w3.org/2000/svg\" height=\"24px\"viewBox=\"0 0 24 24\"\n",
              "       width=\"24px\">\n",
              "    <path d=\"M0 0h24v24H0V0z\" fill=\"none\"/>\n",
              "    <path d=\"M18.56 5.44l.94 2.06.94-2.06 2.06-.94-2.06-.94-.94-2.06-.94 2.06-2.06.94zm-11 1L8.5 8.5l.94-2.06 2.06-.94-2.06-.94L8.5 2.5l-.94 2.06-2.06.94zm10 10l.94 2.06.94-2.06 2.06-.94-2.06-.94-.94-2.06-.94 2.06-2.06.94z\"/><path d=\"M17.41 7.96l-1.37-1.37c-.4-.4-.92-.59-1.43-.59-.52 0-1.04.2-1.43.59L10.3 9.45l-7.72 7.72c-.78.78-.78 2.05 0 2.83L4 21.41c.39.39.9.59 1.41.59.51 0 1.02-.2 1.41-.59l7.78-7.78 2.81-2.81c.8-.78.8-2.07 0-2.86zM5.41 20L4 18.59l7.72-7.72 1.47 1.35L5.41 20z\"/>\n",
              "  </svg>\n",
              "      </button>\n",
              "      \n",
              "  <style>\n",
              "    .colab-df-container {\n",
              "      display:flex;\n",
              "      flex-wrap:wrap;\n",
              "      gap: 12px;\n",
              "    }\n",
              "\n",
              "    .colab-df-convert {\n",
              "      background-color: #E8F0FE;\n",
              "      border: none;\n",
              "      border-radius: 50%;\n",
              "      cursor: pointer;\n",
              "      display: none;\n",
              "      fill: #1967D2;\n",
              "      height: 32px;\n",
              "      padding: 0 0 0 0;\n",
              "      width: 32px;\n",
              "    }\n",
              "\n",
              "    .colab-df-convert:hover {\n",
              "      background-color: #E2EBFA;\n",
              "      box-shadow: 0px 1px 2px rgba(60, 64, 67, 0.3), 0px 1px 3px 1px rgba(60, 64, 67, 0.15);\n",
              "      fill: #174EA6;\n",
              "    }\n",
              "\n",
              "    [theme=dark] .colab-df-convert {\n",
              "      background-color: #3B4455;\n",
              "      fill: #D2E3FC;\n",
              "    }\n",
              "\n",
              "    [theme=dark] .colab-df-convert:hover {\n",
              "      background-color: #434B5C;\n",
              "      box-shadow: 0px 1px 3px 1px rgba(0, 0, 0, 0.15);\n",
              "      filter: drop-shadow(0px 1px 2px rgba(0, 0, 0, 0.3));\n",
              "      fill: #FFFFFF;\n",
              "    }\n",
              "  </style>\n",
              "\n",
              "      <script>\n",
              "        const buttonEl =\n",
              "          document.querySelector('#df-d885b317-6745-42eb-b98e-5b9d0309f500 button.colab-df-convert');\n",
              "        buttonEl.style.display =\n",
              "          google.colab.kernel.accessAllowed ? 'block' : 'none';\n",
              "\n",
              "        async function convertToInteractive(key) {\n",
              "          const element = document.querySelector('#df-d885b317-6745-42eb-b98e-5b9d0309f500');\n",
              "          const dataTable =\n",
              "            await google.colab.kernel.invokeFunction('convertToInteractive',\n",
              "                                                     [key], {});\n",
              "          if (!dataTable) return;\n",
              "\n",
              "          const docLinkHtml = 'Like what you see? Visit the ' +\n",
              "            '<a target=\"_blank\" href=https://colab.research.google.com/notebooks/data_table.ipynb>data table notebook</a>'\n",
              "            + ' to learn more about interactive tables.';\n",
              "          element.innerHTML = '';\n",
              "          dataTable['output_type'] = 'display_data';\n",
              "          await google.colab.output.renderOutput(dataTable, element);\n",
              "          const docLink = document.createElement('div');\n",
              "          docLink.innerHTML = docLinkHtml;\n",
              "          element.appendChild(docLink);\n",
              "        }\n",
              "      </script>\n",
              "    </div>\n",
              "  </div>\n",
              "  "
            ]
          },
          "metadata": {},
          "execution_count": 3
        }
      ]
    },
    {
      "cell_type": "code",
      "source": [
        "# Checks the shape of the data\n",
        "df.shape"
      ],
      "metadata": {
        "colab": {
          "base_uri": "https://localhost:8080/"
        },
        "id": "C6jWEr7owaVN",
        "outputId": "09874450-8d95-4a92-cdfe-d779b74f0832"
      },
      "execution_count": 4,
      "outputs": [
        {
          "output_type": "execute_result",
          "data": {
            "text/plain": [
              "(101766, 50)"
            ]
          },
          "metadata": {},
          "execution_count": 4
        }
      ]
    },
    {
      "cell_type": "code",
      "source": [
        "# To check if there is any null values within the columns\n",
        "df.isnull().sum()"
      ],
      "metadata": {
        "colab": {
          "base_uri": "https://localhost:8080/"
        },
        "id": "YdUYPh2GbTmG",
        "outputId": "2068cc2f-53f8-464a-f4e8-8aaba12cffaf"
      },
      "execution_count": 5,
      "outputs": [
        {
          "output_type": "execute_result",
          "data": {
            "text/plain": [
              "encounter_id                0\n",
              "patient_nbr                 0\n",
              "race                        0\n",
              "gender                      0\n",
              "age                         0\n",
              "weight                      0\n",
              "admission_type_id           0\n",
              "discharge_disposition_id    0\n",
              "admission_source_id         0\n",
              "time_in_hospital            0\n",
              "payer_code                  0\n",
              "medical_specialty           0\n",
              "num_lab_procedures          0\n",
              "num_procedures              0\n",
              "num_medications             0\n",
              "number_outpatient           0\n",
              "number_emergency            0\n",
              "number_inpatient            0\n",
              "diag_1                      0\n",
              "diag_2                      0\n",
              "diag_3                      0\n",
              "number_diagnoses            0\n",
              "max_glu_serum               0\n",
              "A1Cresult                   0\n",
              "metformin                   0\n",
              "repaglinide                 0\n",
              "nateglinide                 0\n",
              "chlorpropamide              0\n",
              "glimepiride                 0\n",
              "acetohexamide               0\n",
              "glipizide                   0\n",
              "glyburide                   0\n",
              "tolbutamide                 0\n",
              "pioglitazone                0\n",
              "rosiglitazone               0\n",
              "acarbose                    0\n",
              "miglitol                    0\n",
              "troglitazone                0\n",
              "tolazamide                  0\n",
              "examide                     0\n",
              "citoglipton                 0\n",
              "insulin                     0\n",
              "glyburide-metformin         0\n",
              "glipizide-metformin         0\n",
              "glimepiride-pioglitazone    0\n",
              "metformin-rosiglitazone     0\n",
              "metformin-pioglitazone      0\n",
              "change                      0\n",
              "diabetesMed                 0\n",
              "readmitted                  0\n",
              "dtype: int64"
            ]
          },
          "metadata": {},
          "execution_count": 5
        }
      ]
    },
    {
      "cell_type": "code",
      "source": [
        "df.info()"
      ],
      "metadata": {
        "colab": {
          "base_uri": "https://localhost:8080/"
        },
        "id": "7Ii60uwRv9HP",
        "outputId": "cb272db6-204d-42a6-c7ab-1dbf6db3bffa"
      },
      "execution_count": 6,
      "outputs": [
        {
          "output_type": "stream",
          "name": "stdout",
          "text": [
            "<class 'pandas.core.frame.DataFrame'>\n",
            "RangeIndex: 101766 entries, 0 to 101765\n",
            "Data columns (total 50 columns):\n",
            " #   Column                    Non-Null Count   Dtype \n",
            "---  ------                    --------------   ----- \n",
            " 0   encounter_id              101766 non-null  int64 \n",
            " 1   patient_nbr               101766 non-null  int64 \n",
            " 2   race                      101766 non-null  object\n",
            " 3   gender                    101766 non-null  object\n",
            " 4   age                       101766 non-null  object\n",
            " 5   weight                    101766 non-null  object\n",
            " 6   admission_type_id         101766 non-null  int64 \n",
            " 7   discharge_disposition_id  101766 non-null  int64 \n",
            " 8   admission_source_id       101766 non-null  int64 \n",
            " 9   time_in_hospital          101766 non-null  int64 \n",
            " 10  payer_code                101766 non-null  object\n",
            " 11  medical_specialty         101766 non-null  object\n",
            " 12  num_lab_procedures        101766 non-null  int64 \n",
            " 13  num_procedures            101766 non-null  int64 \n",
            " 14  num_medications           101766 non-null  int64 \n",
            " 15  number_outpatient         101766 non-null  int64 \n",
            " 16  number_emergency          101766 non-null  int64 \n",
            " 17  number_inpatient          101766 non-null  int64 \n",
            " 18  diag_1                    101766 non-null  object\n",
            " 19  diag_2                    101766 non-null  object\n",
            " 20  diag_3                    101766 non-null  object\n",
            " 21  number_diagnoses          101766 non-null  int64 \n",
            " 22  max_glu_serum             101766 non-null  object\n",
            " 23  A1Cresult                 101766 non-null  object\n",
            " 24  metformin                 101766 non-null  object\n",
            " 25  repaglinide               101766 non-null  object\n",
            " 26  nateglinide               101766 non-null  object\n",
            " 27  chlorpropamide            101766 non-null  object\n",
            " 28  glimepiride               101766 non-null  object\n",
            " 29  acetohexamide             101766 non-null  object\n",
            " 30  glipizide                 101766 non-null  object\n",
            " 31  glyburide                 101766 non-null  object\n",
            " 32  tolbutamide               101766 non-null  object\n",
            " 33  pioglitazone              101766 non-null  object\n",
            " 34  rosiglitazone             101766 non-null  object\n",
            " 35  acarbose                  101766 non-null  object\n",
            " 36  miglitol                  101766 non-null  object\n",
            " 37  troglitazone              101766 non-null  object\n",
            " 38  tolazamide                101766 non-null  object\n",
            " 39  examide                   101766 non-null  object\n",
            " 40  citoglipton               101766 non-null  object\n",
            " 41  insulin                   101766 non-null  object\n",
            " 42  glyburide-metformin       101766 non-null  object\n",
            " 43  glipizide-metformin       101766 non-null  object\n",
            " 44  glimepiride-pioglitazone  101766 non-null  object\n",
            " 45  metformin-rosiglitazone   101766 non-null  object\n",
            " 46  metformin-pioglitazone    101766 non-null  object\n",
            " 47  change                    101766 non-null  object\n",
            " 48  diabetesMed               101766 non-null  object\n",
            " 49  readmitted                101766 non-null  object\n",
            "dtypes: int64(13), object(37)\n",
            "memory usage: 38.8+ MB\n"
          ]
        }
      ]
    },
    {
      "cell_type": "markdown",
      "source": [
        "Conclusion: We can conclude that the data has no null values. However, we have to clean some of the data because there are objects and codes can not read objects. First, we have to check which columns having missing values although they are not null"
      ],
      "metadata": {
        "id": "Pg-gVxfucZ8O"
      }
    },
    {
      "cell_type": "code",
      "source": [
        "# Checking for missing values in dataset\n",
        "for col in df.columns:\n",
        "    if df[col].dtype == object:\n",
        "         print(col,df[col][df[col] == '?'].count())\n",
        "\n",
        "col\n",
        "# Note: I found this part online because this gives an insight on the reasoning on deleting some of the columns"
      ],
      "metadata": {
        "colab": {
          "base_uri": "https://localhost:8080/",
          "height": 711
        },
        "id": "wQ5GrpwHxreS",
        "outputId": "e7a57065-8f92-476f-f89d-9facc420f38c"
      },
      "execution_count": 7,
      "outputs": [
        {
          "output_type": "stream",
          "name": "stdout",
          "text": [
            "race 2273\n",
            "gender 0\n",
            "age 0\n",
            "weight 98569\n",
            "payer_code 40256\n",
            "medical_specialty 49949\n",
            "diag_1 21\n",
            "diag_2 358\n",
            "diag_3 1423\n",
            "max_glu_serum 0\n",
            "A1Cresult 0\n",
            "metformin 0\n",
            "repaglinide 0\n",
            "nateglinide 0\n",
            "chlorpropamide 0\n",
            "glimepiride 0\n",
            "acetohexamide 0\n",
            "glipizide 0\n",
            "glyburide 0\n",
            "tolbutamide 0\n",
            "pioglitazone 0\n",
            "rosiglitazone 0\n",
            "acarbose 0\n",
            "miglitol 0\n",
            "troglitazone 0\n",
            "tolazamide 0\n",
            "examide 0\n",
            "citoglipton 0\n",
            "insulin 0\n",
            "glyburide-metformin 0\n",
            "glipizide-metformin 0\n",
            "glimepiride-pioglitazone 0\n",
            "metformin-rosiglitazone 0\n",
            "metformin-pioglitazone 0\n",
            "change 0\n",
            "diabetesMed 0\n",
            "readmitted 0\n"
          ]
        },
        {
          "output_type": "execute_result",
          "data": {
            "text/plain": [
              "'readmitted'"
            ],
            "application/vnd.google.colaboratory.intrinsic+json": {
              "type": "string"
            }
          },
          "metadata": {},
          "execution_count": 7
        }
      ]
    },
    {
      "cell_type": "code",
      "source": [
        "# Dropping weight, payer_code, and medical_specialty as it provides too many missing values\n",
        "df = df.drop(['weight', 'payer_code', 'medical_specialty'], axis=1)"
      ],
      "metadata": {
        "id": "NunA5r0gl7et"
      },
      "execution_count": 8,
      "outputs": []
    },
    {
      "cell_type": "code",
      "source": [
        "# In this section, we will be replacing the unknown values with something else since there were not many missing values\n",
        "\n",
        "# Removing any ? within race\n",
        "df = df[df['race'] != '?']\n",
        "\n",
        "# Removing any Unknown/Invalid within gender\n",
        "df = df[df['gender'] != 'Unknown/Invalid']"
      ],
      "metadata": {
        "id": "o3vft8M7xEzp"
      },
      "execution_count": 9,
      "outputs": []
    },
    {
      "cell_type": "code",
      "source": [
        "df.info()"
      ],
      "metadata": {
        "colab": {
          "base_uri": "https://localhost:8080/"
        },
        "id": "8ngYoKPqnhR8",
        "outputId": "9094883b-1737-4221-a56a-c8a9fc6da468"
      },
      "execution_count": 10,
      "outputs": [
        {
          "output_type": "stream",
          "name": "stdout",
          "text": [
            "<class 'pandas.core.frame.DataFrame'>\n",
            "Int64Index: 99492 entries, 0 to 101765\n",
            "Data columns (total 47 columns):\n",
            " #   Column                    Non-Null Count  Dtype \n",
            "---  ------                    --------------  ----- \n",
            " 0   encounter_id              99492 non-null  int64 \n",
            " 1   patient_nbr               99492 non-null  int64 \n",
            " 2   race                      99492 non-null  object\n",
            " 3   gender                    99492 non-null  object\n",
            " 4   age                       99492 non-null  object\n",
            " 5   admission_type_id         99492 non-null  int64 \n",
            " 6   discharge_disposition_id  99492 non-null  int64 \n",
            " 7   admission_source_id       99492 non-null  int64 \n",
            " 8   time_in_hospital          99492 non-null  int64 \n",
            " 9   num_lab_procedures        99492 non-null  int64 \n",
            " 10  num_procedures            99492 non-null  int64 \n",
            " 11  num_medications           99492 non-null  int64 \n",
            " 12  number_outpatient         99492 non-null  int64 \n",
            " 13  number_emergency          99492 non-null  int64 \n",
            " 14  number_inpatient          99492 non-null  int64 \n",
            " 15  diag_1                    99492 non-null  object\n",
            " 16  diag_2                    99492 non-null  object\n",
            " 17  diag_3                    99492 non-null  object\n",
            " 18  number_diagnoses          99492 non-null  int64 \n",
            " 19  max_glu_serum             99492 non-null  object\n",
            " 20  A1Cresult                 99492 non-null  object\n",
            " 21  metformin                 99492 non-null  object\n",
            " 22  repaglinide               99492 non-null  object\n",
            " 23  nateglinide               99492 non-null  object\n",
            " 24  chlorpropamide            99492 non-null  object\n",
            " 25  glimepiride               99492 non-null  object\n",
            " 26  acetohexamide             99492 non-null  object\n",
            " 27  glipizide                 99492 non-null  object\n",
            " 28  glyburide                 99492 non-null  object\n",
            " 29  tolbutamide               99492 non-null  object\n",
            " 30  pioglitazone              99492 non-null  object\n",
            " 31  rosiglitazone             99492 non-null  object\n",
            " 32  acarbose                  99492 non-null  object\n",
            " 33  miglitol                  99492 non-null  object\n",
            " 34  troglitazone              99492 non-null  object\n",
            " 35  tolazamide                99492 non-null  object\n",
            " 36  examide                   99492 non-null  object\n",
            " 37  citoglipton               99492 non-null  object\n",
            " 38  insulin                   99492 non-null  object\n",
            " 39  glyburide-metformin       99492 non-null  object\n",
            " 40  glipizide-metformin       99492 non-null  object\n",
            " 41  glimepiride-pioglitazone  99492 non-null  object\n",
            " 42  metformin-rosiglitazone   99492 non-null  object\n",
            " 43  metformin-pioglitazone    99492 non-null  object\n",
            " 44  change                    99492 non-null  object\n",
            " 45  diabetesMed               99492 non-null  object\n",
            " 46  readmitted                99492 non-null  object\n",
            "dtypes: int64(13), object(34)\n",
            "memory usage: 36.4+ MB\n"
          ]
        }
      ]
    },
    {
      "cell_type": "code",
      "source": [
        "# Dropping some of the data because I was not sure how to handle and clean the data\n",
        "df = df.drop(['diag_1', 'diag_2', 'diag_3', \n",
        "                  'metformin', 'repaglinide', 'nateglinide', \n",
        "                  'chlorpropamide', 'glimepiride', 'acetohexamide', 'glipizide', \n",
        "                  'glyburide', 'tolbutamide', 'pioglitazone', 'rosiglitazone', \n",
        "                  'acarbose', 'miglitol', 'troglitazone', 'tolazamide', \n",
        "                  'examide', 'citoglipton', 'glyburide-metformin', \n",
        "                  'glipizide-metformin', 'glimepiride-pioglitazone', \n",
        "                  'metformin-rosiglitazone', 'metformin-pioglitazone'], axis=1)"
      ],
      "metadata": {
        "id": "N7fi1TNWhUQ4"
      },
      "execution_count": 11,
      "outputs": []
    },
    {
      "cell_type": "code",
      "source": [
        "# I found this part online to replace the objects for integers for three of the columns listed below\n",
        "\n",
        "# Changing the column admission_type_id from object to integer\n",
        "df['admission_type_id'] = df['admission_type_id'].replace(2,1)\n",
        "df['admission_type_id'] = df['admission_type_id'].replace(7,1)\n",
        "df['admission_type_id'] = df['admission_type_id'].replace(6,5)\n",
        "df['admission_type_id'] = df['admission_type_id'].replace(8,5)\n",
        "\n",
        "# Changing the column discharge_disposition_id from object to integer\n",
        "df['discharge_disposition_id'] = df['discharge_disposition_id'].replace(6,1)\n",
        "df['discharge_disposition_id'] = df['discharge_disposition_id'].replace(8,1)\n",
        "df['discharge_disposition_id'] = df['discharge_disposition_id'].replace(9,1)\n",
        "df['discharge_disposition_id'] = df['discharge_disposition_id'].replace(13,1)\n",
        "df['discharge_disposition_id'] = df['discharge_disposition_id'].replace(3,2)\n",
        "df['discharge_disposition_id'] = df['discharge_disposition_id'].replace(4,2)\n",
        "df['discharge_disposition_id'] = df['discharge_disposition_id'].replace(5,2)\n",
        "df['discharge_disposition_id'] = df['discharge_disposition_id'].replace(14,2)\n",
        "df['discharge_disposition_id'] = df['discharge_disposition_id'].replace(22,2)\n",
        "df['discharge_disposition_id'] = df['discharge_disposition_id'].replace(23,2)\n",
        "df['discharge_disposition_id'] = df['discharge_disposition_id'].replace(24,2)\n",
        "df['discharge_disposition_id'] = df['discharge_disposition_id'].replace(12,10)\n",
        "df['discharge_disposition_id'] = df['discharge_disposition_id'].replace(15,10)\n",
        "df['discharge_disposition_id'] = df['discharge_disposition_id'].replace(16,10)\n",
        "df['discharge_disposition_id'] = df['discharge_disposition_id'].replace(17,10)\n",
        "df['discharge_disposition_id'] = df['discharge_disposition_id'].replace(25,18)\n",
        "df['discharge_disposition_id'] = df['discharge_disposition_id'].replace(26,18)\n",
        "\n",
        "# Changing the column admission_source_id from object to integer\n",
        "df['admission_source_id'] = df['admission_source_id'].replace(2,1)\n",
        "df['admission_source_id'] = df['admission_source_id'].replace(3,1)\n",
        "df['admission_source_id'] = df['admission_source_id'].replace(5,4)\n",
        "df['admission_source_id'] = df['admission_source_id'].replace(6,4)\n",
        "df['admission_source_id'] = df['admission_source_id'].replace(10,4)\n",
        "df['admission_source_id'] = df['admission_source_id'].replace(22,4)\n",
        "df['admission_source_id'] = df['admission_source_id'].replace(25,4)\n",
        "df['admission_source_id'] = df['admission_source_id'].replace(15,9)\n",
        "df['admission_source_id'] = df['admission_source_id'].replace(17,9)\n",
        "df['admission_source_id'] = df['admission_source_id'].replace(20,9)\n",
        "df['admission_source_id'] = df['admission_source_id'].replace(21,9)\n",
        "df['admission_source_id'] = df['admission_source_id'].replace(13,11)\n",
        "df['admission_source_id'] = df['admission_source_id'].replace(14,11)"
      ],
      "metadata": {
        "id": "0P8Fw1SohauW"
      },
      "execution_count": 12,
      "outputs": []
    },
    {
      "cell_type": "code",
      "source": [
        "df.info()"
      ],
      "metadata": {
        "colab": {
          "base_uri": "https://localhost:8080/"
        },
        "id": "hZRtTibtp-dk",
        "outputId": "c7d70d49-c69d-419e-93ee-158b6132a523"
      },
      "execution_count": 13,
      "outputs": [
        {
          "output_type": "stream",
          "name": "stdout",
          "text": [
            "<class 'pandas.core.frame.DataFrame'>\n",
            "Int64Index: 99492 entries, 0 to 101765\n",
            "Data columns (total 22 columns):\n",
            " #   Column                    Non-Null Count  Dtype \n",
            "---  ------                    --------------  ----- \n",
            " 0   encounter_id              99492 non-null  int64 \n",
            " 1   patient_nbr               99492 non-null  int64 \n",
            " 2   race                      99492 non-null  object\n",
            " 3   gender                    99492 non-null  object\n",
            " 4   age                       99492 non-null  object\n",
            " 5   admission_type_id         99492 non-null  int64 \n",
            " 6   discharge_disposition_id  99492 non-null  int64 \n",
            " 7   admission_source_id       99492 non-null  int64 \n",
            " 8   time_in_hospital          99492 non-null  int64 \n",
            " 9   num_lab_procedures        99492 non-null  int64 \n",
            " 10  num_procedures            99492 non-null  int64 \n",
            " 11  num_medications           99492 non-null  int64 \n",
            " 12  number_outpatient         99492 non-null  int64 \n",
            " 13  number_emergency          99492 non-null  int64 \n",
            " 14  number_inpatient          99492 non-null  int64 \n",
            " 15  number_diagnoses          99492 non-null  int64 \n",
            " 16  max_glu_serum             99492 non-null  object\n",
            " 17  A1Cresult                 99492 non-null  object\n",
            " 18  insulin                   99492 non-null  object\n",
            " 19  change                    99492 non-null  object\n",
            " 20  diabetesMed               99492 non-null  object\n",
            " 21  readmitted                99492 non-null  object\n",
            "dtypes: int64(13), object(9)\n",
            "memory usage: 17.5+ MB\n"
          ]
        }
      ]
    },
    {
      "cell_type": "markdown",
      "source": [
        "The two variables that we will be using for data visualization is between time_in_hospital and num_medications to view the correlation between the time and medications for each patient"
      ],
      "metadata": {
        "id": "vocrikLUfnu8"
      }
    },
    {
      "cell_type": "markdown",
      "source": [
        "## Data Visualization (before cleaning the data fully)"
      ],
      "metadata": {
        "id": "grO3lFQfuOw7"
      }
    },
    {
      "cell_type": "code",
      "source": [
        "sns.countplot(df['readmitted'], palette = \"Set1\").set_title('Readmitted')"
      ],
      "metadata": {
        "colab": {
          "base_uri": "https://localhost:8080/",
          "height": 370
        },
        "id": "Hp1vUtKOuS0K",
        "outputId": "4beef7c2-ed7a-43f9-c3b1-accb8d584cc8"
      },
      "execution_count": 14,
      "outputs": [
        {
          "output_type": "stream",
          "name": "stderr",
          "text": [
            "/usr/local/lib/python3.7/dist-packages/seaborn/_decorators.py:43: FutureWarning: Pass the following variable as a keyword arg: x. From version 0.12, the only valid positional argument will be `data`, and passing other arguments without an explicit keyword will result in an error or misinterpretation.\n",
            "  FutureWarning\n"
          ]
        },
        {
          "output_type": "execute_result",
          "data": {
            "text/plain": [
              "Text(0.5, 1.0, 'Readmitted')"
            ]
          },
          "metadata": {},
          "execution_count": 14
        },
        {
          "output_type": "display_data",
          "data": {
            "text/plain": [
              "<Figure size 432x288 with 1 Axes>"
            ],
            "image/png": "[encoded data removed]"
          },
          "metadata": {
            "needs_background": "light"
          }
        }
      ]
    },
    {
      "cell_type": "markdown",
      "source": [
        "Analysis: This shows the readmitted patients based on 3 things where patients were not readmitted, patients were readmitted less than 30 days and after 30 days"
      ],
      "metadata": {
        "id": "yvB-0oLYvoGo"
      }
    },
    {
      "cell_type": "code",
      "source": [
        "sns.countplot(df['gender'], palette = \"rainbow\")"
      ],
      "metadata": {
        "colab": {
          "base_uri": "https://localhost:8080/",
          "height": 354
        },
        "id": "0d5hTlQzuSxM",
        "outputId": "e025784d-4cc7-45a7-c5ee-9b9787f6e43f"
      },
      "execution_count": 15,
      "outputs": [
        {
          "output_type": "stream",
          "name": "stderr",
          "text": [
            "/usr/local/lib/python3.7/dist-packages/seaborn/_decorators.py:43: FutureWarning: Pass the following variable as a keyword arg: x. From version 0.12, the only valid positional argument will be `data`, and passing other arguments without an explicit keyword will result in an error or misinterpretation.\n",
            "  FutureWarning\n"
          ]
        },
        {
          "output_type": "execute_result",
          "data": {
            "text/plain": [
              "<matplotlib.axes._subplots.AxesSubplot at 0x7f1ed4702d50>"
            ]
          },
          "metadata": {},
          "execution_count": 15
        },
        {
          "output_type": "display_data",
          "data": {
            "text/plain": [
              "<Figure size 432x288 with 1 Axes>"
            ],
            "image/png": "[encoded data removed]"
          },
          "metadata": {
            "needs_background": "light"
          }
        }
      ]
    },
    {
      "cell_type": "markdown",
      "source": [
        "Analysis: This shows the gender between male and female patients within the data. Note, I did take out the unknown because it provided too little data which was not needed."
      ],
      "metadata": {
        "id": "jD577oTuv4tK"
      }
    },
    {
      "cell_type": "code",
      "source": [
        "ax = sns.countplot(df['age'], palette = 'autumn')\n",
        "ax.set_xticklabels(ax.get_xticklabels(),rotation = 90)"
      ],
      "metadata": {
        "colab": {
          "base_uri": "https://localhost:8080/",
          "height": 551
        },
        "id": "aAsDfarvwC84",
        "outputId": "04287ff5-795c-4e1f-fcf0-99211e7bfdf6"
      },
      "execution_count": 16,
      "outputs": [
        {
          "output_type": "stream",
          "name": "stderr",
          "text": [
            "/usr/local/lib/python3.7/dist-packages/seaborn/_decorators.py:43: FutureWarning: Pass the following variable as a keyword arg: x. From version 0.12, the only valid positional argument will be `data`, and passing other arguments without an explicit keyword will result in an error or misinterpretation.\n",
            "  FutureWarning\n"
          ]
        },
        {
          "output_type": "execute_result",
          "data": {
            "text/plain": [
              "[Text(0, 0, '[0-10)'),\n",
              " Text(0, 0, '[10-20)'),\n",
              " Text(0, 0, '[20-30)'),\n",
              " Text(0, 0, '[30-40)'),\n",
              " Text(0, 0, '[40-50)'),\n",
              " Text(0, 0, '[50-60)'),\n",
              " Text(0, 0, '[60-70)'),\n",
              " Text(0, 0, '[70-80)'),\n",
              " Text(0, 0, '[80-90)'),\n",
              " Text(0, 0, '[90-100)')]"
            ]
          },
          "metadata": {},
          "execution_count": 16
        },
        {
          "output_type": "display_data",
          "data": {
            "text/plain": [
              "<Figure size 432x288 with 1 Axes>"
            ],
            "image/png": "[encoded data removed]"
          },
          "metadata": {
            "needs_background": "light"
          }
        }
      ]
    },
    {
      "cell_type": "markdown",
      "source": [
        "Analysis: This shows the age group within the data that were involved in."
      ],
      "metadata": {
        "id": "OAyA7ERawU5e"
      }
    },
    {
      "cell_type": "markdown",
      "source": [
        "## Changing object to integer"
      ],
      "metadata": {
        "id": "hEELkRobEUU9"
      }
    },
    {
      "cell_type": "code",
      "source": [
        "df['max_glu_serum'] = df['max_glu_serum'].replace('>200', 1)\n",
        "df['max_glu_serum'] = df['max_glu_serum'].replace('>300', 1)\n",
        "df['max_glu_serum'] = df['max_glu_serum'].replace('Norm', 0)\n",
        "df['max_glu_serum'] = df['max_glu_serum'].replace('None', -99)"
      ],
      "metadata": {
        "id": "FpFvUfMMhfnK"
      },
      "execution_count": 17,
      "outputs": []
    },
    {
      "cell_type": "code",
      "source": [
        "# Checking any unique values for the column diabetesMed\n",
        "df['diabetesMed'].unique()"
      ],
      "metadata": {
        "colab": {
          "base_uri": "https://localhost:8080/"
        },
        "id": "VEmDLHVvegRL",
        "outputId": "dd3cf446-0acf-459c-be14-011a4e81b86a"
      },
      "execution_count": 18,
      "outputs": [
        {
          "output_type": "execute_result",
          "data": {
            "text/plain": [
              "array(['No', 'Yes'], dtype=object)"
            ]
          },
          "metadata": {},
          "execution_count": 18
        }
      ]
    },
    {
      "cell_type": "code",
      "source": [
        "# Replacing all of the objects with integers\n",
        "df['diabetesMed'] = df['diabetesMed'].replace('Yes', 1)\n",
        "df['diabetesMed'] = df['diabetesMed'].replace('No', 0)\n",
        "\n",
        "# Confirming if the column was converted to integer\n",
        "df.info()"
      ],
      "metadata": {
        "colab": {
          "base_uri": "https://localhost:8080/"
        },
        "id": "mfNxfZEUeb6c",
        "outputId": "1fe033cf-db89-4d2e-e36c-ef48a18a610e"
      },
      "execution_count": 19,
      "outputs": [
        {
          "output_type": "stream",
          "name": "stdout",
          "text": [
            "<class 'pandas.core.frame.DataFrame'>\n",
            "Int64Index: 99492 entries, 0 to 101765\n",
            "Data columns (total 22 columns):\n",
            " #   Column                    Non-Null Count  Dtype \n",
            "---  ------                    --------------  ----- \n",
            " 0   encounter_id              99492 non-null  int64 \n",
            " 1   patient_nbr               99492 non-null  int64 \n",
            " 2   race                      99492 non-null  object\n",
            " 3   gender                    99492 non-null  object\n",
            " 4   age                       99492 non-null  object\n",
            " 5   admission_type_id         99492 non-null  int64 \n",
            " 6   discharge_disposition_id  99492 non-null  int64 \n",
            " 7   admission_source_id       99492 non-null  int64 \n",
            " 8   time_in_hospital          99492 non-null  int64 \n",
            " 9   num_lab_procedures        99492 non-null  int64 \n",
            " 10  num_procedures            99492 non-null  int64 \n",
            " 11  num_medications           99492 non-null  int64 \n",
            " 12  number_outpatient         99492 non-null  int64 \n",
            " 13  number_emergency          99492 non-null  int64 \n",
            " 14  number_inpatient          99492 non-null  int64 \n",
            " 15  number_diagnoses          99492 non-null  int64 \n",
            " 16  max_glu_serum             99492 non-null  int64 \n",
            " 17  A1Cresult                 99492 non-null  object\n",
            " 18  insulin                   99492 non-null  object\n",
            " 19  change                    99492 non-null  object\n",
            " 20  diabetesMed               99492 non-null  int64 \n",
            " 21  readmitted                99492 non-null  object\n",
            "dtypes: int64(15), object(7)\n",
            "memory usage: 19.5+ MB\n"
          ]
        }
      ]
    },
    {
      "cell_type": "code",
      "source": [
        "# Checking any unique values for the column readmitted\n",
        "df['readmitted'].unique()"
      ],
      "metadata": {
        "colab": {
          "base_uri": "https://localhost:8080/"
        },
        "id": "M0Z3j2_ue2gd",
        "outputId": "e8a92e01-3154-4c09-d076-0f80d598b1a6"
      },
      "execution_count": 20,
      "outputs": [
        {
          "output_type": "execute_result",
          "data": {
            "text/plain": [
              "array(['NO', '>30', '<30'], dtype=object)"
            ]
          },
          "metadata": {},
          "execution_count": 20
        }
      ]
    },
    {
      "cell_type": "code",
      "source": [
        "# Replacing all of the objects with integers\n",
        "df['readmitted'] = df['readmitted'].replace(['NO'], 0)\n",
        "df['readmitted'] = df['readmitted'].replace(['>30'], 1)\n",
        "df['readmitted'] = df['readmitted'].replace(['<30'], 1)\n",
        "\n",
        "# Confirming if the column was converted to integer\n",
        "df.info()"
      ],
      "metadata": {
        "colab": {
          "base_uri": "https://localhost:8080/"
        },
        "id": "mo9Hm04XrkNF",
        "outputId": "d3bfdf35-a667-433e-ab69-f7c0189d92f4"
      },
      "execution_count": 21,
      "outputs": [
        {
          "output_type": "stream",
          "name": "stdout",
          "text": [
            "<class 'pandas.core.frame.DataFrame'>\n",
            "Int64Index: 99492 entries, 0 to 101765\n",
            "Data columns (total 22 columns):\n",
            " #   Column                    Non-Null Count  Dtype \n",
            "---  ------                    --------------  ----- \n",
            " 0   encounter_id              99492 non-null  int64 \n",
            " 1   patient_nbr               99492 non-null  int64 \n",
            " 2   race                      99492 non-null  object\n",
            " 3   gender                    99492 non-null  object\n",
            " 4   age                       99492 non-null  object\n",
            " 5   admission_type_id         99492 non-null  int64 \n",
            " 6   discharge_disposition_id  99492 non-null  int64 \n",
            " 7   admission_source_id       99492 non-null  int64 \n",
            " 8   time_in_hospital          99492 non-null  int64 \n",
            " 9   num_lab_procedures        99492 non-null  int64 \n",
            " 10  num_procedures            99492 non-null  int64 \n",
            " 11  num_medications           99492 non-null  int64 \n",
            " 12  number_outpatient         99492 non-null  int64 \n",
            " 13  number_emergency          99492 non-null  int64 \n",
            " 14  number_inpatient          99492 non-null  int64 \n",
            " 15  number_diagnoses          99492 non-null  int64 \n",
            " 16  max_glu_serum             99492 non-null  int64 \n",
            " 17  A1Cresult                 99492 non-null  object\n",
            " 18  insulin                   99492 non-null  object\n",
            " 19  change                    99492 non-null  object\n",
            " 20  diabetesMed               99492 non-null  int64 \n",
            " 21  readmitted                99492 non-null  int64 \n",
            "dtypes: int64(16), object(6)\n",
            "memory usage: 19.5+ MB\n"
          ]
        }
      ]
    },
    {
      "cell_type": "code",
      "source": [
        "# Checking any unique values for the column gender\n",
        "df['gender'].unique()"
      ],
      "metadata": {
        "colab": {
          "base_uri": "https://localhost:8080/"
        },
        "id": "iNIDAY9qfCTu",
        "outputId": "c2509fcd-a2f2-4db6-9875-031bef792a98"
      },
      "execution_count": 22,
      "outputs": [
        {
          "output_type": "execute_result",
          "data": {
            "text/plain": [
              "array(['Female', 'Male'], dtype=object)"
            ]
          },
          "metadata": {},
          "execution_count": 22
        }
      ]
    },
    {
      "cell_type": "code",
      "source": [
        "# Replacing all of the objects with integers\n",
        "df['gender'] = df['gender'].replace(['Male'], 1 )\n",
        "df['gender'] = df['gender'].replace(['Female'], 0 )\n",
        "\n",
        "# Confirming if the column was converted to integer\n",
        "df.info()"
      ],
      "metadata": {
        "id": "wsDaXvlHsCwQ",
        "colab": {
          "base_uri": "https://localhost:8080/"
        },
        "outputId": "0ff68de8-d225-4cbd-c197-004cd07ab6fa"
      },
      "execution_count": 23,
      "outputs": [
        {
          "output_type": "stream",
          "name": "stdout",
          "text": [
            "<class 'pandas.core.frame.DataFrame'>\n",
            "Int64Index: 99492 entries, 0 to 101765\n",
            "Data columns (total 22 columns):\n",
            " #   Column                    Non-Null Count  Dtype \n",
            "---  ------                    --------------  ----- \n",
            " 0   encounter_id              99492 non-null  int64 \n",
            " 1   patient_nbr               99492 non-null  int64 \n",
            " 2   race                      99492 non-null  object\n",
            " 3   gender                    99492 non-null  int64 \n",
            " 4   age                       99492 non-null  object\n",
            " 5   admission_type_id         99492 non-null  int64 \n",
            " 6   discharge_disposition_id  99492 non-null  int64 \n",
            " 7   admission_source_id       99492 non-null  int64 \n",
            " 8   time_in_hospital          99492 non-null  int64 \n",
            " 9   num_lab_procedures        99492 non-null  int64 \n",
            " 10  num_procedures            99492 non-null  int64 \n",
            " 11  num_medications           99492 non-null  int64 \n",
            " 12  number_outpatient         99492 non-null  int64 \n",
            " 13  number_emergency          99492 non-null  int64 \n",
            " 14  number_inpatient          99492 non-null  int64 \n",
            " 15  number_diagnoses          99492 non-null  int64 \n",
            " 16  max_glu_serum             99492 non-null  int64 \n",
            " 17  A1Cresult                 99492 non-null  object\n",
            " 18  insulin                   99492 non-null  object\n",
            " 19  change                    99492 non-null  object\n",
            " 20  diabetesMed               99492 non-null  int64 \n",
            " 21  readmitted                99492 non-null  int64 \n",
            "dtypes: int64(17), object(5)\n",
            "memory usage: 19.5+ MB\n"
          ]
        }
      ]
    },
    {
      "cell_type": "code",
      "source": [
        "# Checking any unique values for the column age\n",
        "df['age'].unique()"
      ],
      "metadata": {
        "colab": {
          "base_uri": "https://localhost:8080/"
        },
        "id": "0Xia4gutB-Ii",
        "outputId": "92013ac0-be4c-4199-e267-eed3a3ab63f2"
      },
      "execution_count": 24,
      "outputs": [
        {
          "output_type": "execute_result",
          "data": {
            "text/plain": [
              "array(['[0-10)', '[10-20)', '[20-30)', '[30-40)', '[40-50)', '[50-60)',\n",
              "       '[60-70)', '[70-80)', '[80-90)', '[90-100)'], dtype=object)"
            ]
          },
          "metadata": {},
          "execution_count": 24
        }
      ]
    },
    {
      "cell_type": "code",
      "source": [
        "# Replacing all of the objects with integers\n",
        "df['age'] = df['age'].replace(['[0-10)'], 0)\n",
        "df['age'] = df['age'].replace(['[10-20)'], 1)\n",
        "df['age'] = df['age'].replace(['[20-30)'], 2)\n",
        "df['age'] = df['age'].replace(['[30-40)'], 3)\n",
        "df['age'] = df['age'].replace(['[40-50)'], 4)\n",
        "df['age'] = df['age'].replace(['[50-60)'], 5)\n",
        "df['age'] = df['age'].replace(['[60-70)'], 6)\n",
        "df['age'] = df['age'].replace(['[70-80)'], 7)\n",
        "df['age'] = df['age'].replace(['[80-90)'], 8)\n",
        "df['age'] = df['age'].replace(['[90-100)'], 9)\n",
        "\n",
        "# Confirming if the column was converted to integer\n",
        "df.info()"
      ],
      "metadata": {
        "colab": {
          "base_uri": "https://localhost:8080/"
        },
        "id": "k-Q7aE0uCgfk",
        "outputId": "19b663fe-465f-4a24-b6cb-a6a98a8e0a49"
      },
      "execution_count": 25,
      "outputs": [
        {
          "output_type": "stream",
          "name": "stdout",
          "text": [
            "<class 'pandas.core.frame.DataFrame'>\n",
            "Int64Index: 99492 entries, 0 to 101765\n",
            "Data columns (total 22 columns):\n",
            " #   Column                    Non-Null Count  Dtype \n",
            "---  ------                    --------------  ----- \n",
            " 0   encounter_id              99492 non-null  int64 \n",
            " 1   patient_nbr               99492 non-null  int64 \n",
            " 2   race                      99492 non-null  object\n",
            " 3   gender                    99492 non-null  int64 \n",
            " 4   age                       99492 non-null  int64 \n",
            " 5   admission_type_id         99492 non-null  int64 \n",
            " 6   discharge_disposition_id  99492 non-null  int64 \n",
            " 7   admission_source_id       99492 non-null  int64 \n",
            " 8   time_in_hospital          99492 non-null  int64 \n",
            " 9   num_lab_procedures        99492 non-null  int64 \n",
            " 10  num_procedures            99492 non-null  int64 \n",
            " 11  num_medications           99492 non-null  int64 \n",
            " 12  number_outpatient         99492 non-null  int64 \n",
            " 13  number_emergency          99492 non-null  int64 \n",
            " 14  number_inpatient          99492 non-null  int64 \n",
            " 15  number_diagnoses          99492 non-null  int64 \n",
            " 16  max_glu_serum             99492 non-null  int64 \n",
            " 17  A1Cresult                 99492 non-null  object\n",
            " 18  insulin                   99492 non-null  object\n",
            " 19  change                    99492 non-null  object\n",
            " 20  diabetesMed               99492 non-null  int64 \n",
            " 21  readmitted                99492 non-null  int64 \n",
            "dtypes: int64(18), object(4)\n",
            "memory usage: 19.5+ MB\n"
          ]
        }
      ]
    },
    {
      "cell_type": "code",
      "source": [
        "# Checking any unique values for the column race\n",
        "df['race'].unique()"
      ],
      "metadata": {
        "colab": {
          "base_uri": "https://localhost:8080/"
        },
        "id": "uiyTWau8DVxp",
        "outputId": "7d619865-f445-4aae-f226-889345a0a7b2"
      },
      "execution_count": 26,
      "outputs": [
        {
          "output_type": "execute_result",
          "data": {
            "text/plain": [
              "array(['Caucasian', 'AfricanAmerican', 'Other', 'Asian', 'Hispanic'],\n",
              "      dtype=object)"
            ]
          },
          "metadata": {},
          "execution_count": 26
        }
      ]
    },
    {
      "cell_type": "code",
      "source": [
        "# Replacing all of the objects with integers\n",
        "df['race'] = df['race'].replace(['Caucasian'], 0)\n",
        "df['race'] = df['race'].replace(['AfricanAmerican'], 1)\n",
        "df['race'] = df['race'].replace(['Other'], 2)\n",
        "df['race'] = df['race'].replace(['Asian'], 3)\n",
        "df['race'] = df['race'].replace(['Hispanic'], 4)\n",
        "\n",
        "# Confirming if the column was converted to integer\n",
        "df.info()"
      ],
      "metadata": {
        "colab": {
          "base_uri": "https://localhost:8080/"
        },
        "id": "_RJBBGjeDe_d",
        "outputId": "2dec8072-f3a4-4159-d4dd-4199e817bbce"
      },
      "execution_count": 27,
      "outputs": [
        {
          "output_type": "stream",
          "name": "stdout",
          "text": [
            "<class 'pandas.core.frame.DataFrame'>\n",
            "Int64Index: 99492 entries, 0 to 101765\n",
            "Data columns (total 22 columns):\n",
            " #   Column                    Non-Null Count  Dtype \n",
            "---  ------                    --------------  ----- \n",
            " 0   encounter_id              99492 non-null  int64 \n",
            " 1   patient_nbr               99492 non-null  int64 \n",
            " 2   race                      99492 non-null  int64 \n",
            " 3   gender                    99492 non-null  int64 \n",
            " 4   age                       99492 non-null  int64 \n",
            " 5   admission_type_id         99492 non-null  int64 \n",
            " 6   discharge_disposition_id  99492 non-null  int64 \n",
            " 7   admission_source_id       99492 non-null  int64 \n",
            " 8   time_in_hospital          99492 non-null  int64 \n",
            " 9   num_lab_procedures        99492 non-null  int64 \n",
            " 10  num_procedures            99492 non-null  int64 \n",
            " 11  num_medications           99492 non-null  int64 \n",
            " 12  number_outpatient         99492 non-null  int64 \n",
            " 13  number_emergency          99492 non-null  int64 \n",
            " 14  number_inpatient          99492 non-null  int64 \n",
            " 15  number_diagnoses          99492 non-null  int64 \n",
            " 16  max_glu_serum             99492 non-null  int64 \n",
            " 17  A1Cresult                 99492 non-null  object\n",
            " 18  insulin                   99492 non-null  object\n",
            " 19  change                    99492 non-null  object\n",
            " 20  diabetesMed               99492 non-null  int64 \n",
            " 21  readmitted                99492 non-null  int64 \n",
            "dtypes: int64(19), object(3)\n",
            "memory usage: 19.5+ MB\n"
          ]
        }
      ]
    },
    {
      "cell_type": "code",
      "source": [
        "# Checking any unique values for the column change\n",
        "df['change'].unique()"
      ],
      "metadata": {
        "colab": {
          "base_uri": "https://localhost:8080/"
        },
        "id": "nEaNeZg1D1-7",
        "outputId": "ecbb88fe-46c9-4875-e033-f5067db08b7d"
      },
      "execution_count": 28,
      "outputs": [
        {
          "output_type": "execute_result",
          "data": {
            "text/plain": [
              "array(['No', 'Ch'], dtype=object)"
            ]
          },
          "metadata": {},
          "execution_count": 28
        }
      ]
    },
    {
      "cell_type": "code",
      "source": [
        "# Replacing all of the objects with integers\n",
        "df['change'] = df['change'].replace(['No'], 0)\n",
        "df['change'] = df['change'].replace(['Ch'], 1)\n",
        "\n",
        "# Confirming if the column was converted to integer\n",
        "df.info()"
      ],
      "metadata": {
        "id": "iQTPB3UiD79J",
        "colab": {
          "base_uri": "https://localhost:8080/"
        },
        "outputId": "8f422cfe-182e-48cb-8ddc-d9f5d1be937d"
      },
      "execution_count": 29,
      "outputs": [
        {
          "output_type": "stream",
          "name": "stdout",
          "text": [
            "<class 'pandas.core.frame.DataFrame'>\n",
            "Int64Index: 99492 entries, 0 to 101765\n",
            "Data columns (total 22 columns):\n",
            " #   Column                    Non-Null Count  Dtype \n",
            "---  ------                    --------------  ----- \n",
            " 0   encounter_id              99492 non-null  int64 \n",
            " 1   patient_nbr               99492 non-null  int64 \n",
            " 2   race                      99492 non-null  int64 \n",
            " 3   gender                    99492 non-null  int64 \n",
            " 4   age                       99492 non-null  int64 \n",
            " 5   admission_type_id         99492 non-null  int64 \n",
            " 6   discharge_disposition_id  99492 non-null  int64 \n",
            " 7   admission_source_id       99492 non-null  int64 \n",
            " 8   time_in_hospital          99492 non-null  int64 \n",
            " 9   num_lab_procedures        99492 non-null  int64 \n",
            " 10  num_procedures            99492 non-null  int64 \n",
            " 11  num_medications           99492 non-null  int64 \n",
            " 12  number_outpatient         99492 non-null  int64 \n",
            " 13  number_emergency          99492 non-null  int64 \n",
            " 14  number_inpatient          99492 non-null  int64 \n",
            " 15  number_diagnoses          99492 non-null  int64 \n",
            " 16  max_glu_serum             99492 non-null  int64 \n",
            " 17  A1Cresult                 99492 non-null  object\n",
            " 18  insulin                   99492 non-null  object\n",
            " 19  change                    99492 non-null  int64 \n",
            " 20  diabetesMed               99492 non-null  int64 \n",
            " 21  readmitted                99492 non-null  int64 \n",
            "dtypes: int64(20), object(2)\n",
            "memory usage: 19.5+ MB\n"
          ]
        }
      ]
    },
    {
      "cell_type": "code",
      "source": [
        "# Checking any unique values for the column A1Cresult\n",
        "df['A1Cresult'].unique()"
      ],
      "metadata": {
        "colab": {
          "base_uri": "https://localhost:8080/"
        },
        "id": "bovMlIoHEg1_",
        "outputId": "cf9d74bc-27c0-43de-9d9f-2c6b4b868a6c"
      },
      "execution_count": 30,
      "outputs": [
        {
          "output_type": "execute_result",
          "data": {
            "text/plain": [
              "array(['None', '>7', '>8', 'Norm'], dtype=object)"
            ]
          },
          "metadata": {},
          "execution_count": 30
        }
      ]
    },
    {
      "cell_type": "code",
      "source": [
        "# Replacing all of the objects with integers\n",
        "df['A1Cresult'] = df['A1Cresult'].replace(['None'], 0)\n",
        "df['A1Cresult'] = df['A1Cresult'].replace(['>7'], 1)\n",
        "df['A1Cresult'] = df['A1Cresult'].replace(['>8'], 2)\n",
        "df['A1Cresult'] = df['A1Cresult'].replace(['Norm'], 3)\n",
        "\n",
        "# Confirming if the column was converted to integer\n",
        "df.info()"
      ],
      "metadata": {
        "colab": {
          "base_uri": "https://localhost:8080/"
        },
        "id": "pDI7nJgLEyo8",
        "outputId": "91d49e68-7697-4643-9003-ae84ada77090"
      },
      "execution_count": 31,
      "outputs": [
        {
          "output_type": "stream",
          "name": "stdout",
          "text": [
            "<class 'pandas.core.frame.DataFrame'>\n",
            "Int64Index: 99492 entries, 0 to 101765\n",
            "Data columns (total 22 columns):\n",
            " #   Column                    Non-Null Count  Dtype \n",
            "---  ------                    --------------  ----- \n",
            " 0   encounter_id              99492 non-null  int64 \n",
            " 1   patient_nbr               99492 non-null  int64 \n",
            " 2   race                      99492 non-null  int64 \n",
            " 3   gender                    99492 non-null  int64 \n",
            " 4   age                       99492 non-null  int64 \n",
            " 5   admission_type_id         99492 non-null  int64 \n",
            " 6   discharge_disposition_id  99492 non-null  int64 \n",
            " 7   admission_source_id       99492 non-null  int64 \n",
            " 8   time_in_hospital          99492 non-null  int64 \n",
            " 9   num_lab_procedures        99492 non-null  int64 \n",
            " 10  num_procedures            99492 non-null  int64 \n",
            " 11  num_medications           99492 non-null  int64 \n",
            " 12  number_outpatient         99492 non-null  int64 \n",
            " 13  number_emergency          99492 non-null  int64 \n",
            " 14  number_inpatient          99492 non-null  int64 \n",
            " 15  number_diagnoses          99492 non-null  int64 \n",
            " 16  max_glu_serum             99492 non-null  int64 \n",
            " 17  A1Cresult                 99492 non-null  int64 \n",
            " 18  insulin                   99492 non-null  object\n",
            " 19  change                    99492 non-null  int64 \n",
            " 20  diabetesMed               99492 non-null  int64 \n",
            " 21  readmitted                99492 non-null  int64 \n",
            "dtypes: int64(21), object(1)\n",
            "memory usage: 19.5+ MB\n"
          ]
        }
      ]
    },
    {
      "cell_type": "code",
      "source": [
        "# Checking any unique values for the column insulin\n",
        "df['insulin'].unique()"
      ],
      "metadata": {
        "colab": {
          "base_uri": "https://localhost:8080/"
        },
        "id": "InxJOouTEkal",
        "outputId": "f8602a94-76f4-45b2-bf15-3b3d8f96d759"
      },
      "execution_count": 32,
      "outputs": [
        {
          "output_type": "execute_result",
          "data": {
            "text/plain": [
              "array(['No', 'Up', 'Steady', 'Down'], dtype=object)"
            ]
          },
          "metadata": {},
          "execution_count": 32
        }
      ]
    },
    {
      "cell_type": "code",
      "source": [
        "# Replacing all of the objects with integers\n",
        "df['insulin'] = df['insulin'].replace(['No'], 0)\n",
        "df['insulin'] = df['insulin'].replace(['Up'], 1)\n",
        "df['insulin'] = df['insulin'].replace(['Steady'], 2)\n",
        "df['insulin'] = df['insulin'].replace(['Down'], 3)\n",
        "\n",
        "# Confirming if the column was converted to integer\n",
        "df.info()"
      ],
      "metadata": {
        "colab": {
          "base_uri": "https://localhost:8080/"
        },
        "id": "2xxQTRWYFNf_",
        "outputId": "35e07f7a-6495-4cd9-b005-d16a69564164"
      },
      "execution_count": 33,
      "outputs": [
        {
          "output_type": "stream",
          "name": "stdout",
          "text": [
            "<class 'pandas.core.frame.DataFrame'>\n",
            "Int64Index: 99492 entries, 0 to 101765\n",
            "Data columns (total 22 columns):\n",
            " #   Column                    Non-Null Count  Dtype\n",
            "---  ------                    --------------  -----\n",
            " 0   encounter_id              99492 non-null  int64\n",
            " 1   patient_nbr               99492 non-null  int64\n",
            " 2   race                      99492 non-null  int64\n",
            " 3   gender                    99492 non-null  int64\n",
            " 4   age                       99492 non-null  int64\n",
            " 5   admission_type_id         99492 non-null  int64\n",
            " 6   discharge_disposition_id  99492 non-null  int64\n",
            " 7   admission_source_id       99492 non-null  int64\n",
            " 8   time_in_hospital          99492 non-null  int64\n",
            " 9   num_lab_procedures        99492 non-null  int64\n",
            " 10  num_procedures            99492 non-null  int64\n",
            " 11  num_medications           99492 non-null  int64\n",
            " 12  number_outpatient         99492 non-null  int64\n",
            " 13  number_emergency          99492 non-null  int64\n",
            " 14  number_inpatient          99492 non-null  int64\n",
            " 15  number_diagnoses          99492 non-null  int64\n",
            " 16  max_glu_serum             99492 non-null  int64\n",
            " 17  A1Cresult                 99492 non-null  int64\n",
            " 18  insulin                   99492 non-null  int64\n",
            " 19  change                    99492 non-null  int64\n",
            " 20  diabetesMed               99492 non-null  int64\n",
            " 21  readmitted                99492 non-null  int64\n",
            "dtypes: int64(22)\n",
            "memory usage: 19.5 MB\n"
          ]
        }
      ]
    },
    {
      "cell_type": "markdown",
      "source": [
        "## Data Visualization (after cleaning the data)"
      ],
      "metadata": {
        "id": "LND4VSqM03fC"
      }
    },
    {
      "cell_type": "code",
      "source": [
        "sns.countplot(df['readmitted'], palette = \"Set1\").set_title('Readmitted')"
      ],
      "metadata": {
        "colab": {
          "base_uri": "https://localhost:8080/",
          "height": 370
        },
        "id": "q3cxBbHv05YX",
        "outputId": "2514e303-88be-48f5-aec5-3e6bcb7123b1"
      },
      "execution_count": 34,
      "outputs": [
        {
          "output_type": "stream",
          "name": "stderr",
          "text": [
            "/usr/local/lib/python3.7/dist-packages/seaborn/_decorators.py:43: FutureWarning: Pass the following variable as a keyword arg: x. From version 0.12, the only valid positional argument will be `data`, and passing other arguments without an explicit keyword will result in an error or misinterpretation.\n",
            "  FutureWarning\n"
          ]
        },
        {
          "output_type": "execute_result",
          "data": {
            "text/plain": [
              "Text(0.5, 1.0, 'Readmitted')"
            ]
          },
          "metadata": {},
          "execution_count": 34
        },
        {
          "output_type": "display_data",
          "data": {
            "text/plain": [
              "<Figure size 432x288 with 1 Axes>"
            ],
            "image/png": "[encoded data removed]"
          },
          "metadata": {
            "needs_background": "light"
          }
        }
      ]
    },
    {
      "cell_type": "markdown",
      "source": [
        "Analysis: This graph shows how many people were readmitted, 1 represents yes and 0 represents no. As shown, this data has been successfully converted from NO -> 0 and >30 and <30 -> 1"
      ],
      "metadata": {
        "id": "G4SYXxQO05RN"
      }
    },
    {
      "cell_type": "code",
      "source": [
        "fig = plt.figure(figsize=(15,10))\n",
        "sns.countplot(y= df['age'], hue = df['readmitted'], palette = \"Set1\")"
      ],
      "metadata": {
        "colab": {
          "base_uri": "https://localhost:8080/",
          "height": 624
        },
        "id": "gyLTXpoW5GjE",
        "outputId": "8ad4d9c7-f2a7-4115-c63f-2fd29b60ba03"
      },
      "execution_count": 35,
      "outputs": [
        {
          "output_type": "execute_result",
          "data": {
            "text/plain": [
              "<matplotlib.axes._subplots.AxesSubplot at 0x7f1ed414b710>"
            ]
          },
          "metadata": {},
          "execution_count": 35
        },
        {
          "output_type": "display_data",
          "data": {
            "text/plain": [
              "<Figure size 1080x720 with 1 Axes>"
            ],
            "image/png": "[encoded data removed]"
          },
          "metadata": {
            "needs_background": "light"
          }
        }
      ]
    },
    {
      "cell_type": "markdown",
      "source": [
        "Analysis: This shows the amount of people that got readmitted based on the age range. This shows that the age range was successfully converted to integers. With this, we can move on and start building models"
      ],
      "metadata": {
        "id": "ISRtgmoL9r-c"
      }
    },
    {
      "cell_type": "markdown",
      "source": [
        "# Part 3: Building and Evaluating Models"
      ],
      "metadata": {
        "id": "uQJ82a6jebfI"
      }
    },
    {
      "cell_type": "markdown",
      "source": [
        "## Logistic Regression"
      ],
      "metadata": {
        "id": "F0bS1jgbfYTV"
      }
    },
    {
      "cell_type": "code",
      "source": [
        "from sklearn.model_selection import train_test_split\n",
        "X_train, X_test, y_train, y_test = train_test_split(df.drop([\"readmitted\"], axis = 1), df['readmitted'], test_size = 0.50, random_state = 1)"
      ],
      "metadata": {
        "id": "WB_48zaeDbYW"
      },
      "execution_count": 36,
      "outputs": []
    },
    {
      "cell_type": "code",
      "source": [
        "logmodel = LogisticRegression()\n",
        "logmodel.fit(X_train, y_train)"
      ],
      "metadata": {
        "id": "kzJT8R42qxq_",
        "colab": {
          "base_uri": "https://localhost:8080/"
        },
        "outputId": "8f0918b6-58b3-4fa9-f7bd-b37503fdfd23"
      },
      "execution_count": 37,
      "outputs": [
        {
          "output_type": "execute_result",
          "data": {
            "text/plain": [
              "LogisticRegression()"
            ]
          },
          "metadata": {},
          "execution_count": 37
        }
      ]
    },
    {
      "cell_type": "code",
      "source": [
        "predictions = logmodel.predict(X_test)"
      ],
      "metadata": {
        "id": "EzQodvO2fVVz"
      },
      "execution_count": 38,
      "outputs": []
    },
    {
      "cell_type": "code",
      "source": [
        "from sklearn.metrics import classification_report"
      ],
      "metadata": {
        "id": "3GyGOSJNt9ds"
      },
      "execution_count": 39,
      "outputs": []
    },
    {
      "cell_type": "code",
      "source": [
        "print(classification_report(y_test, predictions))"
      ],
      "metadata": {
        "id": "Y-GoLwDqt_OH",
        "colab": {
          "base_uri": "https://localhost:8080/"
        },
        "outputId": "ec6cc821-1624-42f8-ec6c-9bc2115e0e83"
      },
      "execution_count": 40,
      "outputs": [
        {
          "output_type": "stream",
          "name": "stdout",
          "text": [
            "              precision    recall  f1-score   support\n",
            "\n",
            "           0       0.57      0.76      0.65     26672\n",
            "           1       0.55      0.34      0.42     23074\n",
            "\n",
            "    accuracy                           0.57     49746\n",
            "   macro avg       0.56      0.55      0.54     49746\n",
            "weighted avg       0.56      0.57      0.55     49746\n",
            "\n"
          ]
        }
      ]
    },
    {
      "cell_type": "code",
      "source": [
        ""
      ],
      "metadata": {
        "id": "RIZAg-Q4BDd8"
      },
      "execution_count": 40,
      "outputs": []
    },
    {
      "cell_type": "code",
      "source": [
        "from sklearn.metrics import confusion_matrix\n",
        "print(confusion_matrix(y_test, predictions))"
      ],
      "metadata": {
        "colab": {
          "base_uri": "https://localhost:8080/"
        },
        "id": "JUyzq4PYH218",
        "outputId": "57ceaba0-c4bd-4718-d48a-d881c2506769"
      },
      "execution_count": 41,
      "outputs": [
        {
          "output_type": "stream",
          "name": "stdout",
          "text": [
            "[[20385  6287]\n",
            " [15253  7821]]\n"
          ]
        }
      ]
    },
    {
      "cell_type": "code",
      "source": [
        "classifier = LogisticRegression(random_state=0)\n",
        "classifier.fit(X_train, y_train)"
      ],
      "metadata": {
        "colab": {
          "base_uri": "https://localhost:8080/"
        },
        "id": "F-oK_pZa7Orx",
        "outputId": "ed78571c-67b9-4097-fc0f-c149a5951eda"
      },
      "execution_count": 42,
      "outputs": [
        {
          "output_type": "execute_result",
          "data": {
            "text/plain": [
              "LogisticRegression(random_state=0)"
            ]
          },
          "metadata": {},
          "execution_count": 42
        }
      ]
    },
    {
      "cell_type": "code",
      "source": [
        "y_pred = classifier.predict(X_test)\n",
        "predictions = classifier.predict(X_test)"
      ],
      "metadata": {
        "id": "vMmmLa3S7KzA"
      },
      "execution_count": 43,
      "outputs": []
    },
    {
      "cell_type": "markdown",
      "source": [
        "## KNN"
      ],
      "metadata": {
        "id": "Y83gUvwoHmxk"
      }
    },
    {
      "cell_type": "code",
      "source": [
        "from sklearn.neighbors import KNeighborsClassifier\n",
        "knn = KNeighborsClassifier(n_neighbors=1)\n",
        "knn.fit(X_train, y_train)"
      ],
      "metadata": {
        "colab": {
          "base_uri": "https://localhost:8080/"
        },
        "id": "nw0jgLpDHo4H",
        "outputId": "542c08a0-2e40-4ad8-e5e2-2f15159b0a0c"
      },
      "execution_count": 44,
      "outputs": [
        {
          "output_type": "execute_result",
          "data": {
            "text/plain": [
              "KNeighborsClassifier(n_neighbors=1)"
            ]
          },
          "metadata": {},
          "execution_count": 44
        }
      ]
    },
    {
      "cell_type": "code",
      "source": [
        "pred = knn.predict(X_test)"
      ],
      "metadata": {
        "id": "btN1drMnJ94l"
      },
      "execution_count": 45,
      "outputs": []
    },
    {
      "cell_type": "code",
      "source": [
        "print(confusion_matrix(y_test, pred))"
      ],
      "metadata": {
        "colab": {
          "base_uri": "https://localhost:8080/"
        },
        "id": "zEc2_MO6J92R",
        "outputId": "d0575cca-1e30-4f71-9081-a93a5d4e870b"
      },
      "execution_count": 46,
      "outputs": [
        {
          "output_type": "stream",
          "name": "stdout",
          "text": [
            "[[15222 11450]\n",
            " [11508 11566]]\n"
          ]
        }
      ]
    },
    {
      "cell_type": "code",
      "source": [
        "print(classification_report(y_test, pred))"
      ],
      "metadata": {
        "colab": {
          "base_uri": "https://localhost:8080/"
        },
        "id": "VK5fA1mPKBQL",
        "outputId": "71f1445b-c5cb-42fb-e324-a1a64f0ae146"
      },
      "execution_count": 47,
      "outputs": [
        {
          "output_type": "stream",
          "name": "stdout",
          "text": [
            "              precision    recall  f1-score   support\n",
            "\n",
            "           0       0.57      0.57      0.57     26672\n",
            "           1       0.50      0.50      0.50     23074\n",
            "\n",
            "    accuracy                           0.54     49746\n",
            "   macro avg       0.54      0.54      0.54     49746\n",
            "weighted avg       0.54      0.54      0.54     49746\n",
            "\n"
          ]
        }
      ]
    },
    {
      "cell_type": "markdown",
      "source": [
        "## Decision Trees"
      ],
      "metadata": {
        "id": "9QLwNeAtJXQ3"
      }
    },
    {
      "cell_type": "code",
      "source": [
        "from sklearn.tree import DecisionTreeClassifier"
      ],
      "metadata": {
        "id": "c7EC1yRiJZmn"
      },
      "execution_count": 48,
      "outputs": []
    },
    {
      "cell_type": "code",
      "source": [
        "dtree = DecisionTreeClassifier()\n",
        "dtree.fit(X_train, y_train)"
      ],
      "metadata": {
        "colab": {
          "base_uri": "https://localhost:8080/"
        },
        "id": "IRDqARzLMROq",
        "outputId": "5e150ef7-69af-465c-bf09-0405d793528f"
      },
      "execution_count": 49,
      "outputs": [
        {
          "output_type": "execute_result",
          "data": {
            "text/plain": [
              "DecisionTreeClassifier()"
            ]
          },
          "metadata": {},
          "execution_count": 49
        }
      ]
    },
    {
      "cell_type": "code",
      "source": [
        "predictions = dtree.predict(X_test)\n",
        "print(classification_report(y_test, predictions))"
      ],
      "metadata": {
        "colab": {
          "base_uri": "https://localhost:8080/"
        },
        "id": "B6X1r5PiMSKe",
        "outputId": "c32e3819-e63c-478c-d67a-ad2115a667bc"
      },
      "execution_count": 50,
      "outputs": [
        {
          "output_type": "stream",
          "name": "stdout",
          "text": [
            "              precision    recall  f1-score   support\n",
            "\n",
            "           0       0.60      0.59      0.60     26672\n",
            "           1       0.54      0.55      0.55     23074\n",
            "\n",
            "    accuracy                           0.57     49746\n",
            "   macro avg       0.57      0.57      0.57     49746\n",
            "weighted avg       0.57      0.57      0.57     49746\n",
            "\n"
          ]
        }
      ]
    },
    {
      "cell_type": "code",
      "source": [
        "print(confusion_matrix(y_test, predictions))"
      ],
      "metadata": {
        "colab": {
          "base_uri": "https://localhost:8080/"
        },
        "id": "dSu0m8EMMT3L",
        "outputId": "1d2487b6-cd7c-4058-fae9-af405eb13901"
      },
      "execution_count": 51,
      "outputs": [
        {
          "output_type": "stream",
          "name": "stdout",
          "text": [
            "[[15839 10833]\n",
            " [10355 12719]]\n"
          ]
        }
      ]
    },
    {
      "cell_type": "markdown",
      "source": [
        "## Random Forest Model"
      ],
      "metadata": {
        "id": "MPopekIPyeMK"
      }
    },
    {
      "cell_type": "code",
      "source": [
        "from sklearn.ensemble import RandomForestClassifier\n",
        "rf = RandomForestClassifier(n_estimators = 600)\n",
        "rf.fit(X_train,y_train)"
      ],
      "metadata": {
        "colab": {
          "base_uri": "https://localhost:8080/"
        },
        "id": "uM_CS62Lyj0A",
        "outputId": "5d2683a8-d970-4b9b-83f1-c4c87c32e7f2"
      },
      "execution_count": 52,
      "outputs": [
        {
          "output_type": "execute_result",
          "data": {
            "text/plain": [
              "RandomForestClassifier(n_estimators=60)"
            ]
          },
          "metadata": {},
          "execution_count": 52
        }
      ]
    },
    {
      "cell_type": "code",
      "source": [
        "predictions_rfc = rf.predict(X_test)"
      ],
      "metadata": {
        "id": "4pm_NAj_yo7y"
      },
      "execution_count": 53,
      "outputs": []
    },
    {
      "cell_type": "code",
      "source": [
        "print(classification_report(y_test, predictions_rfc))"
      ],
      "metadata": {
        "colab": {
          "base_uri": "https://localhost:8080/"
        },
        "id": "qKEHq9WPyqN-",
        "outputId": "0c81c287-9903-4531-9194-bda86c111d9f"
      },
      "execution_count": 54,
      "outputs": [
        {
          "output_type": "stream",
          "name": "stdout",
          "text": [
            "              precision    recall  f1-score   support\n",
            "\n",
            "           0       0.66      0.73      0.69     26672\n",
            "           1       0.64      0.56      0.60     23074\n",
            "\n",
            "    accuracy                           0.65     49746\n",
            "   macro avg       0.65      0.64      0.64     49746\n",
            "weighted avg       0.65      0.65      0.65     49746\n",
            "\n"
          ]
        }
      ]
    },
    {
      "cell_type": "code",
      "source": [
        "print(confusion_matrix(y_test, predictions_rfc))"
      ],
      "metadata": {
        "colab": {
          "base_uri": "https://localhost:8080/"
        },
        "id": "UYbUXq5jyrOA",
        "outputId": "685da3f8-7b9b-4ad5-e55b-171f3b78061d"
      },
      "execution_count": 55,
      "outputs": [
        {
          "output_type": "stream",
          "name": "stdout",
          "text": [
            "[[19361  7311]\n",
            " [10164 12910]]\n"
          ]
        }
      ]
    },
    {
      "cell_type": "markdown",
      "source": [
        "# Part 4: Select Models"
      ],
      "metadata": {
        "id": "7O_Ay40FfVTD"
      }
    },
    {
      "cell_type": "markdown",
      "source": [
        "# Conclusion: I would choose the random forest model because it outputs a higher accuracy in comparison to the 3 other models."
      ],
      "metadata": {
        "id": "1RrqFjypfjZA"
      }
    },
    {
      "cell_type": "code",
      "source": [
        ""
      ],
      "metadata": {
        "id": "Qwto5jGesJoC"
      },
      "execution_count": 55,
      "outputs": []
    }
  ]
}