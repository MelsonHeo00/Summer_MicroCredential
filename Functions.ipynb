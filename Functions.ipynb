{
  "nbformat": 4,
  "nbformat_minor": 0,
  "metadata": {
    "colab": {
      "name": "Functions.ipynb",
      "provenance": [],
      "toc_visible": true,
      "authorship_tag": "ABX9TyM87k3fhLj+ANiD9GqzMDYY",
      "include_colab_link": true
    },
    "kernelspec": {
      "name": "python3",
      "display_name": "Python 3"
    },
    "language_info": {
      "name": "python"
    }
  },
  "cells": [
    {
      "cell_type": "markdown",
      "metadata": {
        "id": "view-in-github",
        "colab_type": "text"
      },
      "source": [
        "<a href=\"https://colab.research.google.com/github/MelsonHeo00/Summer_MicroCredential/blob/main/Functions.ipynb\" target=\"_parent\"><img src=\"https://colab.research.google.com/assets/colab-badge.svg\" alt=\"Open In Colab\"/></a>"
      ]
    },
    {
      "cell_type": "markdown",
      "source": [
        "# Intro to Python 4"
      ],
      "metadata": {
        "id": "DLNZT0jQXP4i"
      }
    },
    {
      "cell_type": "markdown",
      "source": [
        "# Function!"
      ],
      "metadata": {
        "id": "Fg_EmkmNXWe1"
      }
    },
    {
      "cell_type": "markdown",
      "source": [
        "### 1) How to define a function"
      ],
      "metadata": {
        "id": "CAmnmeL-XcId"
      }
    },
    {
      "cell_type": "code",
      "source": [
        "\"\"\"\n",
        "'def'  name_of_function():\n",
        "  whatever the function is supposed to do.\n",
        "\"\"\""
      ],
      "metadata": {
        "colab": {
          "base_uri": "https://localhost:8080/",
          "height": 35
        },
        "id": "Box1vltTXcFz",
        "outputId": "8e95e86b-ded4-4125-c032-40c344862291"
      },
      "execution_count": null,
      "outputs": [
        {
          "output_type": "execute_result",
          "data": {
            "text/plain": [
              "\"\\n'def'  name_of_function():\\n  whatever the function is supposed to do.\\n\""
            ],
            "application/vnd.google.colaboratory.intrinsic+json": {
              "type": "string"
            }
          },
          "metadata": {},
          "execution_count": 1
        }
      ]
    },
    {
      "cell_type": "code",
      "source": [
        "def my_function():\n",
        "  print('Hi there')"
      ],
      "metadata": {
        "id": "Ye6yJTlIXcDT"
      },
      "execution_count": null,
      "outputs": []
    },
    {
      "cell_type": "code",
      "source": [
        "type(my_function)"
      ],
      "metadata": {
        "colab": {
          "base_uri": "https://localhost:8080/"
        },
        "id": "eGNuC0N9XcAp",
        "outputId": "5f7119b6-b8a6-4630-817e-f775a4b20195"
      },
      "execution_count": null,
      "outputs": [
        {
          "output_type": "execute_result",
          "data": {
            "text/plain": [
              "function"
            ]
          },
          "metadata": {},
          "execution_count": 4
        }
      ]
    },
    {
      "cell_type": "code",
      "source": [
        "my_function"
      ],
      "metadata": {
        "colab": {
          "base_uri": "https://localhost:8080/"
        },
        "id": "I0x28bQ4Xb99",
        "outputId": "a3e46c57-f7c4-4bf9-e58e-ac77f47233f5"
      },
      "execution_count": null,
      "outputs": [
        {
          "output_type": "execute_result",
          "data": {
            "text/plain": [
              "<function __main__.my_function>"
            ]
          },
          "metadata": {},
          "execution_count": 5
        }
      ]
    },
    {
      "cell_type": "code",
      "source": [
        "my_function()"
      ],
      "metadata": {
        "colab": {
          "base_uri": "https://localhost:8080/"
        },
        "id": "rpmo5kJjX1DI",
        "outputId": "3322e230-9689-490a-a3ce-d1e11c4309dc"
      },
      "execution_count": null,
      "outputs": [
        {
          "output_type": "stream",
          "name": "stdout",
          "text": [
            "Hi there\n"
          ]
        }
      ]
    },
    {
      "cell_type": "code",
      "source": [
        "help(my_function)"
      ],
      "metadata": {
        "colab": {
          "base_uri": "https://localhost:8080/"
        },
        "id": "Q7eEhNT2X0_e",
        "outputId": "416c200e-3c46-49ac-8864-14f6973657f8"
      },
      "execution_count": null,
      "outputs": [
        {
          "output_type": "stream",
          "name": "stdout",
          "text": [
            "Help on function my_function in module __main__:\n",
            "\n",
            "my_function()\n",
            "\n"
          ]
        }
      ]
    },
    {
      "cell_type": "code",
      "source": [
        "def my_function():\n",
        "  \"\"\"\n",
        "  Created by: Me\n",
        "  Input: None\n",
        "  Output: Hello\n",
        "  \"\"\"\n",
        "  print(\"Hello\")"
      ],
      "metadata": {
        "id": "P27HpkMCZayC"
      },
      "execution_count": null,
      "outputs": []
    },
    {
      "cell_type": "code",
      "source": [
        "my_function()"
      ],
      "metadata": {
        "colab": {
          "base_uri": "https://localhost:8080/"
        },
        "id": "Wif3xfp0aBaU",
        "outputId": "46a306e6-765a-4d96-9752-377751c5043e"
      },
      "execution_count": null,
      "outputs": [
        {
          "output_type": "stream",
          "name": "stdout",
          "text": [
            "Hello\n"
          ]
        }
      ]
    },
    {
      "cell_type": "code",
      "source": [
        "help(my_function)"
      ],
      "metadata": {
        "colab": {
          "base_uri": "https://localhost:8080/"
        },
        "id": "ruHGVtuHaCvR",
        "outputId": "11dd7d83-9b1e-40ac-a537-2a78fa3b0f5b"
      },
      "execution_count": null,
      "outputs": [
        {
          "output_type": "stream",
          "name": "stdout",
          "text": [
            "Help on function my_function in module __main__:\n",
            "\n",
            "my_function()\n",
            "    Created by: Me\n",
            "    Input: None\n",
            "    Output: Hello\n",
            "\n"
          ]
        }
      ]
    },
    {
      "cell_type": "code",
      "source": [
        "def greetings(name):\n",
        "  \"\"\"\n",
        "  Created by: Me\n",
        "  Input: None\n",
        "  Output: Good Afternoon\n",
        "  \"\"\"\n",
        "  print(\"Good Afternoon \" + name)"
      ],
      "metadata": {
        "id": "JWUE2Hy3aEd8"
      },
      "execution_count": null,
      "outputs": []
    },
    {
      "cell_type": "code",
      "source": [
        "greetings(\"John\")"
      ],
      "metadata": {
        "colab": {
          "base_uri": "https://localhost:8080/"
        },
        "id": "4HsM4VK-auUg",
        "outputId": "901f621a-d02c-4e76-8e8d-b53d5be6918b"
      },
      "execution_count": null,
      "outputs": [
        {
          "output_type": "stream",
          "name": "stdout",
          "text": [
            "Good Afternoon John\n"
          ]
        }
      ]
    },
    {
      "cell_type": "code",
      "source": [
        "def greetings2(name ='John'):\n",
        "  \"\"\"\n",
        "  Created by: Me\n",
        "  Input: None\n",
        "  Output: Good Afternoon\n",
        "  \"\"\"\n",
        "  print(\"Good Afternoon \" + name)"
      ],
      "metadata": {
        "id": "2aGIm6dKavwu"
      },
      "execution_count": null,
      "outputs": []
    },
    {
      "cell_type": "code",
      "source": [
        "greetings2('Tom')"
      ],
      "metadata": {
        "colab": {
          "base_uri": "https://localhost:8080/"
        },
        "id": "0ZRy9jiObF5q",
        "outputId": "55d05f85-50ef-441e-d8f2-ce314d579d85"
      },
      "execution_count": null,
      "outputs": [
        {
          "output_type": "stream",
          "name": "stdout",
          "text": [
            "Good Afternoon Tom\n"
          ]
        }
      ]
    },
    {
      "cell_type": "code",
      "source": [
        "name = input(\"Enter your name: \")\n",
        "greetings2(name)"
      ],
      "metadata": {
        "id": "csGukOGDbIky",
        "colab": {
          "base_uri": "https://localhost:8080/"
        },
        "outputId": "b762fe63-395e-4d5c-bbeb-31cda1c37e83"
      },
      "execution_count": null,
      "outputs": [
        {
          "output_type": "stream",
          "name": "stdout",
          "text": [
            "Enter your name: 2\n",
            "Good Afternoon 2\n"
          ]
        }
      ]
    },
    {
      "cell_type": "code",
      "source": [
        "def add(n1, n2):\n",
        "  return n1 + n2"
      ],
      "metadata": {
        "id": "oyb2sSEibWZe"
      },
      "execution_count": null,
      "outputs": []
    },
    {
      "cell_type": "code",
      "source": [
        "add(3, 6)"
      ],
      "metadata": {
        "colab": {
          "base_uri": "https://localhost:8080/"
        },
        "id": "UMnuQvLBbz8q",
        "outputId": "990e5c5a-eaa4-4185-90bf-00b940888f33"
      },
      "execution_count": null,
      "outputs": [
        {
          "output_type": "execute_result",
          "data": {
            "text/plain": [
              "9"
            ]
          },
          "metadata": {},
          "execution_count": 25
        }
      ]
    },
    {
      "cell_type": "code",
      "source": [
        "def even_numbers(n):\n",
        "  \"\"\"\n",
        "  Description: This function prints out even number from a given list of numbers.\n",
        "  Created by: Me\n",
        "  Input: List of numbers\n",
        "  Output: Even numbers from given list\n",
        "  \"\"\"\n",
        "  num = []\n",
        "  for i in n:\n",
        "    if i % 2 == 0:\n",
        "      num.append(i)\n",
        "  return num\n"
      ],
      "metadata": {
        "id": "_Wo0BEIab4P7"
      },
      "execution_count": null,
      "outputs": []
    },
    {
      "cell_type": "code",
      "source": [
        "help(even_numbers)"
      ],
      "metadata": {
        "colab": {
          "base_uri": "https://localhost:8080/"
        },
        "id": "w2hrTMTUcxaV",
        "outputId": "7bd084df-e54e-4e71-b5d7-475a13d2fab1"
      },
      "execution_count": null,
      "outputs": [
        {
          "output_type": "stream",
          "name": "stdout",
          "text": [
            "Help on function even_numbers in module __main__:\n",
            "\n",
            "even_numbers(n)\n",
            "    Description: This function prints out even number from a given list of numbers.\n",
            "    Created by: Me\n",
            "    Input: List of numbers\n",
            "    Output: Even numbers from given list\n",
            "\n"
          ]
        }
      ]
    },
    {
      "cell_type": "code",
      "source": [
        "even_numbers([23, 45, 76, 78, 32, 22])"
      ],
      "metadata": {
        "colab": {
          "base_uri": "https://localhost:8080/"
        },
        "id": "CX78iJeOcz_e",
        "outputId": "3c8b11c4-f36f-48f9-ca7b-c43d50b18f05"
      },
      "execution_count": null,
      "outputs": [
        {
          "output_type": "execute_result",
          "data": {
            "text/plain": [
              "[76, 78, 32, 22]"
            ]
          },
          "metadata": {},
          "execution_count": 29
        }
      ]
    },
    {
      "cell_type": "code",
      "source": [
        "def odd_numbers(n):\n",
        "  \"\"\"\n",
        "  Description: This function prints out odd number from a given list of numbers.\n",
        "  Created by: Me\n",
        "  Input: List of numbers\n",
        "  Output: Odd numbers from given list\n",
        "  \"\"\"\n",
        "  num = []\n",
        "  for i in n:\n",
        "    if i % 2 != 0:\n",
        "      num.append(i)\n",
        "  return num"
      ],
      "metadata": {
        "id": "6V1haHZLc3bm"
      },
      "execution_count": null,
      "outputs": []
    },
    {
      "cell_type": "code",
      "source": [
        "help(odd_numbers)"
      ],
      "metadata": {
        "colab": {
          "base_uri": "https://localhost:8080/"
        },
        "id": "ybZwrGOsdubm",
        "outputId": "5574ea9b-710e-4de7-de09-278b9b1e0833"
      },
      "execution_count": null,
      "outputs": [
        {
          "output_type": "stream",
          "name": "stdout",
          "text": [
            "Help on function odd_numbers in module __main__:\n",
            "\n",
            "odd_numbers(n)\n",
            "    Description: This function prints out odd number from a given list of numbers.\n",
            "    Created by: Me\n",
            "    Input: List of numbers\n",
            "    Output: Odd numbers from given list\n",
            "\n"
          ]
        }
      ]
    },
    {
      "cell_type": "code",
      "source": [
        "odd_numbers([2,3,4,5,6,7,8,9,10])"
      ],
      "metadata": {
        "colab": {
          "base_uri": "https://localhost:8080/"
        },
        "id": "FddjrSu5dzpV",
        "outputId": "00262f8e-d728-4b36-c496-508d3cb682c7"
      },
      "execution_count": null,
      "outputs": [
        {
          "output_type": "execute_result",
          "data": {
            "text/plain": [
              "[3, 5, 7, 9]"
            ]
          },
          "metadata": {},
          "execution_count": 33
        }
      ]
    },
    {
      "cell_type": "code",
      "source": [
        ""
      ],
      "metadata": {
        "id": "GaQo9gALd2sm"
      },
      "execution_count": null,
      "outputs": []
    }
  ]
}