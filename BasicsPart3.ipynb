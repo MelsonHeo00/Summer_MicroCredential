{
  "nbformat": 4,
  "nbformat_minor": 0,
  "metadata": {
    "colab": {
      "name": "BasicsPart3.ipynb",
      "provenance": [],
      "toc_visible": true,
      "authorship_tag": "ABX9TyMNK43SD10B8VWYKSJDbJ6l",
      "include_colab_link": true
    },
    "kernelspec": {
      "name": "python3",
      "display_name": "Python 3"
    },
    "language_info": {
      "name": "python"
    }
  },
  "cells": [
    {
      "cell_type": "markdown",
      "metadata": {
        "id": "view-in-github",
        "colab_type": "text"
      },
      "source": [
        "<a href=\"https://colab.research.google.com/github/MelsonHeo00/Summer_MicroCredential/blob/main/BasicsPart3.ipynb\" target=\"_parent\"><img src=\"https://colab.research.google.com/assets/colab-badge.svg\" alt=\"Open In Colab\"/></a>"
      ]
    },
    {
      "cell_type": "markdown",
      "source": [
        "# Intro to Python Part 3"
      ],
      "metadata": {
        "id": "p-susjFqGo6B"
      }
    },
    {
      "cell_type": "markdown",
      "source": [
        "## Conditionals and Loop"
      ],
      "metadata": {
        "id": "xBapysKxHGly"
      }
    },
    {
      "cell_type": "markdown",
      "source": [
        "### Conditionals\n",
        "#### IF/ELIF/ELSE Statements"
      ],
      "metadata": {
        "id": "c4T4KDfPHIjV"
      }
    },
    {
      "cell_type": "code",
      "source": [
        "\"\"\"\n",
        "if (condition):\n",
        "  do something\n",
        "\"\"\"\n",
        "\n",
        "# This comment indicates the basics of if statements, if the condition statement is met, it will follow up with the action after the colon"
      ],
      "metadata": {
        "id": "TnoqEmFOHIhS",
        "colab": {
          "base_uri": "https://localhost:8080/",
          "height": 35
        },
        "outputId": "e30e093d-b561-4330-cff9-a0c95ef1552a"
      },
      "execution_count": 51,
      "outputs": [
        {
          "output_type": "execute_result",
          "data": {
            "text/plain": [
              "'\\nif (condition):\\n  do something\\n'"
            ],
            "application/vnd.google.colaboratory.intrinsic+json": {
              "type": "string"
            }
          },
          "metadata": {},
          "execution_count": 51
        }
      ]
    },
    {
      "cell_type": "code",
      "source": [
        "# Example 1: Comparison of two numbers\n",
        "# In this example, we will be comparing two numbers 4 and 7. As shown within the if statement, we compare 4 and 7\n",
        "# Since generally 4 < 7, it will produce the else statement condition instead of the if statement condition\n",
        "\n",
        "if (4 > 7): # The two numbers 4 and 7 are being compares\n",
        "  print(\"right\") # If 4 > 7 was correct, then it will print out \"right\", however it is not correct so it will not produce this outcome\n",
        "else: # if the condition all fails, else statments are generally the backup where it will produce regardless of the previous conditions\n",
        "  print(\"wrong\") # Since 4 > 7 is wrong, it will print this out as a result"
      ],
      "metadata": {
        "colab": {
          "base_uri": "https://localhost:8080/"
        },
        "id": "XemP-cLgHIex",
        "outputId": "d69a1307-1979-4a7b-dd0d-3726eb3b7728"
      },
      "execution_count": 52,
      "outputs": [
        {
          "output_type": "stream",
          "name": "stdout",
          "text": [
            "wrong\n"
          ]
        }
      ]
    },
    {
      "cell_type": "code",
      "source": [
        "# Example 2: Comparison of two variables\n",
        "# In this example, we will be comparing two variables\n",
        "# The two variables will be compared through declaring an integer\n",
        "\n",
        "a = 3 # Variable a will be equal to 3\n",
        "b = 5 # Variable b will be equal to 5\n",
        "if a > b: # The two variables will be compared\n",
        "  print(\"Yes it is\") # If a > b was correct, then it will output \"Yes it is\"\n",
        "else: # Otherwise condition\n",
        "  print(\"Try Again\") # If a > b is not true, then it will output \"Try Again\""
      ],
      "metadata": {
        "colab": {
          "base_uri": "https://localhost:8080/"
        },
        "id": "nh-rJKmcHIb9",
        "outputId": "b81f431b-b3a8-49ff-d419-11a10c44211f"
      },
      "execution_count": 53,
      "outputs": [
        {
          "output_type": "stream",
          "name": "stdout",
          "text": [
            "Try Again\n"
          ]
        }
      ]
    },
    {
      "cell_type": "code",
      "source": [
        "# Example 3: Comparison of a string variable\n",
        "# In this example, the variable will be declared a string and will be compared within the if statement\n",
        "\n",
        "drink = \"Tea\" # The variable drink will be equal to Tea\n",
        "\n",
        "# Side note: When comparing a variable, == is used to compare when they are equal\n",
        "if drink == \"Coffee\": # The variable drink will be compared to the string \"Coffee\"\n",
        "  print(\"Humanity runs on Coffee\") # If the variable drink is equal to \"Coffee\", then it will output this statement\n",
        "else: # If the previous conditions do not apply, it will output this\n",
        "  print(\"When there is a tea, there is a hope!\")"
      ],
      "metadata": {
        "colab": {
          "base_uri": "https://localhost:8080/"
        },
        "id": "gi0nSFohHIZh",
        "outputId": "04279c61-3a53-44f6-f417-90a1c064312d"
      },
      "execution_count": 54,
      "outputs": [
        {
          "output_type": "stream",
          "name": "stdout",
          "text": [
            "When there is a tea, there is a hope!\n"
          ]
        }
      ]
    },
    {
      "cell_type": "code",
      "source": [
        "drink = \"Coke\"\n",
        "\n",
        "if drink == \"Coffee\":\n",
        "  print(\"Humanity runs on Coffee\")\n",
        "elif drink == \"Water\":\n",
        "  print(\"Water is the life!\")\n",
        "elif drink == \"Coke\":\n",
        "  print(\"Coke is the new fuel of programmer\")\n",
        "else:\n",
        "  print(\"When there is a tea, there is a hope!\")"
      ],
      "metadata": {
        "colab": {
          "base_uri": "https://localhost:8080/"
        },
        "id": "8dpi4aQoHIW9",
        "outputId": "71ab6b6f-6213-40d5-d1e2-44fa8226f1b1"
      },
      "execution_count": 55,
      "outputs": [
        {
          "output_type": "stream",
          "name": "stdout",
          "text": [
            "Coke is the new fuel of programmer\n"
          ]
        }
      ]
    },
    {
      "cell_type": "markdown",
      "source": [
        "## Loops"
      ],
      "metadata": {
        "id": "AvPqnQqXHIUV"
      }
    },
    {
      "cell_type": "markdown",
      "source": [
        "### For Loops"
      ],
      "metadata": {
        "id": "tjLepDJoLwdZ"
      }
    },
    {
      "cell_type": "code",
      "source": [
        "\"\"\"\n",
        "for interator in array:\n",
        "  do something\n",
        "\"\"\""
      ],
      "metadata": {
        "colab": {
          "base_uri": "https://localhost:8080/",
          "height": 35
        },
        "id": "qX76UEgpLzu7",
        "outputId": "87cd67b4-5f3e-4a7d-b3ed-b788ecb903c5"
      },
      "execution_count": null,
      "outputs": [
        {
          "output_type": "execute_result",
          "data": {
            "text/plain": [
              "'\\nfor interator in array:\\n  do something\\n'"
            ],
            "application/vnd.google.colaboratory.intrinsic+json": {
              "type": "string"
            }
          },
          "metadata": {},
          "execution_count": 14
        }
      ]
    },
    {
      "cell_type": "code",
      "source": [
        "my_list = [1,2,3,4,5,6,7,8,9,10]"
      ],
      "metadata": {
        "id": "ftnRwUIdLzrY"
      },
      "execution_count": null,
      "outputs": []
    },
    {
      "cell_type": "code",
      "source": [
        "for num in my_list:\n",
        "  print(num)"
      ],
      "metadata": {
        "colab": {
          "base_uri": "https://localhost:8080/"
        },
        "id": "qCTMYVIvLzls",
        "outputId": "fac4c708-e027-4481-9649-a953fe106978"
      },
      "execution_count": null,
      "outputs": [
        {
          "output_type": "stream",
          "name": "stdout",
          "text": [
            "1\n",
            "2\n",
            "3\n",
            "4\n",
            "5\n",
            "6\n",
            "7\n",
            "8\n",
            "9\n",
            "10\n"
          ]
        }
      ]
    },
    {
      "cell_type": "code",
      "source": [
        "for i in my_list:\n",
        "  if i % 2 == 0: # any time the number will give you the remainder of 2\n",
        "    print(i)"
      ],
      "metadata": {
        "colab": {
          "base_uri": "https://localhost:8080/"
        },
        "id": "zZKJpY4cMEXG",
        "outputId": "abd36b2a-c6e3-442a-a8ed-accf5b0dab87"
      },
      "execution_count": null,
      "outputs": [
        {
          "output_type": "stream",
          "name": "stdout",
          "text": [
            "2\n",
            "4\n",
            "6\n",
            "8\n",
            "10\n"
          ]
        }
      ]
    },
    {
      "cell_type": "code",
      "source": [
        "for i in my_list:\n",
        "  if i % 1 != 0:\n",
        "    print(i)"
      ],
      "metadata": {
        "id": "XSxd5nxXMURD"
      },
      "execution_count": null,
      "outputs": []
    },
    {
      "cell_type": "code",
      "source": [
        "# Interview Question :)\n",
        "my_list = [1,2,3,4,5]\n",
        "list_sum = 0\n",
        "\n",
        "for num in my_list:\n",
        "  list_sum = list_sum + num\n",
        "print(list_sum)"
      ],
      "metadata": {
        "colab": {
          "base_uri": "https://localhost:8080/"
        },
        "id": "I2yoQcpaMUOe",
        "outputId": "667ee400-ed04-4795-98a5-c0c059a4d316"
      },
      "execution_count": null,
      "outputs": [
        {
          "output_type": "stream",
          "name": "stdout",
          "text": [
            "15\n"
          ]
        }
      ]
    },
    {
      "cell_type": "code",
      "source": [
        "my_string = \"Hello World\"\n",
        "\n",
        "for letters in my_string:\n",
        "  print(letters)"
      ],
      "metadata": {
        "colab": {
          "base_uri": "https://localhost:8080/"
        },
        "id": "ekUqY66lMULX",
        "outputId": "7db17a21-5d19-4112-9e0b-2dec55f83187"
      },
      "execution_count": null,
      "outputs": [
        {
          "output_type": "stream",
          "name": "stdout",
          "text": [
            "H\n",
            "e\n",
            "l\n",
            "l\n",
            "o\n",
            " \n",
            "W\n",
            "o\n",
            "r\n",
            "l\n",
            "d\n"
          ]
        }
      ]
    },
    {
      "cell_type": "code",
      "source": [
        "my_list = [(1,2),(3,4),(4,5),(6,7)]\n",
        "len(my_list)"
      ],
      "metadata": {
        "colab": {
          "base_uri": "https://localhost:8080/"
        },
        "id": "h2_JNgvIOBMi",
        "outputId": "58a6eb29-274a-4ec3-f060-dec248b8e4aa"
      },
      "execution_count": null,
      "outputs": [
        {
          "output_type": "execute_result",
          "data": {
            "text/plain": [
              "4"
            ]
          },
          "metadata": {},
          "execution_count": 22
        }
      ]
    },
    {
      "cell_type": "code",
      "source": [
        "for tup in my_list:\n",
        "  print(tup)"
      ],
      "metadata": {
        "colab": {
          "base_uri": "https://localhost:8080/"
        },
        "id": "SoqQNQo0OXGv",
        "outputId": "87752880-3d6c-4878-c5d1-ff8dcfe1de65"
      },
      "execution_count": null,
      "outputs": [
        {
          "output_type": "stream",
          "name": "stdout",
          "text": [
            "(1, 2)\n",
            "(3, 4)\n",
            "(4, 5)\n",
            "(6, 7)\n"
          ]
        }
      ]
    },
    {
      "cell_type": "code",
      "source": [
        "for a,b in my_list:\n",
        "  print(b)"
      ],
      "metadata": {
        "colab": {
          "base_uri": "https://localhost:8080/"
        },
        "id": "_9PuU901OcQX",
        "outputId": "5e43e61d-cad5-4860-a5cf-dbd552075f4b"
      },
      "execution_count": null,
      "outputs": [
        {
          "output_type": "stream",
          "name": "stdout",
          "text": [
            "2\n",
            "4\n",
            "5\n",
            "7\n"
          ]
        }
      ]
    },
    {
      "cell_type": "code",
      "source": [
        "for a,b in my_list:\n",
        "  print(a)"
      ],
      "metadata": {
        "colab": {
          "base_uri": "https://localhost:8080/"
        },
        "id": "na9jylESOfRR",
        "outputId": "1a09eff7-bd20-4436-dd0a-43b4d04a2ab7"
      },
      "execution_count": null,
      "outputs": [
        {
          "output_type": "stream",
          "name": "stdout",
          "text": [
            "1\n",
            "3\n",
            "4\n",
            "6\n"
          ]
        }
      ]
    },
    {
      "cell_type": "code",
      "source": [
        "my_list = [(1,2,3),(4,5,6),(7,8,9)]"
      ],
      "metadata": {
        "id": "v2CARh7ZOlYe"
      },
      "execution_count": null,
      "outputs": []
    },
    {
      "cell_type": "code",
      "source": [
        "for a,b,c in my_list:\n",
        "  print(b,c)"
      ],
      "metadata": {
        "colab": {
          "base_uri": "https://localhost:8080/"
        },
        "id": "wPXSgk6SOqNI",
        "outputId": "e4b15f37-f297-458d-fa67-1a8a64ab31b0"
      },
      "execution_count": null,
      "outputs": [
        {
          "output_type": "stream",
          "name": "stdout",
          "text": [
            "2 3\n",
            "5 6\n",
            "8 9\n"
          ]
        }
      ]
    },
    {
      "cell_type": "code",
      "source": [
        "my_dict = {\"k1\": 1, \"k2\": 2, \"k3\":3}"
      ],
      "metadata": {
        "id": "MHbDamCwOtmy"
      },
      "execution_count": null,
      "outputs": []
    },
    {
      "cell_type": "code",
      "source": [
        "for i in my_dict:\n",
        "  print(i)\n",
        "  "
      ],
      "metadata": {
        "colab": {
          "base_uri": "https://localhost:8080/"
        },
        "id": "QMOORzRTO2Mf",
        "outputId": "2da6ad1c-d3bd-4553-b445-2b7a218456af"
      },
      "execution_count": null,
      "outputs": [
        {
          "output_type": "stream",
          "name": "stdout",
          "text": [
            "k1\n",
            "k2\n",
            "k3\n"
          ]
        }
      ]
    },
    {
      "cell_type": "code",
      "source": [
        "my_dict.items()"
      ],
      "metadata": {
        "colab": {
          "base_uri": "https://localhost:8080/"
        },
        "id": "HQ58NZzaO5iP",
        "outputId": "3416daf2-89b8-4647-f9dd-56a4862124ff"
      },
      "execution_count": null,
      "outputs": [
        {
          "output_type": "execute_result",
          "data": {
            "text/plain": [
              "dict_items([('k1', 1), ('k2', 2), ('k3', 3)])"
            ]
          },
          "metadata": {},
          "execution_count": 31
        }
      ]
    },
    {
      "cell_type": "code",
      "source": [
        "for i in my_dict.items():\n",
        "  print(i)"
      ],
      "metadata": {
        "colab": {
          "base_uri": "https://localhost:8080/"
        },
        "id": "HMvbhYviO9eX",
        "outputId": "605d8d90-b499-47d4-b63c-5101fa390177"
      },
      "execution_count": null,
      "outputs": [
        {
          "output_type": "stream",
          "name": "stdout",
          "text": [
            "('k1', 1)\n",
            "('k2', 2)\n",
            "('k3', 3)\n"
          ]
        }
      ]
    },
    {
      "cell_type": "code",
      "source": [
        "for a,b in my_dict.items():\n",
        "  print(b)"
      ],
      "metadata": {
        "colab": {
          "base_uri": "https://localhost:8080/"
        },
        "id": "biS7KQp3PC2-",
        "outputId": "af72495c-3c9d-492b-9347-0b016b5587b7"
      },
      "execution_count": null,
      "outputs": [
        {
          "output_type": "stream",
          "name": "stdout",
          "text": [
            "1\n",
            "2\n",
            "3\n"
          ]
        }
      ]
    },
    {
      "cell_type": "code",
      "source": [
        "## How to define a loop\n",
        "# For loops with\n",
        "# List\n",
        "# String\n",
        "# Tuples\n",
        "# Dictionary"
      ],
      "metadata": {
        "id": "_tj1Z6HUPGeG"
      },
      "execution_count": null,
      "outputs": []
    },
    {
      "cell_type": "markdown",
      "source": [
        "### While Loops"
      ],
      "metadata": {
        "id": "fG_dOrodR1iJ"
      }
    },
    {
      "cell_type": "code",
      "source": [
        "i = 0\n",
        "while i < 5:\n",
        "  print(i)\n",
        "  i = i + 1"
      ],
      "metadata": {
        "id": "_hs3DnNfSHYo",
        "colab": {
          "base_uri": "https://localhost:8080/"
        },
        "outputId": "c54967ef-759c-4843-d8e7-b1ec16bc34e3"
      },
      "execution_count": 38,
      "outputs": [
        {
          "output_type": "stream",
          "name": "stdout",
          "text": [
            "0\n",
            "1\n",
            "2\n",
            "3\n",
            "4\n"
          ]
        }
      ]
    },
    {
      "cell_type": "code",
      "source": [
        "i = 10\n",
        "while i < 5:\n",
        "  print(i)\n",
        "  i = i + 1\n",
        "else:\n",
        "  print(\"i is not less than 5\")"
      ],
      "metadata": {
        "id": "h9KdnrsESHWS",
        "colab": {
          "base_uri": "https://localhost:8080/"
        },
        "outputId": "f565f085-dee3-481d-c34d-884099a38116"
      },
      "execution_count": 42,
      "outputs": [
        {
          "output_type": "stream",
          "name": "stdout",
          "text": [
            "i is not less than 5\n"
          ]
        }
      ]
    },
    {
      "cell_type": "markdown",
      "source": [
        "### Pass, Break, and Continue"
      ],
      "metadata": {
        "id": "pLU6IcaOSHUC"
      }
    },
    {
      "cell_type": "code",
      "source": [
        "i = [1,2,3,4,5]\n",
        "for items in i:\n",
        "  # Comment\n",
        "  pass # this will pass the code\n",
        "print(\"I will work after\")"
      ],
      "metadata": {
        "id": "DT-uD3sKSHQD",
        "colab": {
          "base_uri": "https://localhost:8080/"
        },
        "outputId": "7a1beff6-d60e-4eeb-80b0-12f5af8d760a"
      },
      "execution_count": 45,
      "outputs": [
        {
          "output_type": "stream",
          "name": "stdout",
          "text": [
            "I will work after\n"
          ]
        }
      ]
    },
    {
      "cell_type": "code",
      "source": [
        "my_string = \"Hello World\"\n",
        "\n",
        "for letters in my_string:\n",
        "  if letters == \"r\":\n",
        "    break # breaks the code when the condition is met\n",
        "  print(letters)"
      ],
      "metadata": {
        "id": "FOjNrFBvSHNr",
        "colab": {
          "base_uri": "https://localhost:8080/"
        },
        "outputId": "989f68df-ddff-4756-d996-60493f41119e"
      },
      "execution_count": 57,
      "outputs": [
        {
          "output_type": "stream",
          "name": "stdout",
          "text": [
            "H\n",
            "e\n",
            "l\n",
            "l\n",
            "o\n",
            " \n",
            "W\n",
            "o\n"
          ]
        }
      ]
    },
    {
      "cell_type": "code",
      "source": [
        "my_string = \"Hello World\"\n",
        "\n",
        "for letters in my_string:\n",
        "  if letters == \"e\":\n",
        "    continue\n",
        "  print(letters)"
      ],
      "metadata": {
        "colab": {
          "base_uri": "https://localhost:8080/"
        },
        "id": "uCMSLdm6Tf1t",
        "outputId": "982d35f4-66d0-4239-bbd9-78771a79298d"
      },
      "execution_count": 59,
      "outputs": [
        {
          "output_type": "stream",
          "name": "stdout",
          "text": [
            "H\n",
            "l\n",
            "l\n",
            "o\n",
            " \n",
            "W\n",
            "o\n",
            "r\n",
            "l\n",
            "d\n"
          ]
        }
      ]
    },
    {
      "cell_type": "code",
      "source": [
        "i = 0\n",
        "while i < 5:\n",
        "  if i == 3:\n",
        "    break\n",
        "  print(i)\n",
        "  i = i + 1"
      ],
      "metadata": {
        "colab": {
          "base_uri": "https://localhost:8080/"
        },
        "id": "GyMRk5esTfyt",
        "outputId": "76bc16cf-2b85-4427-f473-b33821f45854"
      },
      "execution_count": 60,
      "outputs": [
        {
          "output_type": "stream",
          "name": "stdout",
          "text": [
            "0\n",
            "1\n",
            "2\n"
          ]
        }
      ]
    },
    {
      "cell_type": "markdown",
      "source": [
        "## Most Used Built-In functions in Python"
      ],
      "metadata": {
        "id": "Ekkq4Jg2Tfwm"
      }
    },
    {
      "cell_type": "markdown",
      "source": [
        "### 1) Range Function"
      ],
      "metadata": {
        "id": "Kd2sxaV0TfuW"
      }
    },
    {
      "cell_type": "code",
      "source": [
        "for num in range(10):\n",
        "  print(num)"
      ],
      "metadata": {
        "colab": {
          "base_uri": "https://localhost:8080/"
        },
        "id": "j8OgNcz0U0Lp",
        "outputId": "de02361e-7ee0-4c88-aa06-9fd0bde216bd"
      },
      "execution_count": 61,
      "outputs": [
        {
          "output_type": "stream",
          "name": "stdout",
          "text": [
            "0\n",
            "1\n",
            "2\n",
            "3\n",
            "4\n",
            "5\n",
            "6\n",
            "7\n",
            "8\n",
            "9\n"
          ]
        }
      ]
    },
    {
      "cell_type": "code",
      "source": [
        "for num in range(3,10):\n",
        "  print(num)"
      ],
      "metadata": {
        "colab": {
          "base_uri": "https://localhost:8080/"
        },
        "id": "0K2xUimbU0Jg",
        "outputId": "5bfe8b5d-5749-41cd-fc65-7d61506d105a"
      },
      "execution_count": 62,
      "outputs": [
        {
          "output_type": "stream",
          "name": "stdout",
          "text": [
            "3\n",
            "4\n",
            "5\n",
            "6\n",
            "7\n",
            "8\n",
            "9\n"
          ]
        }
      ]
    },
    {
      "cell_type": "code",
      "source": [
        "for num in range(0,11,2):\n",
        "  print(num)"
      ],
      "metadata": {
        "colab": {
          "base_uri": "https://localhost:8080/"
        },
        "id": "HelsAbULU0G8",
        "outputId": "d55104b7-a8ce-4cca-c4ad-a35597b12dad"
      },
      "execution_count": 63,
      "outputs": [
        {
          "output_type": "stream",
          "name": "stdout",
          "text": [
            "0\n",
            "2\n",
            "4\n",
            "6\n",
            "8\n",
            "10\n"
          ]
        }
      ]
    },
    {
      "cell_type": "code",
      "source": [
        "my_list = [1,2,3,4,5,6,7,8,9,10]\n",
        "range(10)\n",
        "list(range(10))\n",
        "list(range(1,11))"
      ],
      "metadata": {
        "colab": {
          "base_uri": "https://localhost:8080/"
        },
        "id": "39zUapJXU0Ed",
        "outputId": "036e9dea-53b1-4ab8-bd46-e2bf53f63705"
      },
      "execution_count": 65,
      "outputs": [
        {
          "output_type": "execute_result",
          "data": {
            "text/plain": [
              "[1, 2, 3, 4, 5, 6, 7, 8, 9, 10]"
            ]
          },
          "metadata": {},
          "execution_count": 65
        }
      ]
    },
    {
      "cell_type": "markdown",
      "source": [
        "### 2) Enumerate\n",
        "*It gives back us an index count and object itself*"
      ],
      "metadata": {
        "id": "MATtV5QYU0B7"
      }
    },
    {
      "cell_type": "code",
      "source": [
        "word = \"Batman\"\n",
        "for items in word:\n",
        "  print(items)"
      ],
      "metadata": {
        "colab": {
          "base_uri": "https://localhost:8080/"
        },
        "id": "HO7gnU6BVeA2",
        "outputId": "e0561c5e-8c8d-4ba6-bff8-1d6a511cd5b9"
      },
      "execution_count": 66,
      "outputs": [
        {
          "output_type": "stream",
          "name": "stdout",
          "text": [
            "B\n",
            "a\n",
            "t\n",
            "m\n",
            "a\n",
            "n\n"
          ]
        }
      ]
    },
    {
      "cell_type": "code",
      "source": [
        "for items in enumerate(word):\n",
        "  print(items)"
      ],
      "metadata": {
        "colab": {
          "base_uri": "https://localhost:8080/"
        },
        "id": "tJkjBb_fVd-7",
        "outputId": "18804447-cabd-4287-89cb-5ed58ad0310d"
      },
      "execution_count": 67,
      "outputs": [
        {
          "output_type": "stream",
          "name": "stdout",
          "text": [
            "(0, 'B')\n",
            "(1, 'a')\n",
            "(2, 't')\n",
            "(3, 'm')\n",
            "(4, 'a')\n",
            "(5, 'n')\n"
          ]
        }
      ]
    },
    {
      "cell_type": "code",
      "source": [
        "for a,b in enumerate(word):\n",
        "  print(a,b)"
      ],
      "metadata": {
        "colab": {
          "base_uri": "https://localhost:8080/"
        },
        "id": "BLnwOhbuVd7p",
        "outputId": "cb3b081d-ef4d-43c2-a29c-f34d5102b893"
      },
      "execution_count": 70,
      "outputs": [
        {
          "output_type": "stream",
          "name": "stdout",
          "text": [
            "0 B\n",
            "1 a\n",
            "2 t\n",
            "3 m\n",
            "4 a\n",
            "5 n\n"
          ]
        }
      ]
    },
    {
      "cell_type": "code",
      "source": [
        "for a,b in enumerate(word):\n",
        "  print(a)\n",
        "  print(b)\n",
        "  print(\"\\n\")"
      ],
      "metadata": {
        "colab": {
          "base_uri": "https://localhost:8080/"
        },
        "id": "qChYWpHRV6sV",
        "outputId": "2e5a264c-6476-4d28-cb25-646bfbdeaf97"
      },
      "execution_count": 71,
      "outputs": [
        {
          "output_type": "stream",
          "name": "stdout",
          "text": [
            "0\n",
            "B\n",
            "\n",
            "\n",
            "1\n",
            "a\n",
            "\n",
            "\n",
            "2\n",
            "t\n",
            "\n",
            "\n",
            "3\n",
            "m\n",
            "\n",
            "\n",
            "4\n",
            "a\n",
            "\n",
            "\n",
            "5\n",
            "n\n",
            "\n",
            "\n"
          ]
        }
      ]
    },
    {
      "cell_type": "markdown",
      "source": [
        "### 3) Zip"
      ],
      "metadata": {
        "id": "YweX11CnWNP8"
      }
    },
    {
      "cell_type": "code",
      "source": [
        "list1 = [1,2,3,4,5]\n",
        "list2 = [\"a\",\"b\",\"c\",\"d\",\"e\"]\n",
        "list3 = [\"a\",\"b\",\"c\"]"
      ],
      "metadata": {
        "id": "__pv61BtWQmu"
      },
      "execution_count": 72,
      "outputs": []
    },
    {
      "cell_type": "code",
      "source": [
        "list4 = zip(list1, list2)"
      ],
      "metadata": {
        "id": "-9q8cSxWWQjo"
      },
      "execution_count": 73,
      "outputs": []
    },
    {
      "cell_type": "code",
      "source": [
        "print(list4)"
      ],
      "metadata": {
        "colab": {
          "base_uri": "https://localhost:8080/"
        },
        "id": "JOiTUqDzWQg0",
        "outputId": "ccf5b18a-fe90-4ee6-d287-caa26266aef0"
      },
      "execution_count": 74,
      "outputs": [
        {
          "output_type": "stream",
          "name": "stdout",
          "text": [
            "<zip object at 0x7ff9b470a820>\n"
          ]
        }
      ]
    },
    {
      "cell_type": "code",
      "source": [
        "for items in zip(list1, list2):\n",
        "  print(items)"
      ],
      "metadata": {
        "colab": {
          "base_uri": "https://localhost:8080/"
        },
        "id": "kpOSnUuxWQeR",
        "outputId": "21e23030-f64c-4526-fcb7-fd9852a2c556"
      },
      "execution_count": 75,
      "outputs": [
        {
          "output_type": "stream",
          "name": "stdout",
          "text": [
            "(1, 'a')\n",
            "(2, 'b')\n",
            "(3, 'c')\n",
            "(4, 'd')\n",
            "(5, 'e')\n"
          ]
        }
      ]
    },
    {
      "cell_type": "code",
      "source": [
        "for items in zip(list1,list2,list3):\n",
        "  print(items)"
      ],
      "metadata": {
        "colab": {
          "base_uri": "https://localhost:8080/"
        },
        "id": "f4vNOCRIWQbc",
        "outputId": "b458c44e-8f21-4c6b-b132-49f1095d8af7"
      },
      "execution_count": 78,
      "outputs": [
        {
          "output_type": "stream",
          "name": "stdout",
          "text": [
            "(1, 'a', 'a')\n",
            "(2, 'b', 'b')\n",
            "(3, 'c', 'c')\n"
          ]
        }
      ]
    },
    {
      "cell_type": "code",
      "source": [
        "for a,b,c in zip(list1,list2,list3):\n",
        "  print(b)"
      ],
      "metadata": {
        "colab": {
          "base_uri": "https://localhost:8080/"
        },
        "id": "RIb6lgThWuhf",
        "outputId": "5fc14afe-f80c-4c69-8168-c814fd775fae"
      },
      "execution_count": 80,
      "outputs": [
        {
          "output_type": "stream",
          "name": "stdout",
          "text": [
            "a\n",
            "b\n",
            "c\n"
          ]
        }
      ]
    },
    {
      "cell_type": "code",
      "source": [
        ""
      ],
      "metadata": {
        "id": "4mAoAjzAW7xz"
      },
      "execution_count": null,
      "outputs": []
    }
  ]
}