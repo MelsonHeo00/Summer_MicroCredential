{
  "nbformat": 4,
  "nbformat_minor": 0,
  "metadata": {
    "colab": {
      "name": "Homework 1.ipynb",
      "provenance": [],
      "collapsed_sections": [],
      "include_colab_link": true
    },
    "kernelspec": {
      "name": "python3",
      "display_name": "Python 3"
    },
    "language_info": {
      "name": "python"
    }
  },
  "cells": [
    {
      "cell_type": "markdown",
      "metadata": {
        "id": "view-in-github",
        "colab_type": "text"
      },
      "source": [
        "<a href=\"https://colab.research.google.com/github/MelsonHeo00/Summer_MicroCredential/blob/main/Homework_1.ipynb\" target=\"_parent\"><img src=\"https://colab.research.google.com/assets/colab-badge.svg\" alt=\"Open In Colab\"/></a>"
      ]
    },
    {
      "cell_type": "markdown",
      "source": [
        "# Answer all the questions!"
      ],
      "metadata": {
        "id": "FkJsXd8D06Rp"
      }
    },
    {
      "cell_type": "markdown",
      "source": [
        "##Write a Python program to get the volume of a sphere with radius 6"
      ],
      "metadata": {
        "id": "elOgKZR009ex"
      }
    },
    {
      "cell_type": "code",
      "source": [
        "import math # Note: I had to search the import because to get pi, I needed to import the math function\n",
        "\n",
        "# Defining a function that will output the volume of the sphere\n",
        "def sphere_volume(radius):\n",
        "  \"\"\"\n",
        "  Description: A program where the radius is declared as 6 and outputs the volume\n",
        "  Created: Melson Heo\n",
        "  Input: Any radius that is given\n",
        "  Output: The volume based on the radius given\n",
        "  \"\"\"\n",
        "  volume = 4/3 * math.pi * radius**3 # The formula for the volume of a sphere\n",
        "  return volume # IT will return the value of the volume\n",
        "\n",
        "print(\"This is the volume when radius = 6: \" + str(sphere_volume(6))) # Outputs the volume"
      ],
      "metadata": {
        "colab": {
          "base_uri": "https://localhost:8080/"
        },
        "id": "XxYqg0s5o0RI",
        "outputId": "5dd8e0dc-7c3d-425f-83a0-5a7be464a2dc"
      },
      "execution_count": null,
      "outputs": [
        {
          "output_type": "stream",
          "name": "stdout",
          "text": [
            "This is the volume when radius = 6: 904.7786842338603\n"
          ]
        }
      ]
    },
    {
      "cell_type": "markdown",
      "source": [
        "##Write a Python program to find whether a given number (accept from the user) is even or odd"
      ],
      "metadata": {
        "id": "OuX7aazu09X1"
      }
    },
    {
      "cell_type": "code",
      "source": [
        "\"\"\"\n",
        "Description: A program where the user inputs a number and it will output \n",
        "Created: Melson Heo\n",
        "Input: Any number that the user inputs\n",
        "Output: Outputs whether the user inputs an even or odd number\n",
        "\"\"\"\n",
        "\n",
        "user_input = int(input(\"Give me any number: \")) # The user inputs any number\n",
        "\n",
        "# If and else statement where it will output between yes and no\n",
        "if user_input % 2 == 0: # The condition is if the number is divisible by 2, it will fulfill this condition\n",
        "  print(\"The number you have given me is even\") # This will output if the if statement is fulfilled\n",
        "else: # If the if statement fails, it will automatically come to this condition\n",
        "  print(\"The number you have given me is odd\") # Thsi will output if the else statement is fulfilled"
      ],
      "metadata": {
        "id": "vcYhNNaU09Uz",
        "colab": {
          "base_uri": "https://localhost:8080/"
        },
        "outputId": "2e21b4e0-bd36-4498-dc3b-5d0e95303bee"
      },
      "execution_count": null,
      "outputs": [
        {
          "output_type": "stream",
          "name": "stdout",
          "text": [
            "Give me any number: 21092\n",
            "The number you have given me is even\n"
          ]
        }
      ]
    },
    {
      "cell_type": "markdown",
      "source": [
        "##Write a Python program to count the number 4 in a given list"
      ],
      "metadata": {
        "id": "NP5TZKqO09Rr"
      }
    },
    {
      "cell_type": "code",
      "source": [
        "# The function count_the_fours will output the amount of 4's within the list\n",
        "def count_the_fours(nums):\n",
        "  \"\"\"\n",
        "  Description: This function will determine how many 4's are within the list\n",
        "  Created: Melson Heo\n",
        "  Input: Any list of numbers\n",
        "  Output: The amount of 4's within the given list of numbers\n",
        "  \"\"\"\n",
        "  count = 0  # This is a count variable where it will count the amount\n",
        "  for i in nums: # For Loop where the integer i will go through the entire list nums\n",
        "    if i == 4: # Checks any of the numbers are equal to 4\n",
        "      count = count + 1 # The count increment will go up by 1 if the condition is fulfilled\n",
        "  return count # Returns the count amount\n",
        "\n",
        "count_the_fours([5,6,7,8,4,2,4]) # Any list that is given within the function will be checked, the list can not be outside the ()"
      ],
      "metadata": {
        "id": "oWZ3vTfW09Oh",
        "colab": {
          "base_uri": "https://localhost:8080/"
        },
        "outputId": "3ac76e93-7e89-40c6-9890-94cb152e5229"
      },
      "execution_count": null,
      "outputs": [
        {
          "output_type": "execute_result",
          "data": {
            "text/plain": [
              "2"
            ]
          },
          "metadata": {},
          "execution_count": 15
        }
      ]
    },
    {
      "cell_type": "markdown",
      "source": [
        "##Write a Python program that will accept the base and height of a triangle and compute the area"
      ],
      "metadata": {
        "id": "IK0FvUoa1MJG"
      }
    },
    {
      "cell_type": "code",
      "source": [
        "# The function triangle_area will output the area of the triangle based on the two number input\n",
        "def triangle_area(base, height):\n",
        "  \"\"\"\n",
        "  Description: This function will compute the input and calculate the area of the triangle\n",
        "  Created: Melson Heo\n",
        "  Input: Any two numbers for the base and triangle\n",
        "  Output: The area of the triangle\n",
        "  \"\"\"\n",
        "  area = 1/2 * base * height # Formula for the area of the triangle\n",
        "  return area # Returns the value of the area\n",
        "\n",
        "base = float(input(\"What number would you like for the base: \")) # User input for the base\n",
        "height = float(input(\"What number would you like for the height: \")) # User input for the height\n",
        "print(\"This is the area of thr triangle: \" + str(triangle_area(base, height))) # Prints out the result based on the user input"
      ],
      "metadata": {
        "colab": {
          "base_uri": "https://localhost:8080/"
        },
        "id": "TjHndo_y2F8p",
        "outputId": "613defa7-8019-4ad9-f26c-23b18dc57bc4"
      },
      "execution_count": null,
      "outputs": [
        {
          "output_type": "stream",
          "name": "stdout",
          "text": [
            "What number would you like for the base: 15\n",
            "What number would you like for the height: 15.4\n",
            "This is the area of thr triangle: 115.5\n"
          ]
        }
      ]
    },
    {
      "cell_type": "markdown",
      "source": [
        "##Write a Python program to convert the distance (in feet) to inches, yards, and miles."
      ],
      "metadata": {
        "id": "sOkeycZk1L5-"
      }
    },
    {
      "cell_type": "code",
      "source": [
        "\"\"\"\n",
        "Description: A program where the user inputs a number and it will output a conversion to inches, yards, and miles\n",
        "Created: Melson Heo\n",
        "Input: Any number that the user inputs\n",
        "Output: Outputs whether the user inputs the conversion of inches, yards, and miles\n",
        "\"\"\"\n",
        "\n",
        "user_input2 = float(input(\"What number would you like to convert: \")) # This line will ask the user to input a number based on feet\n",
        "print(str(user_input2) + \" feet to \" + str(user_input2 * 12) + \" inches\") # This will output the converison of feet to inches\n",
        "print(str(user_input2) + \" feet to \" + str(user_input2 / 3) + \" yards\") # This will output the converison of feet to yards\n",
        "print(str(user_input2) + \" feet to \" + str(user_input2 / 5280) + \" miles\") # This will output the converison of feet to miles"
      ],
      "metadata": {
        "id": "YtW-ZxqB1L2c",
        "colab": {
          "base_uri": "https://localhost:8080/"
        },
        "outputId": "d8ff9818-3ac2-4248-dbe9-0028ba7ce16f"
      },
      "execution_count": null,
      "outputs": [
        {
          "output_type": "stream",
          "name": "stdout",
          "text": [
            "What number would you like to convert: 15490309.245\n",
            "15490309.245 feet to 185883710.94 inches\n",
            "15490309.245 feet to 5163436.415 yards\n",
            "15490309.245 feet to 2933.770690340909 miles\n"
          ]
        }
      ]
    },
    {
      "cell_type": "code",
      "source": [
        ""
      ],
      "metadata": {
        "id": "-Of5DdIc44-4"
      },
      "execution_count": null,
      "outputs": []
    }
  ]
}