{
  "nbformat": 4,
  "nbformat_minor": 0,
  "metadata": {
    "colab": {
      "name": "BasicsPart2.ipynb",
      "provenance": [],
      "toc_visible": true,
      "authorship_tag": "ABX9TyNBBsArrOmqnBkmRcgzxr66",
      "include_colab_link": true
    },
    "kernelspec": {
      "name": "python3",
      "display_name": "Python 3"
    },
    "language_info": {
      "name": "python"
    }
  },
  "cells": [
    {
      "cell_type": "markdown",
      "metadata": {
        "id": "view-in-github",
        "colab_type": "text"
      },
      "source": [
        "<a href=\"https://colab.research.google.com/github/MelsonHeo00/Summer_MicroCredential/blob/main/BasicsPart2.ipynb\" target=\"_parent\"><img src=\"https://colab.research.google.com/assets/colab-badge.svg\" alt=\"Open In Colab\"/></a>"
      ]
    },
    {
      "cell_type": "markdown",
      "source": [
        "# Intro to Python Part 2\n",
        "## Data Structures"
      ],
      "metadata": {
        "id": "QD54iWl8-nfQ"
      }
    },
    {
      "cell_type": "markdown",
      "source": [
        "## Lists"
      ],
      "metadata": {
        "id": "BKVRcdSE-3z4"
      }
    },
    {
      "cell_type": "code",
      "source": [
        "lst = []\n",
        "# this line, I am defining an empty list\n",
        "# To define a list, I created a variable name such as 'lst' and then I assigned a empty set of squared brackets\n",
        "# By assign I mean to simple use a single equal sign"
      ],
      "metadata": {
        "id": "NvAwwl_oBdjK"
      },
      "execution_count": null,
      "outputs": []
    },
    {
      "cell_type": "code",
      "source": [
        "type(lst) \n",
        "# the function type is used for the variable 'lst' to figure out which type of variable 'lst' is"
      ],
      "metadata": {
        "colab": {
          "base_uri": "https://localhost:8080/"
        },
        "id": "IcOnOnxFBkHV",
        "outputId": "4c5cdf73-a088-4129-d4b0-fc42b76c3b98"
      },
      "execution_count": null,
      "outputs": [
        {
          "output_type": "execute_result",
          "data": {
            "text/plain": [
              "list"
            ]
          },
          "metadata": {},
          "execution_count": 44
        }
      ]
    },
    {
      "cell_type": "code",
      "source": [
        "my_list = [\"Hello\", 100, 23.47]\n",
        "# the variable my_list was declared as a list that features a string, an integer, and a float integer"
      ],
      "metadata": {
        "id": "mjhcLrni-3sO"
      },
      "execution_count": null,
      "outputs": []
    },
    {
      "cell_type": "code",
      "source": [
        "print(my_list)\n",
        "# this prints out the variable my_list"
      ],
      "metadata": {
        "colab": {
          "base_uri": "https://localhost:8080/"
        },
        "id": "5Z9-pAtB-3p2",
        "outputId": "2271a326-3a41-48bb-9772-6a8903267da2"
      },
      "execution_count": null,
      "outputs": [
        {
          "output_type": "stream",
          "name": "stdout",
          "text": [
            "['Hello', 100, 23.47]\n"
          ]
        }
      ]
    },
    {
      "cell_type": "code",
      "source": [
        "type(my_list)\n",
        "# the function type is used for the variable 'my_list' to figure out which type of vairable 'my_list' is"
      ],
      "metadata": {
        "colab": {
          "base_uri": "https://localhost:8080/"
        },
        "id": "ZjLGTtDv-3mk",
        "outputId": "5c95073a-4bf9-4e32-9913-348ae8850510"
      },
      "execution_count": null,
      "outputs": [
        {
          "output_type": "execute_result",
          "data": {
            "text/plain": [
              "list"
            ]
          },
          "metadata": {},
          "execution_count": 51
        }
      ]
    },
    {
      "cell_type": "code",
      "source": [
        "second_list = ['one', 'two', 'three']\n",
        "# the variable second_list was declared with three strings"
      ],
      "metadata": {
        "id": "QxdexRNR-3f6"
      },
      "execution_count": null,
      "outputs": []
    },
    {
      "cell_type": "code",
      "source": [
        "print(my_list, second_list)\n",
        "# this prints thw two variables my_list and second_list"
      ],
      "metadata": {
        "colab": {
          "base_uri": "https://localhost:8080/"
        },
        "id": "59X8XZ1CANs-",
        "outputId": "3036dfad-a512-40d7-a7af-1ddb0372d6b4"
      },
      "execution_count": null,
      "outputs": [
        {
          "output_type": "stream",
          "name": "stdout",
          "text": [
            "['Hello', 100, 23.47] ['one', 'two', 'three']\n"
          ]
        }
      ]
    },
    {
      "cell_type": "markdown",
      "source": [
        "### Concatenation"
      ],
      "metadata": {
        "id": "CCBBg6lTAQJO"
      }
    },
    {
      "cell_type": "code",
      "source": [
        "new_list = my_list + second_list\n",
        "# the variable new_list combines the two variable my_list and second_list to make a new list"
      ],
      "metadata": {
        "id": "yTIS1yDmBSHI"
      },
      "execution_count": null,
      "outputs": []
    },
    {
      "cell_type": "code",
      "source": [
        "type(new_list)\n",
        "# the function type is used for the variable 'new_list' to figure out which type of variable 'new_list' is"
      ],
      "metadata": {
        "colab": {
          "base_uri": "https://localhost:8080/"
        },
        "id": "04_9Bx1eBaIh",
        "outputId": "0629ce77-c3d6-4645-9dd8-1633dffe87fa"
      },
      "execution_count": null,
      "outputs": [
        {
          "output_type": "execute_result",
          "data": {
            "text/plain": [
              "list"
            ]
          },
          "metadata": {},
          "execution_count": 52
        }
      ]
    },
    {
      "cell_type": "code",
      "source": [
        "print(new_list)\n",
        "# prints out the variable 'new_list'"
      ],
      "metadata": {
        "colab": {
          "base_uri": "https://localhost:8080/"
        },
        "id": "Kbzdm43gBbOs",
        "outputId": "6bda5431-650d-4698-8ca5-0f04f2a3a32e"
      },
      "execution_count": null,
      "outputs": [
        {
          "output_type": "stream",
          "name": "stdout",
          "text": [
            "['Hello', 100, 23.47, 'one', 'two', 'three']\n"
          ]
        }
      ]
    },
    {
      "cell_type": "markdown",
      "source": [
        "### Indexing in a list"
      ],
      "metadata": {
        "id": "0ZrS_bVNBndE"
      }
    },
    {
      "cell_type": "code",
      "source": [
        "students = [\"Robert\", \"Chris\", \"Katarina\", \"Scarlett\"]\n",
        "# declaring a new list featuring the variable 'students'"
      ],
      "metadata": {
        "id": "7on6pjPyB0Uz"
      },
      "execution_count": null,
      "outputs": []
    },
    {
      "cell_type": "code",
      "source": [
        "students\n",
        "# prints out the variable 'students'"
      ],
      "metadata": {
        "colab": {
          "base_uri": "https://localhost:8080/"
        },
        "id": "ufFH0zvZCAU1",
        "outputId": "0510687a-a880-4cb1-b0ae-6c94fc1d72b7"
      },
      "execution_count": null,
      "outputs": [
        {
          "output_type": "execute_result",
          "data": {
            "text/plain": [
              "['Robert', 'Chris', 'Katarina', 'Scarlett']"
            ]
          },
          "metadata": {},
          "execution_count": 15
        }
      ]
    },
    {
      "cell_type": "code",
      "source": [
        "students[0]\n",
        "# Note: lists always start at 0\n",
        "# This indexes toward the list variable 'students' and figures out the first index (basically first appearance)"
      ],
      "metadata": {
        "colab": {
          "base_uri": "https://localhost:8080/",
          "height": 36
        },
        "id": "lU4mPjFKCBfa",
        "outputId": "ac0b0681-24c4-4cca-9e72-20f64f4755ef"
      },
      "execution_count": null,
      "outputs": [
        {
          "output_type": "execute_result",
          "data": {
            "text/plain": [
              "'Robert'"
            ],
            "application/vnd.google.colaboratory.intrinsic+json": {
              "type": "string"
            }
          },
          "metadata": {},
          "execution_count": 18
        }
      ]
    },
    {
      "cell_type": "code",
      "source": [
        "students[0][0]\n",
        "# This declares within the list variable 'students' where it searches for the first variable plus the first letter"
      ],
      "metadata": {
        "colab": {
          "base_uri": "https://localhost:8080/",
          "height": 36
        },
        "id": "Pn9JOKN3CCpV",
        "outputId": "990c3815-4008-4b8b-e536-59414a8b873e"
      },
      "execution_count": null,
      "outputs": [
        {
          "output_type": "execute_result",
          "data": {
            "text/plain": [
              "'R'"
            ],
            "application/vnd.google.colaboratory.intrinsic+json": {
              "type": "string"
            }
          },
          "metadata": {},
          "execution_count": 21
        }
      ]
    },
    {
      "cell_type": "code",
      "source": [
        "string1 =  \"this is a string\"\n",
        "# Declares a string within the variable 'string1'"
      ],
      "metadata": {
        "id": "jT6Pnbv0CQ02"
      },
      "execution_count": null,
      "outputs": []
    },
    {
      "cell_type": "code",
      "source": [
        "string1\n",
        "# Prints out the variable string1"
      ],
      "metadata": {
        "colab": {
          "base_uri": "https://localhost:8080/",
          "height": 36
        },
        "id": "tSqz_Y2VCbUP",
        "outputId": "b6a2d2d4-ede5-47d4-ce1e-0dbc071fbcea"
      },
      "execution_count": null,
      "outputs": [
        {
          "output_type": "execute_result",
          "data": {
            "text/plain": [
              "'this is a string'"
            ],
            "application/vnd.google.colaboratory.intrinsic+json": {
              "type": "string"
            }
          },
          "metadata": {},
          "execution_count": 23
        }
      ]
    },
    {
      "cell_type": "code",
      "source": [
        "string1[2]\n",
        "# Searches for the second indexation of the string variable 'string1'"
      ],
      "metadata": {
        "colab": {
          "base_uri": "https://localhost:8080/",
          "height": 36
        },
        "id": "D3Ujn9PuCcdi",
        "outputId": "04fcab9e-3199-40fc-8f55-4b41eb6d468b"
      },
      "execution_count": null,
      "outputs": [
        {
          "output_type": "execute_result",
          "data": {
            "text/plain": [
              "'i'"
            ],
            "application/vnd.google.colaboratory.intrinsic+json": {
              "type": "string"
            }
          },
          "metadata": {},
          "execution_count": 24
        }
      ]
    },
    {
      "cell_type": "markdown",
      "source": [
        "### Editing a list's"
      ],
      "metadata": {
        "id": "UvpVAmsLCev4"
      }
    },
    {
      "cell_type": "code",
      "source": [
        "students\n",
        "# printing out the variable 'students"
      ],
      "metadata": {
        "colab": {
          "base_uri": "https://localhost:8080/"
        },
        "id": "I7yQxdAtCxFG",
        "outputId": "4d583819-7072-4a7f-9e4e-5c1e699e203a"
      },
      "execution_count": null,
      "outputs": [
        {
          "output_type": "execute_result",
          "data": {
            "text/plain": [
              "['Robert', 'Chris', 'Katarina', 'Scarlett']"
            ]
          },
          "metadata": {},
          "execution_count": 37
        }
      ]
    },
    {
      "cell_type": "code",
      "source": [
        "students[0] = \"Sam\""
      ],
      "metadata": {
        "id": "nrF6ZZA6CrEJ"
      },
      "execution_count": null,
      "outputs": []
    },
    {
      "cell_type": "code",
      "source": [
        "students"
      ],
      "metadata": {
        "colab": {
          "base_uri": "https://localhost:8080/"
        },
        "id": "lvOpE8AqCrB5",
        "outputId": "80d73156-6b55-4179-c209-1a2b9ecbd79b"
      },
      "execution_count": null,
      "outputs": [
        {
          "output_type": "execute_result",
          "data": {
            "text/plain": [
              "['Sam', 'Chris', 'Katarina', 'Paul', 'Paul']"
            ]
          },
          "metadata": {},
          "execution_count": 48
        }
      ]
    },
    {
      "cell_type": "code",
      "source": [
        "students.append(\"Paul\")"
      ],
      "metadata": {
        "id": "uoihSO9VCq_a"
      },
      "execution_count": null,
      "outputs": []
    },
    {
      "cell_type": "code",
      "source": [
        "students"
      ],
      "metadata": {
        "colab": {
          "base_uri": "https://localhost:8080/"
        },
        "id": "3SQYeik5Cqm7",
        "outputId": "db8daedd-38bd-455e-fab7-9bc87d25035d"
      },
      "execution_count": null,
      "outputs": [
        {
          "output_type": "execute_result",
          "data": {
            "text/plain": [
              "['Sam', 'Chris', 'Katarina', 'Paul', 'Paul']"
            ]
          },
          "metadata": {},
          "execution_count": 47
        }
      ]
    },
    {
      "cell_type": "code",
      "source": [
        "students.remove(\"Scarlett\")"
      ],
      "metadata": {
        "id": "oIRKRFOLDMX-"
      },
      "execution_count": null,
      "outputs": []
    },
    {
      "cell_type": "code",
      "source": [
        "students"
      ],
      "metadata": {
        "colab": {
          "base_uri": "https://localhost:8080/"
        },
        "id": "zDOIB4hWDTsM",
        "outputId": "4dc9ac57-fbf9-4c4b-deac-e55ee3d59d32"
      },
      "execution_count": null,
      "outputs": [
        {
          "output_type": "execute_result",
          "data": {
            "text/plain": [
              "['Sam', 'Chris', 'Katarina', 'Paul', 'Paul']"
            ]
          },
          "metadata": {},
          "execution_count": 46
        }
      ]
    },
    {
      "cell_type": "code",
      "source": [
        "list1 = [\"one\", \"two\", \"three\", \"four\", \"five\"]"
      ],
      "metadata": {
        "id": "sX7DY8PaDUb8"
      },
      "execution_count": null,
      "outputs": []
    },
    {
      "cell_type": "code",
      "source": [
        "list1.pop(2)"
      ],
      "metadata": {
        "colab": {
          "base_uri": "https://localhost:8080/",
          "height": 36
        },
        "id": "ZYtrjjScDkFw",
        "outputId": "a0697f22-4df6-4d7b-d6ff-adfd24bc4eaa"
      },
      "execution_count": null,
      "outputs": [
        {
          "output_type": "execute_result",
          "data": {
            "text/plain": [
              "'three'"
            ],
            "application/vnd.google.colaboratory.intrinsic+json": {
              "type": "string"
            }
          },
          "metadata": {},
          "execution_count": 51
        }
      ]
    },
    {
      "cell_type": "code",
      "source": [
        "list1"
      ],
      "metadata": {
        "colab": {
          "base_uri": "https://localhost:8080/"
        },
        "id": "pZUZKbEHDm1o",
        "outputId": "882a0e9e-b80a-422e-ac9e-37365ef596c7"
      },
      "execution_count": null,
      "outputs": [
        {
          "output_type": "execute_result",
          "data": {
            "text/plain": [
              "['one', 'two', 'four']"
            ]
          },
          "metadata": {},
          "execution_count": 52
        }
      ]
    },
    {
      "cell_type": "markdown",
      "source": [
        "### Add List to List"
      ],
      "metadata": {
        "id": "4_ap0J3qDqve"
      }
    },
    {
      "cell_type": "code",
      "source": [
        "color = [\"Red\", \"Green\", \"Blue\", \"Violet\"]"
      ],
      "metadata": {
        "id": "EClIbp3cEAVO"
      },
      "execution_count": null,
      "outputs": []
    },
    {
      "cell_type": "code",
      "source": [
        "color"
      ],
      "metadata": {
        "colab": {
          "base_uri": "https://localhost:8080/"
        },
        "id": "NIvZ8d37EIKy",
        "outputId": "4b4d923d-49d0-4e8c-a477-885c35d30625"
      },
      "execution_count": null,
      "outputs": [
        {
          "output_type": "execute_result",
          "data": {
            "text/plain": [
              "['Red', 'Green', 'Blue', 'Violet']"
            ]
          },
          "metadata": {},
          "execution_count": 54
        }
      ]
    },
    {
      "cell_type": "code",
      "source": [
        "age = [21, 23, 25, 27]"
      ],
      "metadata": {
        "id": "Vpflvd-vEJDH"
      },
      "execution_count": null,
      "outputs": []
    },
    {
      "cell_type": "code",
      "source": [
        "age"
      ],
      "metadata": {
        "colab": {
          "base_uri": "https://localhost:8080/"
        },
        "id": "L37CFu0rELRt",
        "outputId": "acb6b7fc-5f1a-474f-f2f6-256e357af888"
      },
      "execution_count": null,
      "outputs": [
        {
          "output_type": "execute_result",
          "data": {
            "text/plain": [
              "[21, 23, 25, 27]"
            ]
          },
          "metadata": {},
          "execution_count": 56
        }
      ]
    },
    {
      "cell_type": "code",
      "source": [
        "color.extend(age)"
      ],
      "metadata": {
        "id": "hi5KRvOkEMD8"
      },
      "execution_count": null,
      "outputs": []
    },
    {
      "cell_type": "code",
      "source": [
        "color"
      ],
      "metadata": {
        "colab": {
          "base_uri": "https://localhost:8080/"
        },
        "id": "pr2Ip64CENlI",
        "outputId": "50328bab-5e92-4f92-8745-7d4d380d04ac"
      },
      "execution_count": null,
      "outputs": [
        {
          "output_type": "execute_result",
          "data": {
            "text/plain": [
              "['Red', 'Green', 'Blue', 'Violet', 21, 23, 25, 27]"
            ]
          },
          "metadata": {},
          "execution_count": 58
        }
      ]
    },
    {
      "cell_type": "markdown",
      "source": [
        "### Python in-build functions with the list's"
      ],
      "metadata": {
        "id": "ZvwQWxcjEOa7"
      }
    },
    {
      "cell_type": "code",
      "source": [
        "even = [2, 4, 6, 8]\n",
        "odd = [1, 3, 5, 7]"
      ],
      "metadata": {
        "id": "NpSRBhfBEZEA"
      },
      "execution_count": null,
      "outputs": []
    },
    {
      "cell_type": "code",
      "source": [
        "numbers = even + odd"
      ],
      "metadata": {
        "id": "ZUi2Lr89E4-z"
      },
      "execution_count": null,
      "outputs": []
    },
    {
      "cell_type": "code",
      "source": [
        "numbers"
      ],
      "metadata": {
        "colab": {
          "base_uri": "https://localhost:8080/"
        },
        "id": "JQde7WLAE42r",
        "outputId": "9ce8f03d-ffc2-4af7-d3fd-a34c0a085ec7"
      },
      "execution_count": null,
      "outputs": [
        {
          "output_type": "execute_result",
          "data": {
            "text/plain": [
              "[2, 4, 6, 8, 1, 3, 5, 7]"
            ]
          },
          "metadata": {},
          "execution_count": 62
        }
      ]
    },
    {
      "cell_type": "code",
      "source": [
        "print(sorted(numbers))"
      ],
      "metadata": {
        "colab": {
          "base_uri": "https://localhost:8080/"
        },
        "id": "KnWbsTMMFB2j",
        "outputId": "04fbb9b0-c198-46fd-e261-93eb97815296"
      },
      "execution_count": null,
      "outputs": [
        {
          "output_type": "stream",
          "name": "stdout",
          "text": [
            "[1, 2, 3, 4, 5, 6, 7, 8]\n"
          ]
        }
      ]
    },
    {
      "cell_type": "code",
      "source": [
        "len(numbers)"
      ],
      "metadata": {
        "colab": {
          "base_uri": "https://localhost:8080/"
        },
        "id": "H6ARlHlOFFqJ",
        "outputId": "3bd6f6a8-01e4-4287-bb5d-225168f12e4d"
      },
      "execution_count": null,
      "outputs": [
        {
          "output_type": "execute_result",
          "data": {
            "text/plain": [
              "8"
            ]
          },
          "metadata": {},
          "execution_count": 66
        }
      ]
    },
    {
      "cell_type": "code",
      "source": [
        "max(numbers)"
      ],
      "metadata": {
        "colab": {
          "base_uri": "https://localhost:8080/"
        },
        "id": "6mSz7DytFg5F",
        "outputId": "03177ad9-fc3e-4ca5-9012-d10c62343f23"
      },
      "execution_count": null,
      "outputs": [
        {
          "output_type": "execute_result",
          "data": {
            "text/plain": [
              "8"
            ]
          },
          "metadata": {},
          "execution_count": 67
        }
      ]
    },
    {
      "cell_type": "code",
      "source": [
        "min(numbers)"
      ],
      "metadata": {
        "id": "idsy_Gc3FnCD",
        "outputId": "b2455f45-bab0-4f30-c1c7-c1383e66fe7d",
        "colab": {
          "base_uri": "https://localhost:8080/"
        }
      },
      "execution_count": null,
      "outputs": [
        {
          "output_type": "execute_result",
          "data": {
            "text/plain": [
              "1"
            ]
          },
          "metadata": {},
          "execution_count": 68
        }
      ]
    },
    {
      "cell_type": "markdown",
      "source": [
        "### Dictionaries"
      ],
      "metadata": {
        "id": "ud-TgEelsjD2"
      }
    },
    {
      "cell_type": "markdown",
      "source": [
        "#### 1) Define a dictionary"
      ],
      "metadata": {
        "id": "FjtSNbLIFnTO"
      }
    },
    {
      "cell_type": "code",
      "source": [
        "my_dict = {\"key1\":\"value1\", \"key2\":\"value2\"}\n",
        "my_dict"
      ],
      "metadata": {
        "colab": {
          "base_uri": "https://localhost:8080/"
        },
        "id": "5BN1lMhTssoP",
        "outputId": "a28b47d2-9282-405e-fd84-bc5cdb50e94c"
      },
      "execution_count": null,
      "outputs": [
        {
          "output_type": "execute_result",
          "data": {
            "text/plain": [
              "{'key1': 'value1', 'key2': 'value2'}"
            ]
          },
          "metadata": {},
          "execution_count": 8
        }
      ]
    },
    {
      "cell_type": "code",
      "source": [
        "my_dict[\"key1\"]"
      ],
      "metadata": {
        "colab": {
          "base_uri": "https://localhost:8080/",
          "height": 36
        },
        "id": "D3CP4_GOssl6",
        "outputId": "ae98e862-5b90-44bc-dbc8-577862ca67fc"
      },
      "execution_count": null,
      "outputs": [
        {
          "output_type": "execute_result",
          "data": {
            "text/plain": [
              "'value1'"
            ],
            "application/vnd.google.colaboratory.intrinsic+json": {
              "type": "string"
            }
          },
          "metadata": {},
          "execution_count": 9
        }
      ]
    },
    {
      "cell_type": "code",
      "source": [
        "fruits = {\"Apple\":\"3\"}\n",
        "fruits"
      ],
      "metadata": {
        "colab": {
          "base_uri": "https://localhost:8080/"
        },
        "id": "06Z1TNcMssjb",
        "outputId": "98f657ea-09ff-4b77-bed6-95725de88a2a"
      },
      "execution_count": null,
      "outputs": [
        {
          "output_type": "execute_result",
          "data": {
            "text/plain": [
              "{'Apple': '3'}"
            ]
          },
          "metadata": {},
          "execution_count": 14
        }
      ]
    },
    {
      "cell_type": "code",
      "source": [
        "fruits[\"Apple\"]"
      ],
      "metadata": {
        "colab": {
          "base_uri": "https://localhost:8080/",
          "height": 36
        },
        "id": "3GeyREBXsshM",
        "outputId": "cf2d73c3-a8a4-42a0-9e58-a3b5507f4617"
      },
      "execution_count": null,
      "outputs": [
        {
          "output_type": "execute_result",
          "data": {
            "text/plain": [
              "'3'"
            ],
            "application/vnd.google.colaboratory.intrinsic+json": {
              "type": "string"
            }
          },
          "metadata": {},
          "execution_count": 19
        }
      ]
    },
    {
      "cell_type": "markdown",
      "source": [
        "#### 2) Dicitionaries with all data's types"
      ],
      "metadata": {
        "id": "JXbXoYoBssej"
      }
    },
    {
      "cell_type": "code",
      "source": [
        "new_dict = {\"k2\":[15, 25, 32], \"k3\": \"Apple\"}\n",
        "new_dict"
      ],
      "metadata": {
        "colab": {
          "base_uri": "https://localhost:8080/"
        },
        "id": "4m-S3UTEssb2",
        "outputId": "60d28061-c9d6-4131-dd67-9045ea99f7f9"
      },
      "execution_count": null,
      "outputs": [
        {
          "output_type": "execute_result",
          "data": {
            "text/plain": [
              "{'k2': [15, 25, 32], 'k3': 'Apple'}"
            ]
          },
          "metadata": {},
          "execution_count": 21
        }
      ]
    },
    {
      "cell_type": "code",
      "source": [
        "new_dict[\"k2\"]"
      ],
      "metadata": {
        "colab": {
          "base_uri": "https://localhost:8080/"
        },
        "id": "JHEUfFQrssZB",
        "outputId": "9542e9b7-00d5-4b34-965d-074ca0ad81dc"
      },
      "execution_count": null,
      "outputs": [
        {
          "output_type": "execute_result",
          "data": {
            "text/plain": [
              "[15, 25, 32]"
            ]
          },
          "metadata": {},
          "execution_count": 18
        }
      ]
    },
    {
      "cell_type": "code",
      "source": [
        "new_dict[\"k2\"][1]"
      ],
      "metadata": {
        "colab": {
          "base_uri": "https://localhost:8080/"
        },
        "id": "eUL_5LLkuk-I",
        "outputId": "8209d776-d24e-4ffc-9925-82ff1d300279"
      },
      "execution_count": null,
      "outputs": [
        {
          "output_type": "execute_result",
          "data": {
            "text/plain": [
              "25"
            ]
          },
          "metadata": {},
          "execution_count": 20
        }
      ]
    },
    {
      "cell_type": "code",
      "source": [
        "d = {\"students\": [\"a\", \"b\", \"c\", \"d\", \"e\", \"Hello\"]}"
      ],
      "metadata": {
        "id": "B8MEq1Fwuk0o"
      },
      "execution_count": null,
      "outputs": []
    },
    {
      "cell_type": "code",
      "source": [
        "d"
      ],
      "metadata": {
        "colab": {
          "base_uri": "https://localhost:8080/"
        },
        "id": "pDCkhqpnuvMq",
        "outputId": "1e84b123-65b4-4dd8-a25c-b269d38924c7"
      },
      "execution_count": null,
      "outputs": [
        {
          "output_type": "execute_result",
          "data": {
            "text/plain": [
              "{'students': ['a', 'b', 'c', 'd', 'e', 'Hello']}"
            ]
          },
          "metadata": {},
          "execution_count": 24
        }
      ]
    },
    {
      "cell_type": "code",
      "source": [
        "d[\"students\"][-1]"
      ],
      "metadata": {
        "colab": {
          "base_uri": "https://localhost:8080/",
          "height": 36
        },
        "id": "J2LUDUWNvA0y",
        "outputId": "ad379e34-2971-43bf-ca0f-702c232bbd05"
      },
      "execution_count": null,
      "outputs": [
        {
          "output_type": "execute_result",
          "data": {
            "text/plain": [
              "'Hello'"
            ],
            "application/vnd.google.colaboratory.intrinsic+json": {
              "type": "string"
            }
          },
          "metadata": {},
          "execution_count": 26
        }
      ]
    },
    {
      "cell_type": "code",
      "source": [
        "d"
      ],
      "metadata": {
        "colab": {
          "base_uri": "https://localhost:8080/"
        },
        "id": "Pr90FhFVvEro",
        "outputId": "c51515c1-49f3-4b68-c0e4-853031d9ed41"
      },
      "execution_count": null,
      "outputs": [
        {
          "output_type": "execute_result",
          "data": {
            "text/plain": [
              "{'students': ['a', 'b', 'c', 'd', 'e', 'Hello']}"
            ]
          },
          "metadata": {},
          "execution_count": 27
        }
      ]
    },
    {
      "cell_type": "code",
      "source": [
        "d[\"students\"][2].upper()"
      ],
      "metadata": {
        "colab": {
          "base_uri": "https://localhost:8080/",
          "height": 36
        },
        "id": "1c9CTn_1vPQr",
        "outputId": "f58992b0-12c6-4468-a39d-f04b86b3c6ad"
      },
      "execution_count": null,
      "outputs": [
        {
          "output_type": "execute_result",
          "data": {
            "text/plain": [
              "'C'"
            ],
            "application/vnd.google.colaboratory.intrinsic+json": {
              "type": "string"
            }
          },
          "metadata": {},
          "execution_count": 30
        }
      ]
    },
    {
      "cell_type": "markdown",
      "source": [
        "#### 3) Add some values"
      ],
      "metadata": {
        "id": "lPAVQHWRvPOI"
      }
    },
    {
      "cell_type": "code",
      "source": [
        "d = {\"k1\":\"100\", \"k2\":\"300\"}"
      ],
      "metadata": {
        "id": "BHVm5rhSvPLw"
      },
      "execution_count": null,
      "outputs": []
    },
    {
      "cell_type": "code",
      "source": [
        "d"
      ],
      "metadata": {
        "colab": {
          "base_uri": "https://localhost:8080/"
        },
        "id": "_kDh5l_mvPCy",
        "outputId": "b7e2e4b6-4758-4d3f-b7c2-d3ac80bae618"
      },
      "execution_count": null,
      "outputs": [
        {
          "output_type": "execute_result",
          "data": {
            "text/plain": [
              "{'k1': '100', 'k2': '300'}"
            ]
          },
          "metadata": {},
          "execution_count": 32
        }
      ]
    },
    {
      "cell_type": "code",
      "source": [
        "d['k3'] = 100"
      ],
      "metadata": {
        "id": "JtNru49Fv9-6"
      },
      "execution_count": null,
      "outputs": []
    },
    {
      "cell_type": "code",
      "source": [
        "d"
      ],
      "metadata": {
        "colab": {
          "base_uri": "https://localhost:8080/"
        },
        "id": "-TcWzmKfwBn0",
        "outputId": "06af37e0-8339-494b-d732-b17537bf1d56"
      },
      "execution_count": null,
      "outputs": [
        {
          "output_type": "execute_result",
          "data": {
            "text/plain": [
              "{'k1': '100', 'k2': '300', 'k3': 100}"
            ]
          },
          "metadata": {},
          "execution_count": 34
        }
      ]
    },
    {
      "cell_type": "markdown",
      "source": [
        "#### 4) Replace Values"
      ],
      "metadata": {
        "id": "_8e9hFn-wCoW"
      }
    },
    {
      "cell_type": "code",
      "source": [
        "d"
      ],
      "metadata": {
        "colab": {
          "base_uri": "https://localhost:8080/"
        },
        "id": "v8ypzsCZwFn5",
        "outputId": "dfaf2810-4721-41e2-d28f-f0fcfe9565ab"
      },
      "execution_count": null,
      "outputs": [
        {
          "output_type": "execute_result",
          "data": {
            "text/plain": [
              "{'k1': '100', 'k2': '300', 'k3': 100}"
            ]
          },
          "metadata": {},
          "execution_count": 36
        }
      ]
    },
    {
      "cell_type": "code",
      "source": [
        "d['k1'] = \"New Values\""
      ],
      "metadata": {
        "id": "2MuV7_QYwHrR"
      },
      "execution_count": null,
      "outputs": []
    },
    {
      "cell_type": "code",
      "source": [
        "d"
      ],
      "metadata": {
        "colab": {
          "base_uri": "https://localhost:8080/"
        },
        "id": "YALfx0PWwOp2",
        "outputId": "91f1dc5a-371d-4699-c696-7c910d6125f3"
      },
      "execution_count": null,
      "outputs": [
        {
          "output_type": "execute_result",
          "data": {
            "text/plain": [
              "{'k1': 'New Values', 'k2': '300', 'k3': 100}"
            ]
          },
          "metadata": {},
          "execution_count": 39
        }
      ]
    },
    {
      "cell_type": "code",
      "source": [
        "d.keys()"
      ],
      "metadata": {
        "colab": {
          "base_uri": "https://localhost:8080/"
        },
        "id": "ZVXawK-rwUkO",
        "outputId": "e0b77144-0f42-4e98-c6cf-53312f9d3a27"
      },
      "execution_count": null,
      "outputs": [
        {
          "output_type": "execute_result",
          "data": {
            "text/plain": [
              "dict_keys(['k1', 'k2', 'k3'])"
            ]
          },
          "metadata": {},
          "execution_count": 40
        }
      ]
    },
    {
      "cell_type": "code",
      "source": [
        "d.items()"
      ],
      "metadata": {
        "colab": {
          "base_uri": "https://localhost:8080/"
        },
        "id": "HXWL9H8rwYE4",
        "outputId": "2621c619-7fff-4e0d-92bd-9c47b61559ce"
      },
      "execution_count": null,
      "outputs": [
        {
          "output_type": "execute_result",
          "data": {
            "text/plain": [
              "dict_items([('k1', 'New Values'), ('k2', '300'), ('k3', 100)])"
            ]
          },
          "metadata": {},
          "execution_count": 41
        }
      ]
    },
    {
      "cell_type": "code",
      "source": [
        "# 1) Define a Dictionary\n",
        "# 2) Dictionaries with all data's types\n",
        "# 3) Add some values\n",
        "# 4) Replace values\n",
        "# 5) Keys, Values, and Item's Retreival"
      ],
      "metadata": {
        "id": "-xK3X3C9walK"
      },
      "execution_count": 54,
      "outputs": []
    },
    {
      "cell_type": "markdown",
      "source": [
        "## Tuples"
      ],
      "metadata": {
        "id": "X-phS-wFArSH"
      }
    },
    {
      "cell_type": "code",
      "source": [
        "## Define a Tuple\n",
        "prime_numbers = (2,3,5,7,11)\n",
        "type(prime_numbers)"
      ],
      "metadata": {
        "colab": {
          "base_uri": "https://localhost:8080/"
        },
        "id": "XpTKVHf_Awwn",
        "outputId": "8c89a834-8743-4de6-c644-20b630f83b93"
      },
      "execution_count": 55,
      "outputs": [
        {
          "output_type": "execute_result",
          "data": {
            "text/plain": [
              "tuple"
            ]
          },
          "metadata": {},
          "execution_count": 55
        }
      ]
    },
    {
      "cell_type": "code",
      "source": [
        "prime_numbers"
      ],
      "metadata": {
        "colab": {
          "base_uri": "https://localhost:8080/"
        },
        "id": "0WHJmL31AyTd",
        "outputId": "a69efc9c-3658-472e-c364-6191e4b1df97"
      },
      "execution_count": 56,
      "outputs": [
        {
          "output_type": "execute_result",
          "data": {
            "text/plain": [
              "(2, 3, 5, 7, 11)"
            ]
          },
          "metadata": {},
          "execution_count": 56
        }
      ]
    },
    {
      "cell_type": "code",
      "source": [
        "perfect_squares = [1, 4, 9, 16, 25, 36, 49, 64, 81, 100, 121]\n",
        "type(perfect_squares)"
      ],
      "metadata": {
        "colab": {
          "base_uri": "https://localhost:8080/"
        },
        "id": "8ihi77L6AyQ3",
        "outputId": "8c2edb06-6229-4353-8b54-65e629ddada1"
      },
      "execution_count": 71,
      "outputs": [
        {
          "output_type": "execute_result",
          "data": {
            "text/plain": [
              "list"
            ]
          },
          "metadata": {},
          "execution_count": 71
        }
      ]
    },
    {
      "cell_type": "code",
      "source": [
        "len(prime_numbers)"
      ],
      "metadata": {
        "colab": {
          "base_uri": "https://localhost:8080/"
        },
        "id": "CBGEo6IjAyOb",
        "outputId": "57aef7c3-eb8b-4521-8a05-4d85ee7ff1de"
      },
      "execution_count": 58,
      "outputs": [
        {
          "output_type": "execute_result",
          "data": {
            "text/plain": [
              "5"
            ]
          },
          "metadata": {},
          "execution_count": 58
        }
      ]
    },
    {
      "cell_type": "code",
      "source": [
        "len(perfect_squares)"
      ],
      "metadata": {
        "colab": {
          "base_uri": "https://localhost:8080/"
        },
        "id": "eKiPo8s8AyLv",
        "outputId": "5993f169-f50f-4c3b-be76-3d3ace739efa"
      },
      "execution_count": 59,
      "outputs": [
        {
          "output_type": "execute_result",
          "data": {
            "text/plain": [
              "6"
            ]
          },
          "metadata": {},
          "execution_count": 59
        }
      ]
    },
    {
      "cell_type": "code",
      "source": [
        "my_tuple = (\"Hieee\", 100, 12.47, 65, 89, 'prime')"
      ],
      "metadata": {
        "id": "YkAcyKh0AyJF"
      },
      "execution_count": 67,
      "outputs": []
    },
    {
      "cell_type": "code",
      "source": [
        "my_tuple"
      ],
      "metadata": {
        "colab": {
          "base_uri": "https://localhost:8080/"
        },
        "id": "8YPHR4mqAyGK",
        "outputId": "7bc68117-9496-428a-ce2e-e9b435bfd56f"
      },
      "execution_count": 68,
      "outputs": [
        {
          "output_type": "execute_result",
          "data": {
            "text/plain": [
              "('Hieee', 100, 12.47, 65, 89, 'prime')"
            ]
          },
          "metadata": {},
          "execution_count": 68
        }
      ]
    },
    {
      "cell_type": "markdown",
      "source": [
        "### Indexing in Tuples"
      ],
      "metadata": {
        "id": "caF4_ryMB3yZ"
      }
    },
    {
      "cell_type": "code",
      "source": [
        "my_tuple[0]"
      ],
      "metadata": {
        "colab": {
          "base_uri": "https://localhost:8080/",
          "height": 36
        },
        "id": "fX7AlswBB5_3",
        "outputId": "4e8e12b3-22bc-45a7-a1e1-740b1ff9695b"
      },
      "execution_count": 63,
      "outputs": [
        {
          "output_type": "execute_result",
          "data": {
            "text/plain": [
              "'Hieee'"
            ],
            "application/vnd.google.colaboratory.intrinsic+json": {
              "type": "string"
            }
          },
          "metadata": {},
          "execution_count": 63
        }
      ]
    },
    {
      "cell_type": "code",
      "source": [
        "my_tuple[1]"
      ],
      "metadata": {
        "colab": {
          "base_uri": "https://localhost:8080/"
        },
        "id": "RFtgdEUuB9G2",
        "outputId": "9a8b706b-4d31-42e1-ce07-62a12f5ce9ce"
      },
      "execution_count": 64,
      "outputs": [
        {
          "output_type": "execute_result",
          "data": {
            "text/plain": [
              "100"
            ]
          },
          "metadata": {},
          "execution_count": 64
        }
      ]
    },
    {
      "cell_type": "code",
      "source": [
        "my_tuple[0:3]"
      ],
      "metadata": {
        "colab": {
          "base_uri": "https://localhost:8080/"
        },
        "id": "top1UoHRB-Du",
        "outputId": "ff00dc35-1731-42b6-f8f4-46288ff18502"
      },
      "execution_count": 69,
      "outputs": [
        {
          "output_type": "execute_result",
          "data": {
            "text/plain": [
              "('Hieee', 100, 12.47)"
            ]
          },
          "metadata": {},
          "execution_count": 69
        }
      ]
    },
    {
      "cell_type": "code",
      "source": [
        "perfect_squares[0:2]"
      ],
      "metadata": {
        "colab": {
          "base_uri": "https://localhost:8080/"
        },
        "id": "j04LMl6bCDcg",
        "outputId": "93a97dd1-1926-428f-cbb9-f8646661872e"
      },
      "execution_count": 70,
      "outputs": [
        {
          "output_type": "execute_result",
          "data": {
            "text/plain": [
              "[1, 4]"
            ]
          },
          "metadata": {},
          "execution_count": 70
        }
      ]
    },
    {
      "cell_type": "code",
      "source": [
        "perfect_squares[2:5]"
      ],
      "metadata": {
        "colab": {
          "base_uri": "https://localhost:8080/"
        },
        "id": "ewU07KplClmi",
        "outputId": "26b67c85-2b45-4822-c852-64fcb388d044"
      },
      "execution_count": 72,
      "outputs": [
        {
          "output_type": "execute_result",
          "data": {
            "text/plain": [
              "[9, 16, 25]"
            ]
          },
          "metadata": {},
          "execution_count": 72
        }
      ]
    },
    {
      "cell_type": "code",
      "source": [
        "my_tuple.count(100)\n",
        "# counts how many instances are within the tuple"
      ],
      "metadata": {
        "colab": {
          "base_uri": "https://localhost:8080/"
        },
        "id": "tgh_UByoDAeO",
        "outputId": "23ea732c-71ca-4a4e-920a-288cbcb8609d"
      },
      "execution_count": 74,
      "outputs": [
        {
          "output_type": "execute_result",
          "data": {
            "text/plain": [
              "1"
            ]
          },
          "metadata": {},
          "execution_count": 74
        }
      ]
    },
    {
      "cell_type": "code",
      "source": [
        "my_tuple[3]\n",
        "# Note: You can not change anything within the tuple while a list, you can change the index"
      ],
      "metadata": {
        "colab": {
          "base_uri": "https://localhost:8080/"
        },
        "id": "vl_MWB8jDIWK",
        "outputId": "d040aca9-8101-4687-94f7-03f03bac3e36"
      },
      "execution_count": 76,
      "outputs": [
        {
          "output_type": "execute_result",
          "data": {
            "text/plain": [
              "65"
            ]
          },
          "metadata": {},
          "execution_count": 76
        }
      ]
    },
    {
      "cell_type": "code",
      "source": [
        "# Define a tuple\n",
        "# indexing in tuple\n",
        "# Difference between the list and tuple"
      ],
      "metadata": {
        "id": "ghbHaXnPDmR1"
      },
      "execution_count": 77,
      "outputs": []
    },
    {
      "cell_type": "markdown",
      "source": [
        "## Sets"
      ],
      "metadata": {
        "id": "G8aeRqs-D2dI"
      }
    },
    {
      "cell_type": "code",
      "source": [
        "my_set = set()"
      ],
      "metadata": {
        "id": "d8p5jVSYD3z4"
      },
      "execution_count": 80,
      "outputs": []
    },
    {
      "cell_type": "code",
      "source": [
        "my_list = [1,1,2,2,3,3,\"Apple\",\"Apple\"]"
      ],
      "metadata": {
        "id": "WUlDWP-HD8XM"
      },
      "execution_count": 81,
      "outputs": []
    },
    {
      "cell_type": "code",
      "source": [
        "set(my_list)\n",
        "# set is the data structure where data can not be repeated"
      ],
      "metadata": {
        "colab": {
          "base_uri": "https://localhost:8080/"
        },
        "id": "y4Z7pupsEHdW",
        "outputId": "2d8c49db-5a7b-4506-c889-c8fc6b9e6b54"
      },
      "execution_count": 83,
      "outputs": [
        {
          "output_type": "execute_result",
          "data": {
            "text/plain": [
              "{1, 2, 3, 'Apple'}"
            ]
          },
          "metadata": {},
          "execution_count": 83
        }
      ]
    },
    {
      "cell_type": "code",
      "source": [
        "my_set"
      ],
      "metadata": {
        "colab": {
          "base_uri": "https://localhost:8080/"
        },
        "id": "9UwvDu7-EI2O",
        "outputId": "06357ccf-f2f8-4c9c-ae0b-dc9bc059f32e"
      },
      "execution_count": 84,
      "outputs": [
        {
          "output_type": "execute_result",
          "data": {
            "text/plain": [
              "set()"
            ]
          },
          "metadata": {},
          "execution_count": 84
        }
      ]
    },
    {
      "cell_type": "code",
      "source": [
        "my_set.add(23)"
      ],
      "metadata": {
        "id": "4GMRhTP3ENnm"
      },
      "execution_count": 85,
      "outputs": []
    },
    {
      "cell_type": "code",
      "source": [
        "my_set"
      ],
      "metadata": {
        "colab": {
          "base_uri": "https://localhost:8080/"
        },
        "id": "SJ-8pjIVET6-",
        "outputId": "e3cd3b19-43e3-4cf0-9cfd-92e76f5c934f"
      },
      "execution_count": 86,
      "outputs": [
        {
          "output_type": "execute_result",
          "data": {
            "text/plain": [
              "{23}"
            ]
          },
          "metadata": {},
          "execution_count": 86
        }
      ]
    },
    {
      "cell_type": "code",
      "source": [
        "my_set.add(23)"
      ],
      "metadata": {
        "id": "fTAljr6KEUfg"
      },
      "execution_count": 87,
      "outputs": []
    },
    {
      "cell_type": "code",
      "source": [
        "my_set.add(23)"
      ],
      "metadata": {
        "id": "J0gIa753EZKN"
      },
      "execution_count": 88,
      "outputs": []
    },
    {
      "cell_type": "code",
      "source": [
        "my_set\n",
        "# can not be repeated as shown on top"
      ],
      "metadata": {
        "colab": {
          "base_uri": "https://localhost:8080/"
        },
        "id": "Eg5k3SJfEZeo",
        "outputId": "8f54baad-95bb-448f-a0c9-ee439504327d"
      },
      "execution_count": 90,
      "outputs": [
        {
          "output_type": "execute_result",
          "data": {
            "text/plain": [
              "{23}"
            ]
          },
          "metadata": {},
          "execution_count": 90
        }
      ]
    },
    {
      "cell_type": "markdown",
      "source": [
        "## Strings Part 2"
      ],
      "metadata": {
        "id": "xmoprPmPEaM8"
      }
    },
    {
      "cell_type": "markdown",
      "source": [
        "### 1) Concentation of the string's"
      ],
      "metadata": {
        "id": "zNTVMoncEzKf"
      }
    },
    {
      "cell_type": "code",
      "source": [
        "greeting = \"Hello\""
      ],
      "metadata": {
        "id": "moGX5ElVEzHv"
      },
      "execution_count": 93,
      "outputs": []
    },
    {
      "cell_type": "code",
      "source": [
        "name = \"Mark\""
      ],
      "metadata": {
        "id": "estS7nasEzFE"
      },
      "execution_count": 94,
      "outputs": []
    },
    {
      "cell_type": "code",
      "source": [
        "print(greeting + name)"
      ],
      "metadata": {
        "colab": {
          "base_uri": "https://localhost:8080/"
        },
        "id": "D81D0Gy9EzCf",
        "outputId": "20279878-8e1a-4908-e7d1-037e005bf91a"
      },
      "execution_count": 95,
      "outputs": [
        {
          "output_type": "stream",
          "name": "stdout",
          "text": [
            "HelloMark\n"
          ]
        }
      ]
    },
    {
      "cell_type": "code",
      "source": [
        "print(greeting + \" \" + name)"
      ],
      "metadata": {
        "colab": {
          "base_uri": "https://localhost:8080/"
        },
        "id": "J0fn1wcTEy_p",
        "outputId": "2a12d76a-db39-4ff6-adc9-ab1225b6caac"
      },
      "execution_count": 96,
      "outputs": [
        {
          "output_type": "stream",
          "name": "stdout",
          "text": [
            "Hello Mark\n"
          ]
        }
      ]
    },
    {
      "cell_type": "markdown",
      "source": [
        "### 2) Input Function"
      ],
      "metadata": {
        "id": "wLrXmMIBEy8H"
      }
    },
    {
      "cell_type": "code",
      "source": [
        "name = input(\"What is your name: \")"
      ],
      "metadata": {
        "colab": {
          "base_uri": "https://localhost:8080/"
        },
        "id": "uCRxrPA5Eo5C",
        "outputId": "b71db4ce-c789-442d-9bfe-2abdc01eef17"
      },
      "execution_count": 101,
      "outputs": [
        {
          "name": "stdout",
          "output_type": "stream",
          "text": [
            "What is your name: John\n"
          ]
        }
      ]
    },
    {
      "cell_type": "code",
      "source": [
        "print(greeting + \" \" + name)"
      ],
      "metadata": {
        "colab": {
          "base_uri": "https://localhost:8080/"
        },
        "id": "IEtHuUrJFats",
        "outputId": "dbc642a8-4996-47de-b03a-e9cbe227d80e"
      },
      "execution_count": 102,
      "outputs": [
        {
          "output_type": "stream",
          "name": "stdout",
          "text": [
            "Hello John\n"
          ]
        }
      ]
    },
    {
      "cell_type": "markdown",
      "source": [
        "### 3) Indexing Strings"
      ],
      "metadata": {
        "id": "VjpxqAF1Fpbl"
      }
    },
    {
      "cell_type": "code",
      "source": [
        "color = \"Orange\""
      ],
      "metadata": {
        "id": "1___B2FsF5K0"
      },
      "execution_count": 103,
      "outputs": []
    },
    {
      "cell_type": "code",
      "source": [
        "len(color)"
      ],
      "metadata": {
        "colab": {
          "base_uri": "https://localhost:8080/"
        },
        "id": "Ma9M8LmUF5IX",
        "outputId": "ab641bbf-aabc-439d-cff5-5325e0d6e8d2"
      },
      "execution_count": 104,
      "outputs": [
        {
          "output_type": "execute_result",
          "data": {
            "text/plain": [
              "6"
            ]
          },
          "metadata": {},
          "execution_count": 104
        }
      ]
    },
    {
      "cell_type": "code",
      "source": [
        "color[3]"
      ],
      "metadata": {
        "colab": {
          "base_uri": "https://localhost:8080/",
          "height": 36
        },
        "id": "DQdF8yJUF5FT",
        "outputId": "98851dd8-c23a-4ef3-d0da-e39e1f86ab0c"
      },
      "execution_count": 105,
      "outputs": [
        {
          "output_type": "execute_result",
          "data": {
            "text/plain": [
              "'n'"
            ],
            "application/vnd.google.colaboratory.intrinsic+json": {
              "type": "string"
            }
          },
          "metadata": {},
          "execution_count": 105
        }
      ]
    },
    {
      "cell_type": "code",
      "source": [
        "color[-1]"
      ],
      "metadata": {
        "colab": {
          "base_uri": "https://localhost:8080/",
          "height": 36
        },
        "id": "esPdYGuxF5C2",
        "outputId": "a7b90965-6f39-4532-eea9-ffe25427e3c2"
      },
      "execution_count": 107,
      "outputs": [
        {
          "output_type": "execute_result",
          "data": {
            "text/plain": [
              "'e'"
            ],
            "application/vnd.google.colaboratory.intrinsic+json": {
              "type": "string"
            }
          },
          "metadata": {},
          "execution_count": 107
        }
      ]
    },
    {
      "cell_type": "code",
      "source": [
        "color[-2]"
      ],
      "metadata": {
        "colab": {
          "base_uri": "https://localhost:8080/",
          "height": 36
        },
        "id": "cST4TrgHGEbF",
        "outputId": "d0716991-0983-4221-9961-0f3a063a1993"
      },
      "execution_count": 108,
      "outputs": [
        {
          "output_type": "execute_result",
          "data": {
            "text/plain": [
              "'g'"
            ],
            "application/vnd.google.colaboratory.intrinsic+json": {
              "type": "string"
            }
          },
          "metadata": {},
          "execution_count": 108
        }
      ]
    },
    {
      "cell_type": "code",
      "source": [
        "color[2:-1]"
      ],
      "metadata": {
        "colab": {
          "base_uri": "https://localhost:8080/",
          "height": 36
        },
        "id": "iTxWrqhxGHL3",
        "outputId": "307f2a90-35b7-4d56-a465-7881c9833a37"
      },
      "execution_count": 109,
      "outputs": [
        {
          "output_type": "execute_result",
          "data": {
            "text/plain": [
              "'ang'"
            ],
            "application/vnd.google.colaboratory.intrinsic+json": {
              "type": "string"
            }
          },
          "metadata": {},
          "execution_count": 109
        }
      ]
    },
    {
      "cell_type": "markdown",
      "source": [
        "### 4) String Format"
      ],
      "metadata": {
        "id": "GQkiMBoxGQAH"
      }
    },
    {
      "cell_type": "code",
      "source": [
        "age = 27"
      ],
      "metadata": {
        "id": "cW-5Cu_DGZ_5"
      },
      "execution_count": 114,
      "outputs": []
    },
    {
      "cell_type": "code",
      "source": [
        "print(\"My age is \" + str(age) + \" years old\")"
      ],
      "metadata": {
        "colab": {
          "base_uri": "https://localhost:8080/"
        },
        "id": "niN5WJomGZ5G",
        "outputId": "eba23223-4314-4b27-e0e3-de212b5a6554"
      },
      "execution_count": 116,
      "outputs": [
        {
          "output_type": "stream",
          "name": "stdout",
          "text": [
            "My age is 27 years old\n"
          ]
        }
      ]
    },
    {
      "cell_type": "code",
      "source": [
        "print(\"The Colors are {} {} {} \".format(\"red\", \"green\", \"blue\")) # Implicit"
      ],
      "metadata": {
        "colab": {
          "base_uri": "https://localhost:8080/"
        },
        "id": "irXi0A8FGZ2W",
        "outputId": "1bfe0063-5d77-4c4b-9757-9e601a2c04f1"
      },
      "execution_count": 119,
      "outputs": [
        {
          "output_type": "stream",
          "name": "stdout",
          "text": [
            "The Colors are red green blue \n"
          ]
        }
      ]
    },
    {
      "cell_type": "code",
      "source": [
        "print(\"The Colors are {0} {1} {2} \".format(\"red\", \"green\", \"blue\")) # Explicit"
      ],
      "metadata": {
        "colab": {
          "base_uri": "https://localhost:8080/"
        },
        "id": "YqpiZU2SGZzQ",
        "outputId": "7544cd33-91c3-4097-e80b-0bd29d69a064"
      },
      "execution_count": 120,
      "outputs": [
        {
          "output_type": "stream",
          "name": "stdout",
          "text": [
            "The Colors are red green blue \n"
          ]
        }
      ]
    },
    {
      "cell_type": "code",
      "source": [
        "print(\"The Colors are {0} {0} {0} \".format(\"red\", \"green\", \"blue\")) # Explicit"
      ],
      "metadata": {
        "colab": {
          "base_uri": "https://localhost:8080/"
        },
        "id": "tH4r75C4HTid",
        "outputId": "ced56576-be77-413f-b5ce-142e80cdb837"
      },
      "execution_count": 122,
      "outputs": [
        {
          "output_type": "stream",
          "name": "stdout",
          "text": [
            "The Colors are red red red \n"
          ]
        }
      ]
    },
    {
      "cell_type": "code",
      "source": [
        "print(\"The Colors are {r} {g} {b} \".format(r = \"red\", g= \"green\", b=\"blue\"))"
      ],
      "metadata": {
        "colab": {
          "base_uri": "https://localhost:8080/"
        },
        "id": "bWVDD9XEHah_",
        "outputId": "9ca04141-4e27-4273-cbc3-886d21edea5b"
      },
      "execution_count": 123,
      "outputs": [
        {
          "output_type": "stream",
          "name": "stdout",
          "text": [
            "The Colors are red green blue \n"
          ]
        }
      ]
    },
    {
      "cell_type": "code",
      "source": [
        "print(\"The Colors are {r} {r} {r} \".format(r = \"red\", g= \"green\", b=\"blue\"))"
      ],
      "metadata": {
        "colab": {
          "base_uri": "https://localhost:8080/"
        },
        "id": "VnS27HvlHlSA",
        "outputId": "39f52029-ceb5-40e7-d0ba-8e906845bd18"
      },
      "execution_count": 125,
      "outputs": [
        {
          "output_type": "stream",
          "name": "stdout",
          "text": [
            "The Colors are red red red \n"
          ]
        }
      ]
    },
    {
      "cell_type": "code",
      "source": [
        "pi = 3.1415"
      ],
      "metadata": {
        "id": "vZkzemqXHpw8"
      },
      "execution_count": 126,
      "outputs": []
    },
    {
      "cell_type": "code",
      "source": [
        "print(\"The value of pi is {} \".format(pi)) # general method"
      ],
      "metadata": {
        "colab": {
          "base_uri": "https://localhost:8080/"
        },
        "id": "fciLgtwKHtRP",
        "outputId": "91f6134c-98e9-4dc3-9d1d-5977a3be8b6a"
      },
      "execution_count": 129,
      "outputs": [
        {
          "output_type": "stream",
          "name": "stdout",
          "text": [
            "The value of pi is 3.1415 \n"
          ]
        }
      ]
    },
    {
      "cell_type": "code",
      "source": [
        "print(f\"The value of pi is {pi}\") # professor method (elegant method)"
      ],
      "metadata": {
        "colab": {
          "base_uri": "https://localhost:8080/"
        },
        "id": "HxBZN3GwH-o1",
        "outputId": "545bfb99-9399-45b1-8984-a87ee99afdf3"
      },
      "execution_count": 131,
      "outputs": [
        {
          "output_type": "stream",
          "name": "stdout",
          "text": [
            "The value of pi is 3.1415\n"
          ]
        }
      ]
    },
    {
      "cell_type": "code",
      "source": [
        ""
      ],
      "metadata": {
        "id": "M4BXRf44IXVM"
      },
      "execution_count": null,
      "outputs": []
    }
  ]
}